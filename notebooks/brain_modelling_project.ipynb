{
  "cells": [
    {
      "cell_type": "markdown",
      "metadata": {
        "id": "0gZ1xflG0Ph2"
      },
      "source": [
        "# Goal\n",
        "\n",
        "Our aim was to change the structure and the parameters of the standard Vogels and Abbott (VA) Network, presented [here](https://github.com/albertoarturovergani/CNT-2024/blob/3d93c0d922ef2b6a57b0e4fde789f5d98b557733/notebooks/paper_balance-network.ipynb), and to understand how these changes impacted the results and behavior of the model.\n",
        "\n",
        "(NOTE: baseline code for functions etc. was taken from the source notebooks seen in the labs, contained in [this](https://github.com/albertoarturovergani/CNT-2024/tree/main/notebooks) GitHub repository)"
      ]
    },
    {
      "cell_type": "markdown",
      "metadata": {
        "id": "Cs86ECyk12DB"
      },
      "source": [
        "----------------------------------------------------------------------"
      ]
    },
    {
      "cell_type": "code",
      "execution_count": 94,
      "metadata": {
        "id": "imr2FQjYGWAv"
      },
      "outputs": [],
      "source": [
        "## CODICE DA INCLUDERE:"
      ]
    },
    {
      "cell_type": "code",
      "execution_count": 95,
      "metadata": {
        "id": "lqPB1KVqDlES"
      },
      "outputs": [],
      "source": [
        "def recover_results(outputs):\n",
        "    results = {}\n",
        "    for key in outputs.keys(): # to extract the name of the layer, e.g., Exc, Inh, Thalamus, etc\n",
        "        print(key)\n",
        "        # to get voltage and conductances\n",
        "        for analogsignal in outputs[key].segments[0].analogsignals:\n",
        "            print(analogsignal.name)\n",
        "            results[key, analogsignal.name] = analogsignal\n",
        "\n",
        "        # to get spikes\n",
        "        VAR=outputs[key].segments[0].spiketrains\n",
        "        results[key, 'spikes']=[]\n",
        "        for k in range(len(VAR)):\n",
        "            results[key, 'spikes'].append(np.array(list(VAR[k])).T,)\n",
        "    return results"
      ]
    },
    {
      "cell_type": "markdown",
      "metadata": {
        "id": "cKP4vhzr14Fv"
      },
      "source": [
        "(piccolo copia-incolla rapido iniziale del codice di riferimento)"
      ]
    },
    {
      "cell_type": "markdown",
      "metadata": {
        "id": "0FbpYZ-c2AC-"
      },
      "source": [
        "------------------------------------------------------------------------------\n"
      ]
    },
    {
      "cell_type": "code",
      "execution_count": 96,
      "metadata": {
        "id": "YixF2fSD11s7"
      },
      "outputs": [],
      "source": [
        "fileName='VA_balance-network'"
      ]
    },
    {
      "cell_type": "code",
      "execution_count": 97,
      "metadata": {
        "colab": {
          "base_uri": "https://localhost:8080/",
          "height": 559
        },
        "id": "eOdskzrU11s8",
        "outputId": "31785539-462b-4a9c-ee0e-de4f75959320"
      },
      "outputs": [
        {
          "name": "stdout",
          "output_type": "stream",
          "text": [
            "./outputs/VA_balance-network-2024-02-05T23:17:42.611133\n"
          ]
        }
      ],
      "source": [
        "import pyNN.spiNNaker as sim\n",
        "from pyNN import space\n",
        "import numpy as np\n",
        "import matplotlib.pyplot as plt\n",
        "import numpy as np\n",
        "import matplotlib.pyplot as plt\n",
        "import scipy\n",
        "import pickle\n",
        "import pandas as pd\n",
        "import seaborn as sns\n",
        "import time\n",
        "import datetime\n",
        "import json\n",
        "import warnings\n",
        "warnings.filterwarnings('ignore')\n",
        "import python_utils as pu\n",
        "%matplotlib inline\n",
        "\n",
        "savePath = f'./outputs/' # remember to create the folder if not already present (mkdir ./notebooks/outputs)\n",
        "dt_string = datetime.datetime.today().isoformat() # ISO8601 ! :-)\n",
        "tag = dt_string\n",
        "saveName = f'{savePath}{fileName}-{tag}'\n",
        "print(saveName)\n",
        "PARS={}\n"
      ]
    },
    {
      "cell_type": "markdown",
      "metadata": {
        "id": "TTRwFZqe11s9"
      },
      "source": [
        "# step0: import the simulator"
      ]
    },
    {
      "cell_type": "code",
      "execution_count": 98,
      "metadata": {
        "id": "-gaJ1bwn11s-"
      },
      "outputs": [],
      "source": [
        "import socket\n",
        "try:\n",
        "    import pyNN.spiNNaker as sim\n",
        "except ModuleNotFoundError:\n",
        "    import pyNN.brian2 as sim\n",
        "\n",
        "from pyNN.random import NumpyRNG, RandomDistribution\n",
        "from pyNN.utility.plotting import Figure, Panel\n",
        "import matplotlib.pyplot as plt\n",
        "import matplotlib.colors as colors\n",
        "import time\n",
        "from pyNN import space"
      ]
    },
    {
      "cell_type": "markdown",
      "metadata": {
        "id": "oDoMzjsm11s_"
      },
      "source": [
        "# step1: setup the simulator"
      ]
    },
    {
      "cell_type": "code",
      "execution_count": 99,
      "metadata": {
        "id": "rG_mXj2X11tA"
      },
      "outputs": [
        {
          "name": "stderr",
          "output_type": "stream",
          "text": [
            "2024-02-05 23:17:42 WARNING: max_delay is not supported by sPyNNaker so will be ignored\n",
            "2024-02-05 23:17:42 INFO: Read configs files: c:\\Users\\Manuel\\PycharmProjects\\pythonProject2\\CTSED\\.venv\\Lib\\site-packages\\spinn_utilities\\spinn_utilities.cfg, c:\\Users\\Manuel\\PycharmProjects\\pythonProject2\\CTSED\\.venv\\Lib\\site-packages\\spinn_machine\\spinn_machine.cfg, c:\\Users\\Manuel\\PycharmProjects\\pythonProject2\\CTSED\\.venv\\Lib\\site-packages\\pacman\\pacman.cfg, c:\\Users\\Manuel\\PycharmProjects\\pythonProject2\\CTSED\\.venv\\Lib\\site-packages\\spinnman\\spinnman.cfg, c:\\Users\\Manuel\\PycharmProjects\\pythonProject2\\CTSED\\.venv\\Lib\\site-packages\\spinn_front_end_common\\interface\\spinnaker.cfg, c:\\Users\\Manuel\\PycharmProjects\\pythonProject2\\CTSED\\.venv\\Lib\\site-packages\\spynnaker\\pyNN\\spynnaker.cfg, C:\\Users\\Manuel\\.spynnaker.cfg\n",
            "2024-02-05 23:17:42 INFO: Will search these locations for binaries: c:\\Users\\Manuel\\PycharmProjects\\pythonProject2\\CTSED\\.venv\\Lib\\site-packages\\spynnaker\\pyNN\\model_binaries : c:\\Users\\Manuel\\PycharmProjects\\pythonProject2\\CTSED\\.venv\\Lib\\site-packages\\spinn_front_end_common\\common_model_binaries\n",
            "2024-02-05 23:17:42 INFO: Setting hardware timestep as 1000 microseconds based on simulation time step of 1000 and timescale factor of 1.0\n"
          ]
        },
        {
          "name": "stdout",
          "output_type": "stream",
          "text": [
            "['c:\\\\Users\\\\Manuel\\\\PycharmProjects\\\\pythonProject2\\\\CTSED\\\\.venv\\\\Lib\\\\site-packages\\\\spinn_utilities\\\\spinn_utilities.cfg', 'c:\\\\Users\\\\Manuel\\\\PycharmProjects\\\\pythonProject2\\\\CTSED\\\\.venv\\\\Lib\\\\site-packages\\\\spinn_machine\\\\spinn_machine.cfg', 'c:\\\\Users\\\\Manuel\\\\PycharmProjects\\\\pythonProject2\\\\CTSED\\\\.venv\\\\Lib\\\\site-packages\\\\pacman\\\\pacman.cfg', 'c:\\\\Users\\\\Manuel\\\\PycharmProjects\\\\pythonProject2\\\\CTSED\\\\.venv\\\\Lib\\\\site-packages\\\\spinnman\\\\spinnman.cfg', 'c:\\\\Users\\\\Manuel\\\\PycharmProjects\\\\pythonProject2\\\\CTSED\\\\.venv\\\\Lib\\\\site-packages\\\\spinn_front_end_common\\\\interface\\\\spinnaker.cfg', 'c:\\\\Users\\\\Manuel\\\\PycharmProjects\\\\pythonProject2\\\\CTSED\\\\.venv\\\\Lib\\\\site-packages\\\\spynnaker\\\\pyNN\\\\spynnaker.cfg', 'C:\\\\Users\\\\Manuel\\\\.spynnaker.cfg']\n"
          ]
        }
      ],
      "source": [
        "dt = 1          # (ms) simulation timestep\n",
        "tstop = 1000      # (ms) simulaton duration\n",
        "delay = 2 # (ms)\n",
        "\n",
        "sim.setup(\n",
        "    timestep=dt,\n",
        "    min_delay=delay,\n",
        "    max_delay= dt * 144) # [ms] # not that the max_delay supported by SpiNNaker is timestep * 144\n",
        "\n",
        "rngseed = 98766987\n",
        "rng = NumpyRNG(seed=rngseed, parallel_safe=True)"
      ]
    },
    {
      "cell_type": "markdown",
      "metadata": {
        "id": "SNuWGJPx11tC"
      },
      "source": [
        "# step2: decide the cell types and parameters"
      ]
    },
    {
      "cell_type": "code",
      "execution_count": 100,
      "metadata": {
        "id": "lAhaei9X11tD"
      },
      "outputs": [
        {
          "name": "stdout",
          "output_type": "stream",
          "text": [
            "{'tau_m': 20.0, 'tau_syn_E': 5.0, 'tau_syn_I': 10.0, 'v_rest': -60.0, 'v_reset': -60.0, 'v_thresh': -50.0, 'cm': 0.2, 'tau_refrac': 5.0, 'i_offset': 0, 'e_rev_E': 0.0, 'e_rev_I': -80.0}\n"
          ]
        }
      ],
      "source": [
        "# cell type\n",
        "celltype = sim.IF_cond_exp\n",
        "#  Leaky integrate and fire model with fixed threshold and exponentially-decaying post-synaptic conductance.\n",
        "#  http://neuralensemble.org/docs/PyNN/_modules/pyNN/standardmodels/cells.html#IF_cond_exp\n",
        "\n",
        "# Cell parameters\n",
        "area = 20000.     # (µm²)\n",
        "tau_m = 20.       # (ms)\n",
        "cm = 1.           # (µF/cm²)\n",
        "g_leak = 5e-5     # (S/cm²)\n",
        "\n",
        "E_leak = None\n",
        "E_leak = -60.  # (mV)\n",
        "v_thresh = -50.   # (mV)\n",
        "v_reset = -60.    # (mV)\n",
        "t_refrac = 5.     # (ms) (clamped at v_reset)\n",
        "v_mean = -60.     # (mV) mean membrane potential, for calculating CUBA weights\n",
        "tau_exc = 5.      # (ms)\n",
        "tau_inh = 10.     # (ms)\n",
        "Erev_exc = 0.     # (mV)\n",
        "Erev_inh = -80.   # (mV)\n",
        "\n",
        "# === Calculate derived parameters ===\n",
        "area = area * 1e-8                     # convert to cm²\n",
        "cm = cm * area * 1000                  # convert to nF\n",
        "Rm = 1e-6 / (g_leak * area)            # membrane resistance in MΩ\n",
        "assert tau_m == cm * Rm                # just to check\n",
        "\n",
        "cell_params = {'tau_m': tau_m,\n",
        "               'tau_syn_E': tau_exc,\n",
        "               'tau_syn_I': tau_inh,\n",
        "               'v_rest': E_leak,\n",
        "               'v_reset': v_reset,\n",
        "               'v_thresh': v_thresh,\n",
        "               'cm': cm,\n",
        "               'tau_refrac': t_refrac,\n",
        "               'i_offset': 0\n",
        "               }\n",
        "\n",
        "cell_params['e_rev_E'] = Erev_exc\n",
        "cell_params['e_rev_I'] = Erev_inh\n",
        "\n",
        "print(cell_params)"
      ]
    },
    {
      "cell_type": "markdown",
      "metadata": {
        "id": "S9n3s13A11tD"
      },
      "source": [
        "# step3: making cell populations\n"
      ]
    },
    {
      "cell_type": "code",
      "execution_count": 101,
      "metadata": {},
      "outputs": [],
      "source": [
        "r_ei_param={'1': 1.0, '2': 2.0, '3': 3.0, 'default': 4.0, '5': 5.0, '6': 6.0, '7': 7.0, '8': 8.0, '9': 9.0, '10': 10.0}\n",
        "pconn_param = {'1': 0.005, '2': 0.01, 'default': 0.02, '4': 0.03, '5': 0.04, '6': 0.05, '7': 0.06, '8': 0.07, '9': 0.08, '10': 0.09}\n",
        "Gexc_param = {'1': 1., '2': 2., 'default': 4., '4': 10., '5': 15., '6': 20, '7': 30., '8':40., '9': 51.}\n",
        "Ginh_param = {'1': 1., '2': 2., '3': 4., '4': 10., '5': 15., '6': 20, '7': 30., '8':40., 'default': 51.}\n",
        "param = {'r_ei': r_ei_param, 'pconn': pconn_param, 'Gexc': Gexc_param, 'Ginh': Ginh_param}"
      ]
    },
    {
      "cell_type": "code",
      "execution_count": 102,
      "metadata": {},
      "outputs": [],
      "source": [
        "class simulations:\n",
        "    def __init__(self, sim, celltype, cell_params, rng, param):\n",
        "        self.sim = sim\n",
        "        self.celltype = celltype\n",
        "        self.cell_params = cell_params\n",
        "        self.rng = rng\n",
        "        self.param = param\n",
        "        self.pops = {}\n",
        "\n",
        "    def create_populations(self,r_ei):\n",
        "        n = 1500         # number of cells\n",
        "        rng = self.rng\n",
        "        cell_params = self.cell_params\n",
        "        celltype = self.celltype\n",
        "        n_exc = int(round((n * r_ei / (1 + r_ei))))  # number of excitatory cells\n",
        "        n_inh = n - n_exc                            # number of inhibitory cells\n",
        "        print(\"{} {}\".format(n_exc, n_inh))\n",
        "\n",
        "        self.pops = {\n",
        "            'exc': sim.Population(\n",
        "                                        n_exc,\n",
        "                                        celltype(**cell_params),\n",
        "                                        label=\"Excitatory_Cells\"),\n",
        "\n",
        "            'inh': sim.Population(\n",
        "                                        n_inh,\n",
        "                                        celltype(**cell_params),\n",
        "                                        label=\"Inhibitory_Cells\")\n",
        "        }\n",
        "\n",
        "        self.pops['exc'].record([\"spikes\", 'v', 'gsyn_exc', 'gsyn_inh'])\n",
        "        self.pops['inh'].record([\"spikes\", 'v', 'gsyn_exc', 'gsyn_inh'])\n",
        "\n",
        "\n",
        "        uniformDistr = RandomDistribution('uniform', [v_reset, v_thresh], rng=rng)\n",
        "        self.pops['exc'].initialize(v=uniformDistr)\n",
        "        self.pops['inh'].initialize(v=uniformDistr)\n",
        "\n",
        "        #sim.set_number_of_neurons_per_core(sim.IF_cond_exp, 50)      # this will set\n",
        "        # 50 neurons per core\n",
        "        self.pops.keys()\n",
        "        \n",
        "\n",
        "    def create_connections(self, pconn, Gexc, Ginh):\n",
        "        w_exc = Gexc * 1e-3              # We convert conductances to uS\n",
        "        w_inh = Ginh * 1e-3\n",
        "        print(Gexc, Ginh)\n",
        "        print(w_exc, w_inh)\n",
        "        print(pconn)\n",
        "        pops = self.pops\n",
        "        exc_synapses = sim.StaticSynapse(weight=w_exc, delay=delay)\n",
        "        inh_synapses = sim.StaticSynapse(weight=w_inh, delay=delay)\n",
        "\n",
        "        exc_conn = sim.FixedProbabilityConnector(pconn)\n",
        "        inh_conn = sim.FixedProbabilityConnector(pconn)\n",
        "        connections = {\n",
        "\n",
        "            'e2e': sim.Projection(\n",
        "                pops['exc'],\n",
        "                pops['exc'],\n",
        "                exc_conn,\n",
        "                receptor_type='excitatory',\n",
        "                synapse_type=exc_synapses),\n",
        "\n",
        "            'e2i': sim.Projection(\n",
        "                pops['exc'],\n",
        "                pops['inh'],\n",
        "                exc_conn,\n",
        "                receptor_type='excitatory',\n",
        "                synapse_type=exc_synapses),\n",
        "\n",
        "            'i2e': sim.Projection(\n",
        "                pops['inh'],\n",
        "                pops['exc'],\n",
        "            inh_conn,\n",
        "            receptor_type='inhibitory',\n",
        "            synapse_type=inh_synapses),\n",
        "\n",
        "            'i2i': sim.Projection(\n",
        "                pops['inh'],\n",
        "                pops['inh'],\n",
        "                inh_conn,\n",
        "                receptor_type='inhibitory',\n",
        "                synapse_type=inh_synapses)\n",
        "\n",
        "                }\n",
        "\n",
        "        connections.keys()\n",
        "        n_thalamic_cells = 20\n",
        "        stim_dur = 50.    # (ms) duration of random stimulation\n",
        "        rate = 100.       # (Hz) frequency of the random stimulation\n",
        "\n",
        "        exc_conn = None\n",
        "\n",
        "        pops['thalamus'] = sim.Population(\n",
        "            n_thalamic_cells,\n",
        "            sim.SpikeSourcePoisson(rate=rate, duration=stim_dur),\n",
        "            label=\"expoisson\")\n",
        "        pops['thalamus'].record(\"spikes\")\n",
        "\n",
        "\n",
        "        rconn = 0.01\n",
        "        ext_conn = sim.FixedProbabilityConnector(rconn)\n",
        "\n",
        "        connections['ext2e'] = sim.Projection(\n",
        "            pops['thalamus'],\n",
        "            pops['exc'],\n",
        "            ext_conn,\n",
        "            receptor_type='excitatory',\n",
        "            synapse_type=sim.StaticSynapse(weight=0.1))\n",
        "\n",
        "        connections['ext2i'] = sim.Projection(\n",
        "            pops['thalamus'],\n",
        "            pops['inh'],\n",
        "            ext_conn,\n",
        "            receptor_type='excitatory',\n",
        "            synapse_type=sim.StaticSynapse(weight=0.1))\n",
        "\n",
        "        connections.keys(), pops.keys()\n",
        "        \n",
        "\n",
        "    def run_simulation(self):\n",
        "        tstop = 50 # (ms)\n",
        "        # simulation run\n",
        "        tic = time.time()\n",
        "        self.sim.run(tstop)\n",
        "        toc = time.time() - tic\n",
        "    \n",
        "    def experiments(self):\n",
        "        for x in self.param.keys():\n",
        "            for y in self.param[x].keys():\n",
        "                print(x, y)\n",
        "                if x == 'r_ei':\n",
        "                    r_ei=self.param[x][y]\n",
        "                else:\n",
        "                    r_ei=self.param['r_ei']['default']\n",
        "\n",
        "                if x == 'pconn':\n",
        "                    pconn = self.param[x][y]\n",
        "                else:\n",
        "                    pconn = self.param['pconn']['default']\n",
        "\n",
        "                if x == 'Gexc':\n",
        "                    Gexc = self.param[x][y]\n",
        "                else:\n",
        "                    Gexc = self.param['Gexc']['default']\n",
        "\n",
        "                if x == 'Ginh':\n",
        "                    Ginh = self.param[x][y]\n",
        "                else:\n",
        "                    Ginh = self.param['Ginh']['default']\n",
        "\n",
        "                self.create_populations(r_ei)\n",
        "                self.create_connections(pconn, Gexc, Ginh)\n",
        "                self.run_simulation()\n",
        "                self.save_results(f'{saveName}-{x}-{y}.pkl', recover_results(sim.get_output()))\n",
        "                \n",
        "    def save_results(self, pops, filename):\n",
        "        stateVars = {}\n",
        "        for pop in pops.keys():\n",
        "            print(pop)\n",
        "            for recording in ['v', 'gsyn_inh', 'gsyn_exc', 'spikes']:\n",
        "                print(recording)\n",
        "                pops[pop].write_data(filename)\n",
        "                stateVars[pop]=pops[pop].get_data().segments[0]\n",
        "        "
      ]
    },
    {
      "cell_type": "code",
      "execution_count": 103,
      "metadata": {},
      "outputs": [
        {
          "name": "stdout",
          "output_type": "stream",
          "text": [
            "r_ei 1\n",
            "750 750\n",
            "4.0 51.0\n",
            "0.004 0.051000000000000004\n",
            "0.02\n"
          ]
        },
        {
          "name": "stderr",
          "output_type": "stream",
          "text": [
            "2024-02-05 23:17:42 INFO: Starting execution process\n",
            "2024-02-05 23:17:42 INFO: Simulating for 50 1.0 ms timesteps using a hardware timestep of 1000 us\n",
            "2024-02-05 23:17:42 INFO: SpYNNakerNeuronGraphNetworkSpecificationReport skipped as cfg Reports:write_network_graph is False\n",
            "2024-02-05 23:17:42 INFO: Network Specification report took 0:00:00.000772 \n",
            "2024-02-05 23:17:42 INFO: Splitter reset took 0:00:00.000009 \n",
            "Adding Splitter selectors where appropriate\n",
            "|0%                          50%                         100%|\n",
            " ============================================================\n",
            "2024-02-05 23:17:42 INFO: Spynnaker splitter selector took 0:00:00.004430 \n",
            "Adding delay extensions as required\n",
            "|0%                          50%                         100%|\n",
            " ============================================================\n",
            "2024-02-05 23:17:42 INFO: DelaySupportAdder took 0:00:00.009630 \n",
            "Partitioning Graph\n",
            "|0%                          50%                         100%|\n",
            " ============================================================\n",
            "2024-02-05 23:17:42 INFO: Splitter partitioner took 0:00:00.010441 \n",
            "2024-02-05 23:17:42 INFO: Creating transceiver for 192.168.240.253\n",
            "2024-02-05 23:17:42 INFO: Working out if machine is booted\n",
            "2024-02-05 23:17:46 INFO: Attempting to boot machine\n",
            "2024-02-05 23:17:56 INFO: Attempting to boot machine\n",
            "2024-02-05 23:18:05 INFO: Attempting to boot machine\n",
            "2024-02-05 23:18:21 INFO: Machine generator exited with SpinnmanIOException after 0:00:38.669062\n"
          ]
        },
        {
          "ename": "SpinnmanIOException",
          "evalue": "IO Error: Failed to communicate with the machine",
          "output_type": "error",
          "traceback": [
            "\u001b[1;31m---------------------------------------------------------------------------\u001b[0m",
            "\u001b[1;31mSpinnmanIOException\u001b[0m                       Traceback (most recent call last)",
            "Cell \u001b[1;32mIn[103], line 2\u001b[0m\n\u001b[0;32m      1\u001b[0m exp \u001b[38;5;241m=\u001b[39m simulations(sim, celltype, cell_params, rng, param)\n\u001b[1;32m----> 2\u001b[0m \u001b[43mexp\u001b[49m\u001b[38;5;241;43m.\u001b[39;49m\u001b[43mexperiments\u001b[49m\u001b[43m(\u001b[49m\u001b[43m)\u001b[49m\n",
            "Cell \u001b[1;32mIn[102], line 155\u001b[0m, in \u001b[0;36msimulations.experiments\u001b[1;34m(self)\u001b[0m\n\u001b[0;32m    153\u001b[0m \u001b[38;5;28mself\u001b[39m\u001b[38;5;241m.\u001b[39mcreate_populations(r_ei)\n\u001b[0;32m    154\u001b[0m \u001b[38;5;28mself\u001b[39m\u001b[38;5;241m.\u001b[39mcreate_connections(pconn, Gexc, Ginh)\n\u001b[1;32m--> 155\u001b[0m \u001b[38;5;28;43mself\u001b[39;49m\u001b[38;5;241;43m.\u001b[39;49m\u001b[43mrun_simulation\u001b[49m\u001b[43m(\u001b[49m\u001b[43m)\u001b[49m\n\u001b[0;32m    156\u001b[0m \u001b[38;5;28mself\u001b[39m\u001b[38;5;241m.\u001b[39msave_results(\u001b[38;5;124mf\u001b[39m\u001b[38;5;124m'\u001b[39m\u001b[38;5;132;01m{\u001b[39;00msaveName\u001b[38;5;132;01m}\u001b[39;00m\u001b[38;5;124m-\u001b[39m\u001b[38;5;132;01m{\u001b[39;00mx\u001b[38;5;132;01m}\u001b[39;00m\u001b[38;5;124m-\u001b[39m\u001b[38;5;132;01m{\u001b[39;00my\u001b[38;5;132;01m}\u001b[39;00m\u001b[38;5;124m.pkl\u001b[39m\u001b[38;5;124m'\u001b[39m, recover_results(sim\u001b[38;5;241m.\u001b[39mget_output()))\n",
            "Cell \u001b[1;32mIn[102], line 126\u001b[0m, in \u001b[0;36msimulations.run_simulation\u001b[1;34m(self)\u001b[0m\n\u001b[0;32m    124\u001b[0m \u001b[38;5;66;03m# simulation run\u001b[39;00m\n\u001b[0;32m    125\u001b[0m tic \u001b[38;5;241m=\u001b[39m time\u001b[38;5;241m.\u001b[39mtime()\n\u001b[1;32m--> 126\u001b[0m \u001b[38;5;28;43mself\u001b[39;49m\u001b[38;5;241;43m.\u001b[39;49m\u001b[43msim\u001b[49m\u001b[38;5;241;43m.\u001b[39;49m\u001b[43mrun\u001b[49m\u001b[43m(\u001b[49m\u001b[43mtstop\u001b[49m\u001b[43m)\u001b[49m\n\u001b[0;32m    127\u001b[0m toc \u001b[38;5;241m=\u001b[39m time\u001b[38;5;241m.\u001b[39mtime() \u001b[38;5;241m-\u001b[39m tic\n",
            "File \u001b[1;32mc:\\Users\\Manuel\\PycharmProjects\\pythonProject2\\CTSED\\.venv\\Lib\\site-packages\\spynnaker\\pyNN\\__init__.py:655\u001b[0m, in \u001b[0;36mrun\u001b[1;34m(simtime, callbacks)\u001b[0m\n\u001b[0;32m    645\u001b[0m \u001b[38;5;250m\u001b[39m\u001b[38;5;124;03m\"\"\"\u001b[39;00m\n\u001b[0;32m    646\u001b[0m \u001b[38;5;124;03mThe run() function advances the simulation for a given number of\u001b[39;00m\n\u001b[0;32m    647\u001b[0m \u001b[38;5;124;03mmilliseconds.\u001b[39;00m\n\u001b[1;32m   (...)\u001b[0m\n\u001b[0;32m    652\u001b[0m \u001b[38;5;124;03m:rtype: float\u001b[39;00m\n\u001b[0;32m    653\u001b[0m \u001b[38;5;124;03m\"\"\"\u001b[39;00m\n\u001b[0;32m    654\u001b[0m SpynnakerDataView\u001b[38;5;241m.\u001b[39mcheck_user_can_act()\n\u001b[1;32m--> 655\u001b[0m \u001b[38;5;28;01mreturn\u001b[39;00m \u001b[43m__pynn\u001b[49m\u001b[43m[\u001b[49m\u001b[38;5;124;43m\"\u001b[39;49m\u001b[38;5;124;43mrun\u001b[39;49m\u001b[38;5;124;43m\"\u001b[39;49m\u001b[43m]\u001b[49m\u001b[43m(\u001b[49m\u001b[43msimtime\u001b[49m\u001b[43m,\u001b[49m\u001b[43m \u001b[49m\u001b[43mcallbacks\u001b[49m\u001b[38;5;241;43m=\u001b[39;49m\u001b[43mcallbacks\u001b[49m\u001b[43m)\u001b[49m\n",
            "File \u001b[1;32mc:\\Users\\Manuel\\PycharmProjects\\pythonProject2\\CTSED\\.venv\\Lib\\site-packages\\pyNN\\common\\control.py:114\u001b[0m, in \u001b[0;36mbuild_run.<locals>.run\u001b[1;34m(simtime, callbacks)\u001b[0m\n\u001b[0;32m     99\u001b[0m \u001b[38;5;28;01mdef\u001b[39;00m \u001b[38;5;21mrun\u001b[39m(simtime, callbacks\u001b[38;5;241m=\u001b[39m\u001b[38;5;28;01mNone\u001b[39;00m):\n\u001b[0;32m    100\u001b[0m \u001b[38;5;250m    \u001b[39m\u001b[38;5;124;03m\"\"\"\u001b[39;00m\n\u001b[0;32m    101\u001b[0m \u001b[38;5;124;03m    Advance the simulation by `simtime` ms.\u001b[39;00m\n\u001b[0;32m    102\u001b[0m \n\u001b[1;32m   (...)\u001b[0m\n\u001b[0;32m    112\u001b[0m \u001b[38;5;124;03m    the initial conditions (time ``t = 0``), use the ``reset()`` function.\u001b[39;00m\n\u001b[0;32m    113\u001b[0m \u001b[38;5;124;03m    \"\"\"\u001b[39;00m\n\u001b[1;32m--> 114\u001b[0m     \u001b[38;5;28;01mreturn\u001b[39;00m \u001b[43mrun_until\u001b[49m\u001b[43m(\u001b[49m\u001b[43msimulator\u001b[49m\u001b[38;5;241;43m.\u001b[39;49m\u001b[43mstate\u001b[49m\u001b[38;5;241;43m.\u001b[39;49m\u001b[43mt\u001b[49m\u001b[43m \u001b[49m\u001b[38;5;241;43m+\u001b[39;49m\u001b[43m \u001b[49m\u001b[43msimtime\u001b[49m\u001b[43m,\u001b[49m\u001b[43m \u001b[49m\u001b[43mcallbacks\u001b[49m\u001b[43m)\u001b[49m\n",
            "File \u001b[1;32mc:\\Users\\Manuel\\PycharmProjects\\pythonProject2\\CTSED\\.venv\\Lib\\site-packages\\pyNN\\common\\control.py:96\u001b[0m, in \u001b[0;36mbuild_run.<locals>.run_until\u001b[1;34m(time_point, callbacks)\u001b[0m\n\u001b[0;32m     93\u001b[0m         callback_events\u001b[38;5;241m.\u001b[39mextend((callback(simulator\u001b[38;5;241m.\u001b[39mstate\u001b[38;5;241m.\u001b[39mt), callback)\n\u001b[0;32m     94\u001b[0m                                \u001b[38;5;28;01mfor\u001b[39;00m callback \u001b[38;5;129;01min\u001b[39;00m active_callbacks)\n\u001b[0;32m     95\u001b[0m \u001b[38;5;28;01melse\u001b[39;00m:\n\u001b[1;32m---> 96\u001b[0m     \u001b[43msimulator\u001b[49m\u001b[38;5;241;43m.\u001b[39;49m\u001b[43mstate\u001b[49m\u001b[38;5;241;43m.\u001b[39;49m\u001b[43mrun_until\u001b[49m\u001b[43m(\u001b[49m\u001b[43mtime_point\u001b[49m\u001b[43m)\u001b[49m\n\u001b[0;32m     97\u001b[0m \u001b[38;5;28;01mreturn\u001b[39;00m simulator\u001b[38;5;241m.\u001b[39mstate\u001b[38;5;241m.\u001b[39mt\n",
            "File \u001b[1;32mc:\\Users\\Manuel\\PycharmProjects\\pythonProject2\\CTSED\\.venv\\Lib\\site-packages\\spynnaker\\pyNN\\spinnaker.py:162\u001b[0m, in \u001b[0;36mSpiNNaker.run_until\u001b[1;34m(self, tstop)\u001b[0m\n\u001b[0;32m    156\u001b[0m \u001b[38;5;250m\u001b[39m\u001b[38;5;124;03m\"\"\"\u001b[39;00m\n\u001b[0;32m    157\u001b[0m \u001b[38;5;124;03mRun the simulation until the given simulation time.\u001b[39;00m\n\u001b[0;32m    158\u001b[0m \n\u001b[0;32m    159\u001b[0m \u001b[38;5;124;03m:param tstop: when to run until in milliseconds\u001b[39;00m\n\u001b[0;32m    160\u001b[0m \u001b[38;5;124;03m\"\"\"\u001b[39;00m\n\u001b[0;32m    161\u001b[0m \u001b[38;5;66;03m# Build data\u001b[39;00m\n\u001b[1;32m--> 162\u001b[0m \u001b[38;5;28;43mself\u001b[39;49m\u001b[38;5;241;43m.\u001b[39;49m\u001b[43m_clear_and_run\u001b[49m\u001b[43m(\u001b[49m\u001b[43mtstop\u001b[49m\u001b[43m \u001b[49m\u001b[38;5;241;43m-\u001b[39;49m\u001b[43m \u001b[49m\u001b[38;5;28;43mself\u001b[39;49m\u001b[38;5;241;43m.\u001b[39;49m\u001b[43mt\u001b[49m\u001b[43m)\u001b[49m\n",
            "File \u001b[1;32mc:\\Users\\Manuel\\PycharmProjects\\pythonProject2\\CTSED\\.venv\\Lib\\site-packages\\spynnaker\\pyNN\\spinnaker.py:142\u001b[0m, in \u001b[0;36mSpiNNaker._clear_and_run\u001b[1;34m(self, run_time, sync_time)\u001b[0m\n\u001b[0;32m    139\u001b[0m \u001b[38;5;28;01mfor\u001b[39;00m projection \u001b[38;5;129;01min\u001b[39;00m \u001b[38;5;28mself\u001b[39m\u001b[38;5;241m.\u001b[39m_data_writer\u001b[38;5;241m.\u001b[39miterate_projections():\n\u001b[0;32m    140\u001b[0m     projection\u001b[38;5;241m.\u001b[39m_clear_cache()\n\u001b[1;32m--> 142\u001b[0m \u001b[38;5;28;43msuper\u001b[39;49m\u001b[43m(\u001b[49m\u001b[43mSpiNNaker\u001b[49m\u001b[43m,\u001b[49m\u001b[43m \u001b[49m\u001b[38;5;28;43mself\u001b[39;49m\u001b[43m)\u001b[49m\u001b[38;5;241;43m.\u001b[39;49m\u001b[43mrun\u001b[49m\u001b[43m(\u001b[49m\u001b[43mrun_time\u001b[49m\u001b[43m,\u001b[49m\u001b[43m \u001b[49m\u001b[43msync_time\u001b[49m\u001b[43m)\u001b[49m\n\u001b[0;32m    143\u001b[0m \u001b[38;5;66;03m# extra post run algorithms\u001b[39;00m\n\u001b[0;32m    144\u001b[0m \u001b[38;5;28;01mfor\u001b[39;00m projection \u001b[38;5;129;01min\u001b[39;00m \u001b[38;5;28mself\u001b[39m\u001b[38;5;241m.\u001b[39m_data_writer\u001b[38;5;241m.\u001b[39miterate_projections():\n",
            "File \u001b[1;32mc:\\Users\\Manuel\\PycharmProjects\\pythonProject2\\CTSED\\.venv\\Lib\\site-packages\\spinn_front_end_common\\interface\\abstract_spinnaker_base.py:388\u001b[0m, in \u001b[0;36mAbstractSpinnakerBase.run\u001b[1;34m(self, run_time, sync_time)\u001b[0m\n\u001b[0;32m    386\u001b[0m \u001b[38;5;28;01mif\u001b[39;00m \u001b[38;5;28mself\u001b[39m\u001b[38;5;241m.\u001b[39m_run_until_complete:\n\u001b[0;32m    387\u001b[0m     \u001b[38;5;28;01mraise\u001b[39;00m \u001b[38;5;167;01mNotImplementedError\u001b[39;00m(\u001b[38;5;124m\"\u001b[39m\u001b[38;5;124mrun after run_until_complete\u001b[39m\u001b[38;5;124m\"\u001b[39m)\n\u001b[1;32m--> 388\u001b[0m \u001b[38;5;28;43mself\u001b[39;49m\u001b[38;5;241;43m.\u001b[39;49m\u001b[43m_run\u001b[49m\u001b[43m(\u001b[49m\u001b[43mrun_time\u001b[49m\u001b[43m,\u001b[49m\u001b[43m \u001b[49m\u001b[43msync_time\u001b[49m\u001b[43m)\u001b[49m\n\u001b[0;32m    389\u001b[0m FecTimer\u001b[38;5;241m.\u001b[39mend_category(TimerCategory\u001b[38;5;241m.\u001b[39mRUN_OTHER)\n",
            "File \u001b[1;32mc:\\Users\\Manuel\\PycharmProjects\\pythonProject2\\CTSED\\.venv\\Lib\\site-packages\\spinn_front_end_common\\interface\\abstract_spinnaker_base.py:448\u001b[0m, in \u001b[0;36mAbstractSpinnakerBase._run\u001b[1;34m(self, run_time, sync_time)\u001b[0m\n\u001b[0;32m    445\u001b[0m \u001b[38;5;28mself\u001b[39m\u001b[38;5;241m.\u001b[39m_data_writer\u001b[38;5;241m.\u001b[39mstart_run()\n\u001b[0;32m    447\u001b[0m \u001b[38;5;28;01mtry\u001b[39;00m:\n\u001b[1;32m--> 448\u001b[0m     \u001b[38;5;28;43mself\u001b[39;49m\u001b[38;5;241;43m.\u001b[39;49m\u001b[43m__run\u001b[49m\u001b[43m(\u001b[49m\u001b[43mrun_time\u001b[49m\u001b[43m,\u001b[49m\u001b[43m \u001b[49m\u001b[43msync_time\u001b[49m\u001b[43m)\u001b[49m\n\u001b[0;32m    449\u001b[0m     \u001b[38;5;28mself\u001b[39m\u001b[38;5;241m.\u001b[39m_data_writer\u001b[38;5;241m.\u001b[39mfinish_run()\n\u001b[0;32m    450\u001b[0m \u001b[38;5;28;01mexcept\u001b[39;00m \u001b[38;5;167;01mException\u001b[39;00m:\n\u001b[0;32m    451\u001b[0m     \u001b[38;5;66;03m# if in debug mode, do not shut down machine\u001b[39;00m\n",
            "File \u001b[1;32mc:\\Users\\Manuel\\PycharmProjects\\pythonProject2\\CTSED\\.venv\\Lib\\site-packages\\spinn_front_end_common\\interface\\abstract_spinnaker_base.py:531\u001b[0m, in \u001b[0;36mAbstractSpinnakerBase.__run\u001b[1;34m(self, run_time, sync_time)\u001b[0m\n\u001b[0;32m    528\u001b[0m     \u001b[38;5;28;01melse\u001b[39;00m:\n\u001b[0;32m    529\u001b[0m         \u001b[38;5;28mself\u001b[39m\u001b[38;5;241m.\u001b[39m_data_writer\u001b[38;5;241m.\u001b[39mset_plan_n_timesteps(n_machine_time_steps)\n\u001b[1;32m--> 531\u001b[0m     \u001b[38;5;28;43mself\u001b[39;49m\u001b[38;5;241;43m.\u001b[39;49m\u001b[43m_do_mapping\u001b[49m\u001b[43m(\u001b[49m\u001b[43mtotal_run_time\u001b[49m\u001b[43m)\u001b[49m\n\u001b[0;32m    533\u001b[0m \u001b[38;5;28;01mif\u001b[39;00m \u001b[38;5;129;01mnot\u001b[39;00m \u001b[38;5;28mself\u001b[39m\u001b[38;5;241m.\u001b[39m_data_writer\u001b[38;5;241m.\u001b[39mis_ran_last():\n\u001b[0;32m    534\u001b[0m     \u001b[38;5;28mself\u001b[39m\u001b[38;5;241m.\u001b[39m_do_write_metadata()\n",
            "File \u001b[1;32mc:\\Users\\Manuel\\PycharmProjects\\pythonProject2\\CTSED\\.venv\\Lib\\site-packages\\spinn_front_end_common\\interface\\abstract_spinnaker_base.py:1380\u001b[0m, in \u001b[0;36mAbstractSpinnakerBase._do_mapping\u001b[1;34m(self, total_run_time)\u001b[0m\n\u001b[0;32m   1378\u001b[0m \u001b[38;5;28mself\u001b[39m\u001b[38;5;241m.\u001b[39m_execute_splitter_partitioner()\n\u001b[0;32m   1379\u001b[0m allocator_data \u001b[38;5;241m=\u001b[39m \u001b[38;5;28mself\u001b[39m\u001b[38;5;241m.\u001b[39m_execute_allocator(total_run_time)\n\u001b[1;32m-> 1380\u001b[0m \u001b[38;5;28;43mself\u001b[39;49m\u001b[38;5;241;43m.\u001b[39;49m\u001b[43m_execute_machine_generator\u001b[49m\u001b[43m(\u001b[49m\u001b[43mallocator_data\u001b[49m\u001b[43m)\u001b[49m\n\u001b[0;32m   1381\u001b[0m \u001b[38;5;28mself\u001b[39m\u001b[38;5;241m.\u001b[39m_json_machine()\n\u001b[0;32m   1382\u001b[0m \u001b[38;5;28mself\u001b[39m\u001b[38;5;241m.\u001b[39m_report_board_chip()\n",
            "File \u001b[1;32mc:\\Users\\Manuel\\PycharmProjects\\pythonProject2\\CTSED\\.venv\\Lib\\site-packages\\spinn_front_end_common\\interface\\abstract_spinnaker_base.py:781\u001b[0m, in \u001b[0;36mAbstractSpinnakerBase._execute_machine_generator\u001b[1;34m(self, allocator_data)\u001b[0m\n\u001b[0;32m    778\u001b[0m     \u001b[38;5;28;01mreturn\u001b[39;00m\n\u001b[0;32m    780\u001b[0m \u001b[38;5;28;01mwith\u001b[39;00m FecTimer(\u001b[38;5;124m\"\u001b[39m\u001b[38;5;124mMachine generator\u001b[39m\u001b[38;5;124m\"\u001b[39m, TimerWork\u001b[38;5;241m.\u001b[39mGET_MACHINE):\n\u001b[1;32m--> 781\u001b[0m     machine, transceiver \u001b[38;5;241m=\u001b[39m \u001b[43mmachine_generator\u001b[49m\u001b[43m(\u001b[49m\n\u001b[0;32m    782\u001b[0m \u001b[43m        \u001b[49m\u001b[43mbmp_details\u001b[49m\u001b[43m,\u001b[49m\u001b[43m \u001b[49m\u001b[43mboard_version\u001b[49m\u001b[43m,\u001b[49m\n\u001b[0;32m    783\u001b[0m \u001b[43m        \u001b[49m\u001b[43mauto_detect_bmp\u001b[49m\u001b[43m,\u001b[49m\u001b[43m \u001b[49m\u001b[43mscamp_connection_data\u001b[49m\u001b[43m,\u001b[49m\u001b[43m \u001b[49m\u001b[43mreset_machine\u001b[49m\u001b[43m)\u001b[49m\n\u001b[0;32m    784\u001b[0m     \u001b[38;5;28mself\u001b[39m\u001b[38;5;241m.\u001b[39m_data_writer\u001b[38;5;241m.\u001b[39mset_transceiver(transceiver)\n\u001b[0;32m    785\u001b[0m     \u001b[38;5;28mself\u001b[39m\u001b[38;5;241m.\u001b[39m_data_writer\u001b[38;5;241m.\u001b[39mset_machine(machine)\n",
            "File \u001b[1;32mc:\\Users\\Manuel\\PycharmProjects\\pythonProject2\\CTSED\\.venv\\Lib\\site-packages\\spinn_front_end_common\\interface\\interface_functions\\machine_generator.py:99\u001b[0m, in \u001b[0;36mmachine_generator\u001b[1;34m(bmp_details, board_version, auto_detect_bmp, scamp_connection_data, reset_machine_on_start_up)\u001b[0m\n\u001b[0;32m     95\u001b[0m \u001b[38;5;28;01mif\u001b[39;00m board_version \u001b[38;5;129;01mis\u001b[39;00m \u001b[38;5;28;01mNone\u001b[39;00m:\n\u001b[0;32m     96\u001b[0m     \u001b[38;5;28;01mraise\u001b[39;00m ConfigurationException(\n\u001b[0;32m     97\u001b[0m         \u001b[38;5;124m\"\u001b[39m\u001b[38;5;124mPlease set a machine version number in the \u001b[39m\u001b[38;5;124m\"\u001b[39m\n\u001b[0;32m     98\u001b[0m         \u001b[38;5;124m\"\u001b[39m\u001b[38;5;124mcorresponding configuration (cfg) file\u001b[39m\u001b[38;5;124m\"\u001b[39m)\n\u001b[1;32m---> 99\u001b[0m \u001b[43mtxrx\u001b[49m\u001b[38;5;241;43m.\u001b[39;49m\u001b[43mensure_board_is_ready\u001b[49m\u001b[43m(\u001b[49m\u001b[43m)\u001b[49m\n\u001b[0;32m    100\u001b[0m \u001b[38;5;28;01mif\u001b[39;00m scamp_connection_data:\n\u001b[0;32m    101\u001b[0m     txrx\u001b[38;5;241m.\u001b[39madd_scamp_connections(scamp_connection_data)\n",
            "File \u001b[1;32mc:\\Users\\Manuel\\PycharmProjects\\pythonProject2\\CTSED\\.venv\\Lib\\site-packages\\spinnman\\transceiver.py:687\u001b[0m, in \u001b[0;36mTransceiver.ensure_board_is_ready\u001b[1;34m(self, n_retries, extra_boot_values)\u001b[0m\n\u001b[0;32m    685\u001b[0m \u001b[38;5;66;03m# verify that the version is the expected one for this transceiver\u001b[39;00m\n\u001b[0;32m    686\u001b[0m \u001b[38;5;28;01mif\u001b[39;00m version_info \u001b[38;5;129;01mis\u001b[39;00m \u001b[38;5;28;01mNone\u001b[39;00m:\n\u001b[1;32m--> 687\u001b[0m     \u001b[38;5;28;01mraise\u001b[39;00m SpinnmanIOException(\n\u001b[0;32m    688\u001b[0m         \u001b[38;5;124m\"\u001b[39m\u001b[38;5;124mFailed to communicate with the machine\u001b[39m\u001b[38;5;124m\"\u001b[39m)\n\u001b[0;32m    689\u001b[0m \u001b[38;5;28;01mif\u001b[39;00m (version_info\u001b[38;5;241m.\u001b[39mname \u001b[38;5;241m!=\u001b[39m _SCAMP_NAME \u001b[38;5;129;01mor\u001b[39;00m\n\u001b[0;32m    690\u001b[0m         \u001b[38;5;129;01mnot\u001b[39;00m \u001b[38;5;28mself\u001b[39m\u001b[38;5;241m.\u001b[39m_is_scamp_version_compabible(\n\u001b[0;32m    691\u001b[0m             version_info\u001b[38;5;241m.\u001b[39mversion_number)):\n\u001b[0;32m    692\u001b[0m     \u001b[38;5;28;01mraise\u001b[39;00m SpinnmanIOException(\n\u001b[0;32m    693\u001b[0m         \u001b[38;5;124mf\u001b[39m\u001b[38;5;124m\"\u001b[39m\u001b[38;5;124mThe machine is currently booted with \u001b[39m\u001b[38;5;132;01m{\u001b[39;00mversion_info\u001b[38;5;241m.\u001b[39mname\u001b[38;5;132;01m}\u001b[39;00m\u001b[38;5;124m\"\u001b[39m\n\u001b[0;32m    694\u001b[0m         \u001b[38;5;124mf\u001b[39m\u001b[38;5;124m\"\u001b[39m\u001b[38;5;124m \u001b[39m\u001b[38;5;132;01m{\u001b[39;00mversion_info\u001b[38;5;241m.\u001b[39mversion_number\u001b[38;5;132;01m}\u001b[39;00m\u001b[38;5;124m which is incompatible with \u001b[39m\u001b[38;5;124m\"\u001b[39m\n\u001b[0;32m    695\u001b[0m         \u001b[38;5;124m\"\u001b[39m\u001b[38;5;124mthis transceiver, required version is \u001b[39m\u001b[38;5;124m\"\u001b[39m\n\u001b[0;32m    696\u001b[0m         \u001b[38;5;124mf\u001b[39m\u001b[38;5;124m\"\u001b[39m\u001b[38;5;132;01m{\u001b[39;00m_SCAMP_NAME\u001b[38;5;132;01m}\u001b[39;00m\u001b[38;5;124m \u001b[39m\u001b[38;5;132;01m{\u001b[39;00m_SCAMP_VERSION\u001b[38;5;132;01m}\u001b[39;00m\u001b[38;5;124m\"\u001b[39m)\n",
            "\u001b[1;31mSpinnmanIOException\u001b[0m: IO Error: Failed to communicate with the machine"
          ]
        }
      ],
      "source": [
        "exp = simulations(sim, celltype, cell_params, rng, param)\n",
        "exp.experiments()"
      ]
    },
    {
      "cell_type": "markdown",
      "metadata": {},
      "source": []
    },
    {
      "cell_type": "code",
      "execution_count": null,
      "metadata": {
        "id": "HeW4Qa3411tE"
      },
      "outputs": [],
      "source": [
        "n = 1500          # number of cells\n",
        "r_ei = 4.0        # number of excitatory cells:number of inhibitory cells\n",
        "n_exc = int(round((n * r_ei / (1 + r_ei))))  # number of excitatory cells\n",
        "n_inh = n - n_exc                            # number of inhibitory cells\n",
        "print(\"{} {}\".format(n_exc, n_inh))\n",
        "\n",
        "pops = {\n",
        "    'exc': sim.Population(\n",
        "                                n_exc,\n",
        "                                celltype(**cell_params),\n",
        "                                label=\"Excitatory_Cells\"),\n",
        "\n",
        "    'inh': sim.Population(\n",
        "                                n_inh,\n",
        "                                celltype(**cell_params),\n",
        "                                label=\"Inhibitory_Cells\")\n",
        "}\n",
        "\n",
        "pops['exc'].record([\"spikes\", 'v', 'gsyn_exc', 'gsyn_inh'])\n",
        "pops['inh'].record([\"spikes\", 'v', 'gsyn_exc', 'gsyn_inh'])\n",
        "\n",
        "\n",
        "uniformDistr = RandomDistribution('uniform', [v_reset, v_thresh], rng=rng)\n",
        "pops['exc'].initialize(v=uniformDistr)\n",
        "pops['inh'].initialize(v=uniformDistr)\n",
        "\n",
        "#sim.set_number_of_neurons_per_core(sim.IF_cond_exp, 50)      # this will set\n",
        "# 50 neurons per core\n",
        "pops.keys()"
      ]
    },
    {
      "cell_type": "markdown",
      "metadata": {
        "id": "UTev0CpO11tF"
      },
      "source": [
        "# step4: define the synapse types"
      ]
    },
    {
      "cell_type": "code",
      "execution_count": null,
      "metadata": {
        "id": "LPj8I_hd11tF"
      },
      "outputs": [],
      "source": [
        "# Synapse parameters\n",
        "Gexc = None\n",
        "Ginh = None\n",
        "Gexc = 4.     # (nS) #1\n",
        "Ginh = 51.    # (nS) #1\n",
        "w_exc = Gexc * 1e-3              # We convert conductances to uS\n",
        "w_inh = Ginh * 1e-3\n",
        "\n",
        "exc_synapses = sim.StaticSynapse(weight=w_exc, delay=delay)\n",
        "inh_synapses = sim.StaticSynapse(weight=w_inh, delay=delay)"
      ]
    },
    {
      "cell_type": "markdown",
      "metadata": {
        "id": "DSPpc2U711tG"
      },
      "source": [
        "# step5: select the connections algorithm"
      ]
    },
    {
      "cell_type": "code",
      "execution_count": null,
      "metadata": {
        "id": "kPixtrI811tG"
      },
      "outputs": [],
      "source": [
        "pconn = 0.02      # connection probability (2%)\n",
        "\n",
        "exc_conn = sim.FixedProbabilityConnector(pconn, rng=rng)\n",
        "inh_conn = sim.FixedProbabilityConnector(pconn, rng=rng)"
      ]
    },
    {
      "cell_type": "markdown",
      "metadata": {
        "id": "xWjuYQmj11tG"
      },
      "source": [
        "# step6: make the projections"
      ]
    },
    {
      "cell_type": "code",
      "execution_count": null,
      "metadata": {
        "id": "y_LOjddX11tH"
      },
      "outputs": [],
      "source": [
        "connections = {\n",
        "\n",
        "    'e2e': sim.Projection(\n",
        "        pops['exc'],\n",
        "        pops['exc'],\n",
        "        exc_conn,\n",
        "        receptor_type='excitatory',\n",
        "        synapse_type=exc_synapses),\n",
        "\n",
        "    'e2i': sim.Projection(\n",
        "        pops['exc'],\n",
        "        pops['inh'],\n",
        "        exc_conn,\n",
        "        receptor_type='excitatory',\n",
        "        synapse_type=exc_synapses),\n",
        "\n",
        "    'i2e': sim.Projection(\n",
        "        pops['inh'],\n",
        "        pops['exc'],\n",
        "        inh_conn,\n",
        "        receptor_type='inhibitory',\n",
        "        synapse_type=inh_synapses),\n",
        "\n",
        "    'i2i': sim.Projection(\n",
        "        pops['inh'],\n",
        "        pops['inh'],\n",
        "        inh_conn,\n",
        "        receptor_type='inhibitory',\n",
        "        synapse_type=inh_synapses)\n",
        "\n",
        "        }\n",
        "\n",
        "connections.keys()"
      ]
    },
    {
      "cell_type": "markdown",
      "metadata": {
        "id": "FSG0tcCv11tH"
      },
      "source": [
        "# step7: setting the thalamic stimulus"
      ]
    },
    {
      "cell_type": "code",
      "execution_count": null,
      "metadata": {
        "id": "1eJHQ6R011tH"
      },
      "outputs": [],
      "source": [
        "n_thalamic_cells = 20\n",
        "stim_dur = 50.    # (ms) duration of random stimulation\n",
        "rate = 100.       # (Hz) frequency of the random stimulation\n",
        "\n",
        "exc_conn = None\n",
        "\n",
        "pops['thalamus'] = sim.Population(\n",
        "    n_thalamic_cells,\n",
        "    sim.SpikeSourcePoisson(rate=rate, duration=stim_dur),\n",
        "    label=\"expoisson\")\n",
        "pops['thalamus'].record(\"spikes\")\n",
        "\n",
        "\n",
        "rconn = 0.01\n",
        "ext_conn = sim.FixedProbabilityConnector(rconn)\n",
        "\n",
        "connections['ext2e'] = sim.Projection(\n",
        "    pops['thalamus'],\n",
        "    pops['exc'],\n",
        "    ext_conn,\n",
        "    receptor_type='excitatory',\n",
        "    synapse_type=sim.StaticSynapse(weight=0.1))\n",
        "\n",
        "connections['ext2i'] = sim.Projection(\n",
        "    pops['thalamus'],\n",
        "    pops['inh'],\n",
        "    ext_conn,\n",
        "    receptor_type='excitatory',\n",
        "    synapse_type=sim.StaticSynapse(weight=0.1))\n",
        "\n",
        "connections.keys(), pops.keys()"
      ]
    },
    {
      "cell_type": "markdown",
      "metadata": {
        "id": "9kC67fki11tI"
      },
      "source": [
        "# step8: run simulation"
      ]
    },
    {
      "cell_type": "code",
      "execution_count": null,
      "metadata": {
        "id": "qvieatFs11tI"
      },
      "outputs": [],
      "source": [
        "tstop = 1000 # (ms)\n",
        "# simulation run\n",
        "\n",
        "tic = time.time()\n",
        "sim.run(tstop)\n",
        "toc = time.time() - tic"
      ]
    },
    {
      "cell_type": "markdown",
      "metadata": {
        "id": "xYZtclhq11tI"
      },
      "source": [
        "# step9: save results"
      ]
    },
    {
      "cell_type": "code",
      "execution_count": null,
      "metadata": {
        "id": "NH17X9Yn11tI"
      },
      "outputs": [],
      "source": [
        "stateVars = {}\n",
        "for pop in pops.keys():\n",
        "    for recording in ['v', 'gsyn_inh', 'gsyn_exc', 'spikes']:\n",
        "        pops[pop].write_data(f'{saveName}-{recording}.pkl')\n",
        "        stateVars[pop]=pops[pop].get_data()\n",
        "\n"
      ]
    },
    {
      "cell_type": "markdown",
      "metadata": {
        "id": "l0SFpU1n11tJ"
      },
      "source": [
        "# step10: recover results"
      ]
    },
    {
      "cell_type": "code",
      "execution_count": null,
      "metadata": {
        "id": "J7PsCajS11tJ"
      },
      "outputs": [],
      "source": [
        "stateVars.keys()\n",
        "results = pu.recover_results(stateVars)\n",
        "results.keys()"
      ]
    },
    {
      "cell_type": "code",
      "execution_count": null,
      "metadata": {
        "id": "-Xe0BZqe11tJ"
      },
      "outputs": [],
      "source": []
    },
    {
      "cell_type": "markdown",
      "metadata": {
        "id": "jpVD5fwW11tJ"
      },
      "source": [
        "# step11: postprocessing (looking at the results)"
      ]
    },
    {
      "cell_type": "code",
      "execution_count": null,
      "metadata": {
        "id": "gspojw2L11tJ"
      },
      "outputs": [],
      "source": [
        "from pyNN.utility.plotting import Figure, Panel\n",
        "\n",
        "Figure(\n",
        "    # raster plot of the presynaptic neuron spike times\n",
        "    Panel(stateVars['exc'].segments[0].spiketrains, xlabel=\"Time/ms\", xticks=True,\n",
        "          yticks=True, markersize=0.2, xlim=(0, tstop)),\n",
        "    title=\"Vogels-Abbott benchmark: excitatory cells spikes\")\n"
      ]
    },
    {
      "cell_type": "code",
      "execution_count": null,
      "metadata": {
        "id": "974AZOr211tK"
      },
      "outputs": [],
      "source": [
        "### from pyNN.utility.plotting import Figure, Panel\n",
        "\n",
        "Figure(\n",
        "    # raster plot of the presynaptic neuron spike times\n",
        "    Panel(stateVars['exc'].segments[0].spiketrains, xlabel=\"Time (ms)\", xticks=True,\n",
        "          yticks=True, markersize=0.2, xlim=(0, tstop)),\n",
        "    title=\"Vogels-Abbott benchmark: inhibitory cells spikes\")\n"
      ]
    },
    {
      "cell_type": "code",
      "execution_count": null,
      "metadata": {
        "id": "3Vcdu2DH11tK"
      },
      "outputs": [],
      "source": [
        "# classic matplotlib rasterplot function\n",
        "\n",
        "fig, ax = plt.subplots(2,1, sharex=True, figsize=(9,5))\n",
        "p0=ax[0].eventplot(results['exc', 'spikes'], color='green')\n",
        "p1=ax[1].eventplot(results['inh', 'spikes'], color='red')\n",
        "[ax[i].set_xlabel('Time (ms)', fontsize=14) for i in [0,1]]\n",
        "[ax[i].set_ylabel(feat, fontsize=14) for i, feat in enumerate(['Excitatory cells', 'Inhibitory cells'])]"
      ]
    },
    {
      "cell_type": "code",
      "execution_count": null,
      "metadata": {
        "id": "UCQMi6jv11tL"
      },
      "outputs": [],
      "source": [
        "# check spikes\n",
        "\n",
        "spike_rate = {\n",
        "    'exc': pops['exc'].get_spike_counts(),\n",
        "    'inh': pops['inh'].get_spike_counts()\n",
        "}\n",
        "\n",
        "idx=50\n",
        "pop = 'exc'\n",
        "print(pop + ' cell ' + str(idx) + ' :', spike_rate[pop][idx], 'spikes/' + str(tstop) + 'ms')"
      ]
    },
    {
      "cell_type": "code",
      "execution_count": null,
      "metadata": {
        "id": "pxJBYIoj11tL"
      },
      "outputs": [],
      "source": [
        "# check conductances and membrane voltage potentials\n",
        "\n",
        "import numpy as np\n",
        "import matplotlib.pyplot as plt\n",
        "\n",
        "fig, ax = plt.subplots(1,3,figsize=(11,4), sharey=True, sharex=False)\n",
        "ax = ax.flatten()\n",
        "p=ax[0].hist(np.asarray(results['exc', 'v']).ravel(), 100, label='exc', log=False)\n",
        "p=ax[1].hist(np.asarray(results['exc', 'gsyn_exc']).ravel(), 100, label='exc')\n",
        "p=ax[2].hist(np.asarray(results['exc', 'gsyn_inh']).ravel(), 100, label='exc')\n",
        "\n",
        "p=ax[0].hist(np.asarray(results['inh', 'v']).ravel(), 100, label='inh')\n",
        "p=ax[1].hist(np.asarray(results['inh', 'gsyn_exc']).ravel(), 100, label='inh')\n",
        "p=ax[2].hist(np.asarray(results['inh', 'gsyn_inh']).ravel(), 100, label='inh')\n",
        "\n",
        "ax[0].set_xlim(-90,-40)\n",
        "ax[1].set_xlim(0,0.2)\n",
        "ax[2].set_xlim(0,0.5)\n",
        "\n",
        "[ax[i].legend() for i in [0,1,2]]\n",
        "\n",
        "[ax[i].set_ylabel('excitatory cells', fontsize=14) for i in [0,1]]\n",
        "ax[2].set_ylabel('inhibitory cells', fontsize=14)\n",
        "[ax[idx].set_xlabel(feat, fontsize=14) for idx, feat in enumerate(['membrane potential [mV]', 'gsyn_exc [uS]', 'gsyn_inh [uS]'])]"
      ]
    },
    {
      "cell_type": "code",
      "execution_count": null,
      "metadata": {
        "id": "SUhkPBjH11tL"
      },
      "outputs": [],
      "source": [
        "# voltage in excitatory pop\n",
        "\n",
        "fig, ax = plt.subplots(1,3, figsize=(13,4), sharey=True, sharex=True)\n",
        "ax = ax.flatten()\n",
        "\n",
        "p = {}\n",
        "for idx, feat in enumerate(['v', 'gsyn_exc', 'gsyn_inh']):\n",
        "    p[idx] = ax[idx].imshow(np.asarray(results['exc', feat]).T,  norm=colors.PowerNorm(gamma= 0.75))\n",
        "\n",
        "[fig.colorbar(p[idx], ax=ax[idx], shrink=0.5) for idx in [0,1,2]]\n",
        "\n",
        "[ax[i].set_xlabel('time [ms]', fontsize=14) for i in [0,1,2]]\n",
        "[ax[i].set_ylabel('excitatory cells', fontsize=14) for i in [0,1,2]]\n",
        "[ax[idx].set_title(feat, fontsize=14) for idx, feat in enumerate(['membrane potential [mV]', 'gsyn_exc [uS]', 'gsyn_inh [uS]'])]\n",
        "\n",
        "p.keys()"
      ]
    },
    {
      "cell_type": "code",
      "execution_count": null,
      "metadata": {
        "id": "qiqYeJhA11tL"
      },
      "outputs": [],
      "source": [
        "# voltage in inhibitory pop\n",
        "\n",
        "fig, ax = plt.subplots(3,1, figsize=(11,11), sharey=True, sharex=False)\n",
        "ax = ax.flatten()\n",
        "\n",
        "p = {}\n",
        "for idx, feat in enumerate(['v', 'gsyn_exc', 'gsyn_inh']):\n",
        "    p[idx] = ax[idx].imshow(np.asarray(results['inh', feat]).T,  norm=colors.PowerNorm(gamma= 0.75))\n",
        "\n",
        "[fig.colorbar(p[idx], ax=ax[idx], shrink=0.6) for idx in [0,1,2]]\n",
        "\n",
        "[ax[i].set_xlabel('time [ms]', fontsize=14) for i in [0,1,2]]\n",
        "[ax[i].set_ylabel('inhibitory cells', fontsize=14) for i in [0,1,2]]\n",
        "[ax[idx].set_title(feat, fontsize=14) for idx, feat in enumerate(['membrane potential [mV]', 'gsyn_exc [uS]', 'gsyn_inh [uS]'])]\n",
        "\n",
        "rasterplot=False\n",
        "if rasterplot:\n",
        "    for i in [0,1,2]:\n",
        "        ax[i].eventplot(results['inh', 'spikes'])\n"
      ]
    },
    {
      "cell_type": "code",
      "execution_count": null,
      "metadata": {
        "id": "lXeD-3I-11tL"
      },
      "outputs": [],
      "source": [
        "# signal processing step, statistics, information theory tools, etc\n"
      ]
    },
    {
      "cell_type": "markdown",
      "metadata": {
        "id": "wR24f5D611tL"
      },
      "source": [
        "# step12: close simulation\n"
      ]
    },
    {
      "cell_type": "code",
      "execution_count": null,
      "metadata": {
        "id": "JSFb2gP011tL"
      },
      "outputs": [],
      "source": [
        "# if you run it, you cannot reload some cells, but it is needed to restart the overall simulation\n",
        "\n",
        "sim.end()"
      ]
    },
    {
      "cell_type": "markdown",
      "metadata": {
        "id": "fj69pzWd11tM"
      },
      "source": [
        "## Task 1: on the self sustained acitivity conditions\n",
        "\n",
        "- in the image below, the panel a) shows the sustained activity conditions of the network. <br>\n",
        "  Try different set of weights combinations for discovering different functional network configurations"
      ]
    },
    {
      "cell_type": "markdown",
      "metadata": {
        "id": "t74NMwsw11tN"
      },
      "source": [
        "<img src=\"../extra/VA_EXC_BALANCE.png\">\n"
      ]
    },
    {
      "cell_type": "markdown",
      "metadata": {
        "id": "cJsY4ZOc11tN"
      },
      "source": [
        "- image taken from Vogels & Abbott (J. Neurosci, 2005) https://www.ncbi.nlm.nih.gov/pmc/articles/PMC6725859/,"
      ]
    }
  ],
  "metadata": {
    "colab": {
      "provenance": []
    },
    "kernelspec": {
      "display_name": "Python 3",
      "name": "python3"
    },
    "language_info": {
      "codemirror_mode": {
        "name": "ipython",
        "version": 3
      },
      "file_extension": ".py",
      "mimetype": "text/x-python",
      "name": "python",
      "nbconvert_exporter": "python",
      "pygments_lexer": "ipython3",
      "version": "3.11.3"
    }
  },
  "nbformat": 4,
  "nbformat_minor": 0
}
