{
 "cells": [
  {
   "cell_type": "markdown",
   "id": "d23c6575-24d9-462a-b06a-f311eac91698",
   "metadata": {},
   "source": [
    "# Single clique dynamics"
   ]
  },
  {
   "cell_type": "code",
   "execution_count": 1,
   "id": "e9498557-58ce-4a67-a020-012a6f9a6f05",
   "metadata": {},
   "outputs": [],
   "source": [
    "# run this notebook with Python3 kernel"
   ]
  },
  {
   "cell_type": "code",
   "execution_count": 2,
   "id": "47ed43b5-d07d-419a-9fc5-6f6d3bdbee25",
   "metadata": {},
   "outputs": [],
   "source": [
    "# fileName\n",
    "\n",
    "fileName = 'eg_single-clique' "
   ]
  },
  {
   "cell_type": "code",
   "execution_count": 3,
   "id": "cf1ef958-d263-4fb8-929b-fdcbe1c2342b",
   "metadata": {},
   "outputs": [
    {
     "name": "stderr",
     "output_type": "stream",
     "text": [
      "INFO       Cache size for target 'cython': 1184156984 MB.\n",
      "You can call clear_cache('cython') to delete all files from the cache or manually delete files in the '/home/bbpnrsoa/.cython/brian_extensions' directory. [brian2]\n"
     ]
    },
    {
     "name": "stdout",
     "output_type": "stream",
     "text": [
      "../outputs/eg_single-clique-2023-11-30T19:23:27.054628\n"
     ]
    }
   ],
   "source": [
    "try:\n",
    "    import pyNN.spiNNaker as sim\n",
    "except ModuleNotFoundError:\n",
    "    import pyNN.brian2 as sim\n",
    "    \n",
    "from pyNN import space \n",
    "import numpy as np\n",
    "import matplotlib.pyplot as plt\n",
    "import numpy as np\n",
    "import matplotlib.pyplot as plt\n",
    "import scipy\n",
    "import pickle\n",
    "import pandas as pd\n",
    "import seaborn as sns\n",
    "import time\n",
    "import datetime\n",
    "import json\n",
    "import warnings\n",
    "warnings.filterwarnings('ignore')\n",
    "import python_utils as pu\n",
    "%matplotlib inline\n",
    "\n",
    "savePath = f'../outputs/' # remember to create the folder if not already present (mkdir ./notebooks/outputs)\n",
    "dt_string = datetime.datetime.today().isoformat() # ISO8601 ! :-)\n",
    "tag = dt_string \n",
    "saveName = f'{savePath}{fileName}-{tag}'\n",
    "print(saveName)\n",
    "PARS={}\n"
   ]
  },
  {
   "cell_type": "markdown",
   "id": "c2207077-28bb-4b6b-a078-7f178a22bc47",
   "metadata": {},
   "source": [
    "# simulation settings"
   ]
  },
  {
   "cell_type": "code",
   "execution_count": 4,
   "id": "31652dc0-c18f-42f6-9a01-36c8b7b9f973",
   "metadata": {},
   "outputs": [],
   "source": [
    "PARS={}\n",
    "PARS['dt']=1 #ms\n",
    "PARS['min_delay']=1 #ms\n",
    "PARS['max_delay']=100 #ms\n",
    "PARS['simtime']=100 #ms\n",
    "\n",
    "sim.setup(\n",
    "        timestep=PARS['dt'],\n",
    "        min_delay=PARS['min_delay'],\n",
    "        max_delay=PARS['max_delay'])\n",
    "\n",
    "simtime = PARS['simtime']"
   ]
  },
  {
   "cell_type": "markdown",
   "id": "694efddb-5a9b-4221-a4a6-56c8956a0a26",
   "metadata": {},
   "source": [
    "# define the network with default parameters"
   ]
  },
  {
   "cell_type": "code",
   "execution_count": 5,
   "id": "6eb85f80-cac2-4772-aa2b-b02f5a477a65",
   "metadata": {},
   "outputs": [
    {
     "data": {
      "text/plain": [
       "dict_keys(['cell0', 'cell1'])"
      ]
     },
     "execution_count": 5,
     "metadata": {},
     "output_type": "execute_result"
    }
   ],
   "source": [
    "# print(sim.IF_cond_exp.default_parameters)\n",
    "\n",
    "cell0 = sim.Population(1, \n",
    "                      sim.IF_cond_exp(), \n",
    "                      label='cell0')\n",
    "\n",
    "cell1 = sim.Population(1, \n",
    "                      sim.IF_cond_exp(), \n",
    "                      label='cell1')\n",
    "\n",
    "cell0.record(['v', 'gsyn_exc', 'gsyn_inh', 'spikes'])\n",
    "cell1.record(['v', 'gsyn_exc', 'gsyn_inh', 'spikes'])\n",
    "\n",
    "pops=dict(cell0=cell0, \n",
    "          cell1=cell1)\n",
    "\n",
    "pops.keys()"
   ]
  },
  {
   "cell_type": "markdown",
   "id": "60c68348-ff39-447f-bb32-a219c17cc3dd",
   "metadata": {},
   "source": [
    "# define connections"
   ]
  },
  {
   "cell_type": "code",
   "execution_count": 6,
   "id": "50e987a7-82c0-4ee6-9000-01c3db24018f",
   "metadata": {},
   "outputs": [],
   "source": [
    "ge=1 # nS\n",
    "gi=1 # nS\n",
    "d=1 # delay ms\n",
    "\n",
    "connection = sim.Projection(cell0, \n",
    "                            cell1,\n",
    "                            sim.OneToOneConnector(),\n",
    "                            sim.StaticSynapse(weight=ge, delay=d),\n",
    "                            receptor_type='excitatory'),\n",
    "\n",
    "connection = sim.Projection(cell1, \n",
    "                            cell0,\n",
    "                            sim.OneToOneConnector(),\n",
    "                            sim.StaticSynapse(weight=gi, delay=d),\n",
    "                            receptor_type='inhibitory'),\n"
   ]
  },
  {
   "cell_type": "markdown",
   "id": "7ff26b94-050c-4f55-9ce2-7a7aaa6dd225",
   "metadata": {},
   "source": [
    "# input"
   ]
  },
  {
   "cell_type": "code",
   "execution_count": 7,
   "id": "53737f75-8103-4e05-9f18-d74d1cdec2af",
   "metadata": {},
   "outputs": [],
   "source": [
    "#pulse = sim.DCSource(amplitude=1, start=20.0, stop=30.0)\n",
    "pulse = sim.StepCurrentSource(times=[30,40],\n",
    "                              amplitudes=[10,0,])\n",
    "pulse.inject_into(cell0)\n",
    "pulse.record()\n"
   ]
  },
  {
   "cell_type": "markdown",
   "id": "3066bb24-5ea8-4654-b685-0f34923d140c",
   "metadata": {},
   "source": [
    "# simulation run"
   ]
  },
  {
   "cell_type": "code",
   "execution_count": 8,
   "id": "a333f08c-1165-4cb1-8030-84223453cc58",
   "metadata": {},
   "outputs": [
    {
     "name": "stderr",
     "output_type": "stream",
     "text": [
      "INFO       No numerical integration method specified for group 'neurongroup_1', using method 'euler' (took 0.03s, trying other methods took 0.14s). [brian2.stateupdaters.base.method_choice]\n",
      "INFO       No numerical integration method specified for group 'neurongroup', using method 'euler' (took 0.01s, trying other methods took 0.06s). [brian2.stateupdaters.base.method_choice]\n"
     ]
    },
    {
     "name": "stdout",
     "output_type": "stream",
     "text": [
      "simulation time: 0.6108434200286865 [s]\n"
     ]
    }
   ],
   "source": [
    "tic = time.time()\n",
    "sim.run(simtime)\n",
    "toc = time.time() - tic\n",
    "print(f'simulation time: {toc} [s]')"
   ]
  },
  {
   "cell_type": "markdown",
   "id": "a0ac9f1e-9e62-4a71-8ac1-a2175289d7f1",
   "metadata": {},
   "source": [
    "# save and get results"
   ]
  },
  {
   "cell_type": "code",
   "execution_count": 9,
   "id": "633bbbb2-101e-4469-b6c8-272333dbab3a",
   "metadata": {},
   "outputs": [
    {
     "name": "stdout",
     "output_type": "stream",
     "text": [
      "cell0\n",
      "v\n",
      "gsyn_inh\n",
      "gsyn_exc\n",
      "cell1\n",
      "v\n",
      "gsyn_inh\n",
      "gsyn_exc\n"
     ]
    },
    {
     "data": {
      "text/plain": [
       "dict_keys([('cell0', 'v'), ('cell0', 'gsyn_inh'), ('cell0', 'gsyn_exc'), ('cell0', 'spikes'), ('cell1', 'v'), ('cell1', 'gsyn_inh'), ('cell1', 'gsyn_exc'), ('cell1', 'spikes')])"
      ]
     },
     "execution_count": 9,
     "metadata": {},
     "output_type": "execute_result"
    }
   ],
   "source": [
    "stateVars = {}\n",
    "for pop in pops.keys():\n",
    "    for recording in ['v', 'gsyn_inh', 'gsyn_exc', 'spikes']:\n",
    "        pops[pop].write_data(f'{saveName}-{recording}.pkl')\n",
    "        stateVars[pop]=pops[pop].get_data()\n",
    "\n",
    "stateVars.keys()\n",
    "results = pu.recover_results(stateVars)\n",
    "results.keys()"
   ]
  },
  {
   "cell_type": "markdown",
   "id": "33807051-4d4f-49fe-960f-0bb2499696b1",
   "metadata": {},
   "source": [
    "# plots"
   ]
  },
  {
   "cell_type": "code",
   "execution_count": 10,
   "id": "f7c025e6-de32-4560-848b-20dfb532ded2",
   "metadata": {},
   "outputs": [],
   "source": [
    "timeVector = np.linspace(0,PARS['simtime'], np.int(PARS['simtime']/PARS['dt'])+1)"
   ]
  },
  {
   "cell_type": "code",
   "execution_count": 11,
   "id": "6fee7a6f-e207-410e-afa5-6591275742c3",
   "metadata": {},
   "outputs": [
    {
     "data": {
      "image/png": "[encoded data removed]",
      "text/plain": [
       "<Figure size 792x288 with 2 Axes>"
      ]
     },
     "metadata": {
      "needs_background": "light"
     },
     "output_type": "display_data"
    }
   ],
   "source": [
    "fig, ax = plt.subplots(1,1,figsize=(11, 4))\n",
    "#ax = ax.flatten()\n",
    "#fig.tight_layout(pad=5)\n",
    "\n",
    "ax.plot(timeVector, results['cell0', 'v'], label='v-cell0', color='k', alpha=0.25)\n",
    "axR=ax.twinx()\n",
    "axR.plot(timeVector, results['cell0', 'gsyn_inh'], label='gsyn_inh-cell0', color='r')\n",
    "axR.plot(timeVector, results['cell1', 'gsyn_exc'], label='gsyn_exc-cell1', color='g')\n",
    "axR.set_ylabel('[uS]')\n",
    "axR.legend()\n",
    "ax.set_xlabel('[ms]')\n",
    "ax.set_ylabel('[mV]')\n",
    "ax.legend(loc='lower right')\n",
    "axU=ax.inset_axes([0,1.2, 1, 0.25])\n",
    "axU.plot(timeVector, pulse.get_data(), label='step-current-to-cell0', color='b', alpha=0.5)\n",
    "#axU.axvline(30, color='b',alpha=0.5)\n",
    "#axU.axvline(40, color='b',alpha=0.5)\n",
    "axU.set_ylabel('[nA]')\n",
    "axU.set_xlabel('[ms]')\n",
    "axU.legend()\n",
    "ax.axvline(30, color='b',alpha=0.5)\n",
    "ax.axvline(40, color='b',alpha=0.5)\n",
    "\n",
    "axL=ax.inset_axes([0,-0.5, 1, 0.25])\n",
    "axL.eventplot(results['cell0', 'spikes'], color='r', alpha=1, label='spikes-cell0')\n",
    "axL.set_xlim(ax.get_xlim())\n",
    "axL.axvline(30, color='b',alpha=0.5)\n",
    "axL.axvline(40, color='b',alpha=0.5)\n",
    "axLL=axL.inset_axes([0,-1.75, 1, 1])\n",
    "axLL.eventplot(results['cell1', 'spikes'], color='g', alpha=1, label='spikes-cell1')\n",
    "axLL.set_xlim(ax.get_xlim())\n",
    "axLL.axvline(30, color='b',alpha=0.5)\n",
    "axLL.axvline(40, color='b',alpha=0.5)\n",
    "axLL.legend(loc='lower left')\n",
    "axL.legend(loc='lower left')\n",
    "axL.set_xlabel('[ms]')\n",
    "axLL.set_xlabel('[ms]')\n",
    "\n",
    "axLL.spines['left'].set_visible(False)\n",
    "axLL.spines['right'].set_visible(False)\n",
    "axLL.spines['top'].set_visible(False)\n",
    "axL.spines['left'].set_visible(False)\n",
    "axL.spines['right'].set_visible(False)\n",
    "axL.spines['top'].set_visible(False)\n",
    "axL.set_yticklabels(' ')\n",
    "axL.set_yticks([])\n",
    "axLL.set_yticklabels(' ')\n",
    "axLL.set_yticks([])\n",
    "\n",
    "#axLLL=axL.inset_axes([0,-3,  1, 1])\n",
    "#balanceCell0=results['cell0', 'gsyn_exc']/results['cell0', 'gsyn_inh']\n",
    "#balanceCell1=results['cell1', 'gsyn_exc']/results['cell1', 'gsyn_inh']\n",
    "#axLLL.plot(timeVector, balanceCell0)\n",
    "#axLLL.plot(timeVector, balanceCell1)\n",
    "\n",
    "fig.savefig(f'{saveName}.jpeg', dpi=70, bbox_inches='tight', facecolor='white')"
   ]
  },
  {
   "cell_type": "code",
   "execution_count": null,
   "id": "131f2815-6f8d-4eae-9ce2-99eb06577b50",
   "metadata": {},
   "outputs": [],
   "source": []
  }
 ],
 "metadata": {
  "kernelspec": {
   "display_name": "Python 3",
   "language": "python",
   "name": "python3"
  },
  "language_info": {
   "codemirror_mode": {
    "name": "ipython",
    "version": 3
   },
   "file_extension": ".py",
   "mimetype": "text/x-python",
   "name": "python",
   "nbconvert_exporter": "python",
   "pygments_lexer": "ipython3",
   "version": "3.8.5"
  }
 },
 "nbformat": 4,
 "nbformat_minor": 5
}
