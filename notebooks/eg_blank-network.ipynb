{
 "cells": [
  {
   "cell_type": "markdown",
   "metadata": {},
   "source": [
    "# Blank network\n"
   ]
  },
  {
   "cell_type": "code",
   "execution_count": 1,
   "metadata": {},
   "outputs": [],
   "source": [
    "# fileName\n",
    "\n",
    "fileName = 'eg_xxx'"
   ]
  },
  {
   "cell_type": "code",
   "execution_count": 2,
   "metadata": {},
   "outputs": [
    {
     "name": "stderr",
     "output_type": "stream",
     "text": [
      "INFO       Cache size for target 'cython': 1175478576 MB.\n",
      "You can call clear_cache('cython') to delete all files from the cache or manually delete files in the '/home/bbpnrsoa/.cython/brian_extensions' directory. [brian2]\n"
     ]
    }
   ],
   "source": [
    "try:\n",
    "    import pyNN.spiNNaker as sim\n",
    "except ModuleNotFoundError:\n",
    "    import pyNN.brian2 as sim\n",
    "    \n",
    "from pyNN import space \n",
    "import numpy as np\n",
    "import matplotlib.pyplot as plt\n",
    "import numpy as np\n",
    "import matplotlib.pyplot as plt\n",
    "import scipy\n",
    "import pickle\n",
    "import pandas as pd\n",
    "import seaborn as sns\n",
    "import time\n",
    "import datetime\n",
    "import json\n",
    "import warnings\n",
    "warnings.filterwarnings('ignore')\n",
    "import python_utils as pu\n",
    "\n",
    "savePath = f'../outputs/' # remember to create the folder if not already present (mkdir ./notebooks/outputs)\n",
    "dt_string = datetime.datetime.today().isoformat() # ISO8601 ! :-)\n",
    "tag = dt_string \n",
    "saveName = f'{savePath}{fileName}-{tag}'\n",
    "print(saveName)\n",
    "PARS={}\n",
    "\n"
   ]
  },
  {
   "cell_type": "code",
   "execution_count": 3,
   "metadata": {},
   "outputs": [
    {
     "data": {
      "text/plain": [
       "'e.g., \\nsim.setup(\\n        timestep=1, # [ms]\\n        min_delay=1, # [ms]\\n        max_delay=100) # [ms]\\n\\nsimtime = 250 # [ms+]\\n\\n'"
      ]
     },
     "execution_count": 3,
     "metadata": {},
     "output_type": "execute_result"
    }
   ],
   "source": [
    "# simulation settings\n",
    "\n",
    "\"\"\"e.g., \n",
    "sim.setup(\n",
    "        timestep=1, # [ms]\n",
    "        min_delay=1, # [ms]\n",
    "        max_delay=100) # [ms]\n",
    "\n",
    "simtime = 250 # [ms+]\n",
    "\n",
    "\"\"\""
   ]
  },
  {
   "cell_type": "code",
   "execution_count": 4,
   "metadata": {},
   "outputs": [],
   "source": [
    "# make the network\n",
    "\n"
   ]
  },
  {
   "cell_type": "code",
   "execution_count": 5,
   "metadata": {},
   "outputs": [],
   "source": [
    "# make the connections \n",
    "\n"
   ]
  },
  {
   "cell_type": "code",
   "execution_count": 6,
   "metadata": {},
   "outputs": [],
   "source": [
    "# make the synapses\n"
   ]
  },
  {
   "cell_type": "code",
   "execution_count": null,
   "metadata": {},
   "outputs": [],
   "source": []
  },
  {
   "cell_type": "code",
   "execution_count": 7,
   "metadata": {},
   "outputs": [],
   "source": [
    "# make the thalamic input sources\n"
   ]
  },
  {
   "cell_type": "code",
   "execution_count": null,
   "metadata": {},
   "outputs": [],
   "source": []
  },
  {
   "cell_type": "code",
   "execution_count": 8,
   "metadata": {},
   "outputs": [],
   "source": [
    "# make the projections"
   ]
  },
  {
   "cell_type": "code",
   "execution_count": null,
   "metadata": {},
   "outputs": [],
   "source": []
  },
  {
   "cell_type": "code",
   "execution_count": 9,
   "metadata": {},
   "outputs": [],
   "source": [
    "# run simulation\n",
    "\n",
    "#sim.run(simtime) "
   ]
  },
  {
   "cell_type": "code",
   "execution_count": 1,
   "metadata": {},
   "outputs": [
    {
     "data": {
      "text/plain": [
       "\"\\nstateVars = {}\\nfor pop in pops.keys():\\n    for recording in ['v', 'gsyn_inh', 'gsyn_exc', 'spikes']:\\n        pops[pop].write_data(f'{saveName}-{recording}.pkl')\\n        stateVars[pop]=pops[pop].get_data()\\n\\nstateVars.keys()\\nresults = pu.recover_results(stateVars)\\nresults.keys()\\n\""
      ]
     },
     "execution_count": 1,
     "metadata": {},
     "output_type": "execute_result"
    }
   ],
   "source": [
    "# save the results\n",
    "\n",
    "\"\"\"\n",
    "stateVars = {}\n",
    "for pop in pops.keys():\n",
    "    for recording in ['v', 'gsyn_inh', 'gsyn_exc', 'spikes']:\n",
    "        pops[pop].write_data(f'{saveName}-{recording}.pkl')\n",
    "        stateVars[pop]=pops[pop].get_data()\n",
    "\n",
    "stateVars.keys()\n",
    "results = pu.recover_results(stateVars)\n",
    "results.keys()\n",
    "\"\"\""
   ]
  },
  {
   "cell_type": "code",
   "execution_count": 14,
   "metadata": {},
   "outputs": [
    {
     "data": {
      "text/plain": [
       "\"\\ne.g., \\n\\nfig, axes = plt.subplots(2, 1)\\nfig.tight_layout(pad=5)\\naxes_list = fig.axes\\n\\nfor idx, value in enumerate(['Exc', 'Inh']):\\n    axes_list[idx].eventplot(results[value, 'spikes'])\\n    axes_list[idx].set_title('rasterplot of ' + str(value) + ' layer')\\n    axes_list[idx].set_xlabel('[ms]')\\n    axes_list[idx].set_ylabel('cells')\\n    axes_list[idx].set_xlim(0, simtime)\\n\""
      ]
     },
     "execution_count": 14,
     "metadata": {},
     "output_type": "execute_result"
    }
   ],
   "source": [
    "# check the spikes\n",
    "\n",
    "\n",
    "\n",
    "\n",
    "\"\"\"\n",
    "e.g., \n",
    "\n",
    "fig, axes = plt.subplots(2, 1)\n",
    "fig.tight_layout(pad=5)\n",
    "axes_list = fig.axes\n",
    "\n",
    "for idx, value in enumerate(['Exc', 'Inh']):\n",
    "    axes_list[idx].eventplot(results[value, 'spikes'])\n",
    "    axes_list[idx].set_title('rasterplot of ' + str(value) + ' layer')\n",
    "    axes_list[idx].set_xlabel('[ms]')\n",
    "    axes_list[idx].set_ylabel('cells')\n",
    "    axes_list[idx].set_xlim(0, simtime)\n",
    "\"\"\""
   ]
  },
  {
   "cell_type": "code",
   "execution_count": 15,
   "metadata": {},
   "outputs": [
    {
     "data": {
      "text/plain": [
       "\"\\ne.g., \\n\\nfig, axes = plt.subplots(2, 1)#, figsize=(9,5))\\nfig.tight_layout(pad=4)\\n\\naxes_list = fig.axes\\n\\nfor idx, value in enumerate(['Exc', 'Inh']):\\n    im = axes_list[idx].imshow(results[value, 'v'].T)\\n    axes_list[idx].set_title('voltage of ' + str(value) + ' layer')\\n    axes_list[idx].set_xlabel('time [ms]')\\n    axes_list[idx].set_ylabel('cells')\\n    fig.colorbar(im, ax=axes_list[idx], fraction=0.010, label='[mV]')\\n\""
      ]
     },
     "execution_count": 15,
     "metadata": {},
     "output_type": "execute_result"
    }
   ],
   "source": [
    "# check the voltage\n",
    "\n",
    "\n",
    "\n",
    "\"\"\"\n",
    "e.g., \n",
    "\n",
    "fig, axes = plt.subplots(2, 1)#, figsize=(9,5))\n",
    "fig.tight_layout(pad=4)\n",
    "\n",
    "axes_list = fig.axes\n",
    "\n",
    "for idx, value in enumerate(['Exc', 'Inh']):\n",
    "    im = axes_list[idx].imshow(results[value, 'v'].T)\n",
    "    axes_list[idx].set_title('voltage of ' + str(value) + ' layer')\n",
    "    axes_list[idx].set_xlabel('time [ms]')\n",
    "    axes_list[idx].set_ylabel('cells')\n",
    "    fig.colorbar(im, ax=axes_list[idx], fraction=0.010, label='[mV]')\n",
    "\"\"\""
   ]
  },
  {
   "cell_type": "code",
   "execution_count": 16,
   "metadata": {},
   "outputs": [
    {
     "data": {
      "text/plain": [
       "\"\\ne.g., \\n\\nfor layer in ['Exc', 'Inh']:\\n    fig, axes = plt.subplots(2, 1)\\n    fig.tight_layout(pad=4)\\n    fig.suptitle(str(layer) + ' layer')\\n    axes_list = fig.axes\\n    \\n    for idx, gsyn in enumerate(['gsyn_exc', 'gsyn_inh']):\\n        im = axes_list[idx].imshow(results[layer, gsyn].T)\\n        axes_list[idx].set_title(str(gsyn))\\n        axes_list[idx].set_xlabel('time [ms]')\\n        axes_list[idx].set_ylabel('cells')\\n        fig.colorbar(im, ax=axes_list[idx], fraction=0.010, label='[uS]')\\n\""
      ]
     },
     "execution_count": 16,
     "metadata": {},
     "output_type": "execute_result"
    }
   ],
   "source": [
    "# check the conductances\n",
    "\n",
    "\n",
    "\"\"\"\n",
    "e.g., \n",
    "\n",
    "for layer in ['Exc', 'Inh']:\n",
    "    fig, axes = plt.subplots(2, 1)\n",
    "    fig.tight_layout(pad=4)\n",
    "    fig.suptitle(str(layer) + ' layer')\n",
    "    axes_list = fig.axes\n",
    "    \n",
    "    for idx, gsyn in enumerate(['gsyn_exc', 'gsyn_inh']):\n",
    "        im = axes_list[idx].imshow(results[layer, gsyn].T)\n",
    "        axes_list[idx].set_title(str(gsyn))\n",
    "        axes_list[idx].set_xlabel('time [ms]')\n",
    "        axes_list[idx].set_ylabel('cells')\n",
    "        fig.colorbar(im, ax=axes_list[idx], fraction=0.010, label='[uS]')\n",
    "\"\"\""
   ]
  },
  {
   "cell_type": "code",
   "execution_count": null,
   "metadata": {},
   "outputs": [],
   "source": [
    "# end simulation\n",
    "\n",
    "sim.end()"
   ]
  },
  {
   "cell_type": "code",
   "execution_count": null,
   "metadata": {},
   "outputs": [],
   "source": []
  }
 ],
 "metadata": {
  "kernelspec": {
   "display_name": "Python 3",
   "language": "python",
   "name": "python3"
  },
  "language_info": {
   "codemirror_mode": {
    "name": "ipython",
    "version": 3
   },
   "file_extension": ".py",
   "mimetype": "text/x-python",
   "name": "python",
   "nbconvert_exporter": "python",
   "pygments_lexer": "ipython3",
   "version": "3.8.5"
  }
 },
 "nbformat": 4,
 "nbformat_minor": 4
}
