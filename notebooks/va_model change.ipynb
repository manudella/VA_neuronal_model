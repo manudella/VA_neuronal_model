{
 "cells": [
  {
   "cell_type": "markdown",
   "metadata": {},
   "source": [
    "# Balanced network of excitatory and inhibitory neurons: model change\n"
   ]
  },
  {
   "cell_type": "markdown",
   "metadata": {},
   "source": [
    "Our aim was to change the structure and the parameters of the standard Vogels and Abbott (VA) Network, and to understand how these changes impacted the results and behavior of the model.\n",
    "\n",
    "(NOTE: baseline code for functions etc. was taken from the source notebooks seen in the labs, contained in this GitHub repository)"
   ]
  },
  {
   "cell_type": "code",
   "execution_count": 1,
   "metadata": {},
   "outputs": [],
   "source": [
    "fileName='VA_balance-network'"
   ]
  },
  {
   "cell_type": "code",
   "execution_count": 2,
   "metadata": {},
   "outputs": [
    {
     "name": "stdout",
     "output_type": "stream",
     "text": [
      "./outputs/VA_balance-network-2024-02-08T11:28:50.490992\n"
     ]
    }
   ],
   "source": [
    "from pyNN import space\n",
    "import numpy as np\n",
    "import matplotlib.pyplot as plt\n",
    "import numpy as np\n",
    "import matplotlib.pyplot as plt\n",
    "import scipy\n",
    "import pickle\n",
    "import time\n",
    "import datetime\n",
    "import json\n",
    "import warnings\n",
    "warnings.filterwarnings('ignore')\n",
    "\n",
    "savePath = f'./outputs/' # remember to create the folder if not already present (mkdir ./notebooks/outputs)\n",
    "dt_string = datetime.datetime.today().isoformat() # ISO8601 ! :-)\n",
    "tag = dt_string\n",
    "saveName = f'{savePath}{fileName}-{tag}'\n",
    "print(saveName)\n",
    "PARS={}"
   ]
  },
  {
   "cell_type": "markdown",
   "metadata": {},
   "source": [
    "# step0: import the simulator"
   ]
  },
  {
   "cell_type": "code",
   "execution_count": 3,
   "metadata": {},
   "outputs": [],
   "source": [
    "import socket\n",
    "try:\n",
    "    import pyNN.spiNNaker as sim\n",
    "except ModuleNotFoundError:\n",
    "    import pyNN.brian2 as sim\n",
    "    \n",
    "from pyNN.random import NumpyRNG, RandomDistribution\n",
    "from pyNN.utility.plotting import Figure, Panel\n",
    "import matplotlib.pyplot as plt\n",
    "import matplotlib.colors as colors\n",
    "import time\n",
    "from pyNN import space "
   ]
  },
  {
   "cell_type": "markdown",
   "metadata": {},
   "source": [
    "# step1: setup the simulator"
   ]
  },
  {
   "cell_type": "code",
   "execution_count": 4,
   "metadata": {},
   "outputs": [
    {
     "name": "stderr",
     "output_type": "stream",
     "text": [
      "2024-02-08 11:28:51 INFO: Read cfg files: /home/bbpnrsoa/sPyNNaker/lib/python3.8/site-packages/spinn_front_end_common/interface/spinnaker.cfg, /home/bbpnrsoa/sPyNNaker/lib/python3.8/site-packages/spynnaker/pyNN/spynnaker.cfg, /home/bbpnrsoa/.spynnaker.cfg\n",
      "2024-02-08 11:28:51 INFO: Will search these locations for binaries: /home/bbpnrsoa/sPyNNaker/lib/python3.8/site-packages/spinn_front_end_common/common_model_binaries : /home/bbpnrsoa/sPyNNaker/lib/python3.8/site-packages/spynnaker/pyNN/model_binaries\n",
      "2024-02-08 11:28:51 INFO: Setting time scale factor to 1.\n",
      "2024-02-08 11:28:51 INFO: Setting machine time step to 1000 micro-seconds.\n"
     ]
    },
    {
     "name": "stdout",
     "output_type": "stream",
     "text": [
      "['/home/bbpnrsoa/sPyNNaker/lib/python3.8/site-packages/spinn_front_end_common/interface/spinnaker.cfg', '/home/bbpnrsoa/sPyNNaker/lib/python3.8/site-packages/spynnaker/pyNN/spynnaker.cfg', '/home/bbpnrsoa/.spynnaker.cfg']\n"
     ]
    }
   ],
   "source": [
    "dt = 1          # (ms) simulation timestep\n",
    "tstop = 1000      # (ms) simulaton duration\n",
    "delay = 2 # (ms) \n",
    "\n",
    "sim.setup(\n",
    "    timestep=dt, \n",
    "    min_delay=delay, \n",
    "    max_delay=delay) # [ms] # not that the max_delay supported by SpiNNaker is timestep * 144\n",
    "\n",
    "rngseed = 98766987\n",
    "rng = NumpyRNG(seed=rngseed, parallel_safe=True)"
   ]
  },
  {
   "cell_type": "markdown",
   "metadata": {},
   "source": [
    "# step2: decide the cell types and parameters"
   ]
  },
  {
   "cell_type": "code",
   "execution_count": 5,
   "metadata": {},
   "outputs": [
    {
     "data": {
      "text/plain": [
       "['AbstractPyNNModel',\n",
       " 'IF_cond_exp',\n",
       " 'IF_curr_exp',\n",
       " 'IF_curr_alpha',\n",
       " 'IF_curr_delta',\n",
       " 'Izhikevich',\n",
       " 'SpikeSourceArray',\n",
       " 'SpikeSourcePoisson']"
      ]
     },
     "execution_count": 5,
     "metadata": {},
     "output_type": "execute_result"
    }
   ],
   "source": [
    "sim.list_standard_models()"
   ]
  },
  {
   "cell_type": "code",
   "execution_count": 6,
   "metadata": {},
   "outputs": [
    {
     "data": {
      "text/plain": [
       "dict_keys(['a', 'b', 'c', 'd', 'i_offset', 'tau_syn_E', 'tau_syn_I'])"
      ]
     },
     "execution_count": 6,
     "metadata": {},
     "output_type": "execute_result"
    }
   ],
   "source": [
    "# cell type\n",
    "celltype = sim.Izhikevich\n",
    "sim.Izhikevich.get_parameter_names()\n",
    "\n"
   ]
  },
  {
   "cell_type": "code",
   "execution_count": 7,
   "metadata": {},
   "outputs": [
    {
     "data": {
      "text/plain": [
       "{'a': 0.02,\n",
       " 'b': 0.2,\n",
       " 'c': -65.0,\n",
       " 'd': 2.0,\n",
       " 'i_offset': 0.0,\n",
       " 'tau_syn_E': 5.0,\n",
       " 'tau_syn_I': 5.0}"
      ]
     },
     "execution_count": 7,
     "metadata": {},
     "output_type": "execute_result"
    }
   ],
   "source": [
    "standard_pars = sim.Izhikevich.default_parameters\n",
    "\n",
    "standard_pars\n"
   ]
  },
  {
   "cell_type": "code",
   "execution_count": 10,
   "metadata": {},
   "outputs": [],
   "source": [
    "cell_params = standard_pars\n",
    "cell_params['i_offset'] = 5.0\n",
    "cell_params\n",
    "\n",
    "#define initial values(default ones used)\n",
    "v= -70.0\n",
    "u = -14.0\n",
    "#v=membrane potential.\n",
    "#u=membrane recovery variable.\n",
    "#i_offset=input current.\n",
    "#a: Time scale of the recovery variable u.\n",
    "#b: Sensitivity of the recovery variable u to the subthreshold fluctuations of the membrane potential v.\n",
    "#c: Reset value of the membrane potential v caused by the fast high-threshold potassium conductance.\n",
    "#d: Reset value of the recovery variable u caused by the slow high-threshold potassium conductance."
   ]
  },
  {
   "cell_type": "markdown",
   "metadata": {},
   "source": [
    "# step3: making cell populations\n"
   ]
  },
  {
   "cell_type": "code",
   "execution_count": 11,
   "metadata": {},
   "outputs": [
    {
     "name": "stdout",
     "output_type": "stream",
     "text": [
      "1200 300\n"
     ]
    },
    {
     "data": {
      "text/plain": [
       "dict_keys(['exc', 'inh'])"
      ]
     },
     "execution_count": 11,
     "metadata": {},
     "output_type": "execute_result"
    }
   ],
   "source": [
    "n = 1500          # number of cells\n",
    "r_ei = 4.0        # number of excitatory cells:number of inhibitory cells\n",
    "n_exc = int(round((n * r_ei / (1 + r_ei))))  # number of excitatory cells\n",
    "n_inh = n - n_exc                            # number of inhibitory cells\n",
    "print(\"{} {}\".format(n_exc, n_inh))\n",
    "\n",
    "pops = {\n",
    "    'exc': sim.Population(\n",
    "                                n_exc, \n",
    "                                celltype(**cell_params), \n",
    "                                label=\"Excitatory_Cells\"),\n",
    "\n",
    "    'inh': sim.Population(\n",
    "                                n_inh, \n",
    "                                celltype(**cell_params), \n",
    "                                label=\"Inhibitory_Cells\")\n",
    "}\n",
    "\n",
    "pops['exc'].record(['v', 'spikes'])\n",
    "pops['inh'].record(['v', 'spikes'])\n",
    "\n",
    "c = cell_params['c']\n",
    "uniformDistr = RandomDistribution('uniform', [c, u], rng=rng)\n",
    "pops['exc'].initialize(v=uniformDistr)\n",
    "pops['inh'].initialize(v=uniformDistr)\n",
    "\n",
    "pops.keys()"
   ]
  },
  {
   "cell_type": "markdown",
   "metadata": {},
   "source": [
    "# step4: define the synapse types"
   ]
  },
  {
   "cell_type": "code",
   "execution_count": 12,
   "metadata": {},
   "outputs": [],
   "source": [
    "# Synapse parameters\n",
    "###UNCOMMENT THIS PART TO USE THE ORIGINAL WEIGHTS\n",
    "#Gexc = None\n",
    "#Ginh = None\n",
    "#Gexc = 4.     # (nS) #1\n",
    "#Ginh = 51.    # (nS) #1\n",
    "#w_exc = Gexc * 1e-3             \n",
    "#w_inh = Ginh * 1e-3\n",
    "\n",
    "###COMMENT THIS PART TO USE THE ORIGINAL WEIGHTS\n",
    "i_offset = cell_params['i_offset'] \n",
    "w_exc = i_offset * 0.2            \n",
    "w_inh = i_offset * 0.5\n",
    "\n",
    "exc_synapses = sim.StaticSynapse(weight=w_exc, delay=delay)\n",
    "inh_synapses = sim.StaticSynapse(weight=w_inh, delay=delay)\n"
   ]
  },
  {
   "cell_type": "markdown",
   "metadata": {},
   "source": [
    "# step5: select the connections algorithm"
   ]
  },
  {
   "cell_type": "code",
   "execution_count": 13,
   "metadata": {},
   "outputs": [],
   "source": [
    "pconn = 0.02      # connection probability (2%)\n",
    "\n",
    "exc_conn = sim.FixedProbabilityConnector(pconn, rng=rng)\n",
    "inh_conn = sim.FixedProbabilityConnector(pconn, rng=rng)"
   ]
  },
  {
   "cell_type": "markdown",
   "metadata": {},
   "source": [
    "# step6: make the projections"
   ]
  },
  {
   "cell_type": "code",
   "execution_count": 14,
   "metadata": {},
   "outputs": [
    {
     "data": {
      "text/plain": [
       "dict_keys(['e2e', 'e2i', 'i2e', 'i2i'])"
      ]
     },
     "execution_count": 14,
     "metadata": {},
     "output_type": "execute_result"
    }
   ],
   "source": [
    "connections = {\n",
    "    \n",
    "    'e2e': sim.Projection(\n",
    "        pops['exc'],\n",
    "        pops['exc'], \n",
    "        exc_conn, \n",
    "        receptor_type='excitatory',\n",
    "        synapse_type=exc_synapses),\n",
    "    \n",
    "    'e2i': sim.Projection(\n",
    "        pops['exc'], \n",
    "        pops['inh'], \n",
    "        exc_conn, \n",
    "        receptor_type='excitatory',\n",
    "        synapse_type=exc_synapses),\n",
    "    \n",
    "    'i2e': sim.Projection(\n",
    "        pops['inh'], \n",
    "        pops['exc'], \n",
    "        inh_conn, \n",
    "        receptor_type='inhibitory',\n",
    "        synapse_type=inh_synapses),\n",
    "    \n",
    "    'i2i': sim.Projection(\n",
    "        pops['inh'],\n",
    "        pops['inh'],\n",
    "        inh_conn, \n",
    "        receptor_type='inhibitory',\n",
    "        synapse_type=inh_synapses)\n",
    "    \n",
    "        }\n",
    "\n",
    "connections.keys()"
   ]
  },
  {
   "cell_type": "markdown",
   "metadata": {},
   "source": [
    "# step7: setting the thalamic stimulus"
   ]
  },
  {
   "cell_type": "code",
   "execution_count": 15,
   "metadata": {},
   "outputs": [
    {
     "data": {
      "text/plain": [
       "(dict_keys(['e2e', 'e2i', 'i2e', 'i2i', 'ext2e', 'ext2i']),\n",
       " dict_keys(['exc', 'inh', 'thalamus']))"
      ]
     },
     "execution_count": 15,
     "metadata": {},
     "output_type": "execute_result"
    }
   ],
   "source": [
    "n_thalamic_cells = 20 \n",
    "stim_dur = 50.    # (ms) duration of random stimulation\n",
    "rate = 100.       # (Hz) frequency of the random stimulation\n",
    "\n",
    "exc_conn = None\n",
    "\n",
    "pops['thalamus'] = sim.Population(\n",
    "    n_thalamic_cells, \n",
    "    sim.SpikeSourcePoisson(rate=rate, duration=stim_dur),\n",
    "    label=\"expoisson\")\n",
    "pops['thalamus'].record(\"spikes\")\n",
    "\n",
    "\n",
    "rconn = 0.01\n",
    "ext_conn = sim.FixedProbabilityConnector(rconn)\n",
    "\n",
    "connections['ext2e'] = sim.Projection(\n",
    "    pops['thalamus'], \n",
    "    pops['exc'], \n",
    "    ext_conn, \n",
    "    receptor_type='excitatory',\n",
    "    synapse_type=sim.StaticSynapse(weight=0.1))\n",
    "\n",
    "connections['ext2i'] = sim.Projection(\n",
    "    pops['thalamus'], \n",
    "    pops['inh'], \n",
    "    ext_conn, \n",
    "    receptor_type='excitatory',\n",
    "    synapse_type=sim.StaticSynapse(weight=0.1))\n",
    "\n",
    "connections.keys(), pops.keys()"
   ]
  },
  {
   "cell_type": "markdown",
   "metadata": {},
   "source": [
    "# step8: run simulation"
   ]
  },
  {
   "cell_type": "code",
   "execution_count": 16,
   "metadata": {},
   "outputs": [
    {
     "name": "stderr",
     "output_type": "stream",
     "text": [
      "2024-02-08 11:32:24 INFO: Starting execution process\n",
      "2024-02-08 11:32:24 INFO: Simulating for 1000 1.0ms timesteps using a hardware timestep of 1000us\n",
      "Adding Splitter selectors where appropriate\n",
      "|0%                          50%                         100%|\n",
      " ============================================================\n",
      "2024-02-08 11:32:25 INFO: Time 0:00:00.016836 taken by SpynnakerSplitterSelector\n",
      "Adding delay extensions as required\n",
      "|0%                          50%                         100%|\n",
      " ============================================================\n",
      "2024-02-08 11:32:25 INFO: Time 0:00:00.015102 taken by DelaySupportAdder\n",
      "2024-02-08 11:32:28 INFO: Time 0:00:03.033845 taken by SpallocMaxMachineGenerator\n",
      "Preallocating resources for Extra Monitor support vertices\n",
      "|0%                          50%                         100%|\n",
      " ============================================================\n",
      "2024-02-08 11:32:40 INFO: Time 0:00:12.192957 taken by PreAllocateResourcesForExtraMonitorSupport\n",
      "Partitioning graph vertices\n",
      "|0%                          50%                         100%|\n",
      " ============================================================\n",
      "Partitioning graph edges\n",
      "|0%                          50%                         100%|\n",
      " ============================================================\n",
      "2024-02-08 11:32:45 INFO: Time 0:00:05.119596 taken by SpYNNakerSplitterPartitioner\n",
      "Created spalloc job 389867\n",
      "2024-02-08 11:32:45 INFO: Created spalloc job 389867\n",
      "Job has been queued by the spalloc server.\n",
      "2024-02-08 11:32:45 INFO: Job has been queued by the spalloc server.\n",
      "Waiting for board power commands to complete.\n",
      "2024-02-08 11:32:48 INFO: Waiting for board power commands to complete.\n",
      "2024-02-08 11:32:57 INFO: Time 0:00:12.099208 taken by SpallocAllocator\n",
      "2024-02-08 11:32:57 INFO: Creating transceiver for 10.11.212.105\n",
      "2024-02-08 11:32:57 INFO: Working out if machine is booted\n",
      "2024-02-08 11:33:01 INFO: Attempting to boot machine\n",
      "2024-02-08 11:33:07 INFO: Found board with version [Version: SC&MP 3.4.1 at SpiNNaker:0:0:0 (built Thu Feb 11 15:36:44 2021)]\n",
      "2024-02-08 11:33:07 INFO: Machine communication successful\n",
      "2024-02-08 11:33:07 INFO: Detected a machine on IP address 10.11.212.105 which has 855 cores and 120.0 links\n",
      "2024-02-08 11:33:07 INFO: Time 0:00:09.936599 taken by MachineGenerator\n",
      "Generating partitioner report\n",
      "|0%                          50%                         100%|\n",
      " ============================================================\n",
      "2024-02-08 11:33:07 INFO: Time 0:00:00.014866 taken by PartitionerReport\n",
      "2024-02-08 11:33:07 INFO: Time 0:00:00.000429 taken by NetworkSpecificationReport\n",
      "Allocating virtual identifiers\n",
      "|0%                          50%                         100%|\n",
      " ============================================================\n",
      "2024-02-08 11:33:07 INFO: Time 0:00:00.039841 taken by MallocBasedChipIDAllocator\n",
      "Inserting extra monitors into graphs\n",
      "|0%                          50%                         100%|\n",
      " ============================================================\n",
      "2024-02-08 11:33:07 INFO: Time 0:00:00.040844 taken by InsertExtraMonitorVerticesToGraphs\n",
      "Writing the board chip report\n",
      "|0%                          50%                         100%|\n",
      " ============================================================\n",
      "2024-02-08 11:33:07 INFO: Time 0:00:00.011736 taken by BoardChipReport\n",
      "Getting number of keys required by each edge using application graph\n",
      "|0%                          50%                         100%|\n",
      " ============================================================\n",
      "2024-02-08 11:33:07 INFO: Time 0:00:00.044244 taken by EdgeToNKeysMapper\n",
      "2024-02-08 11:33:07 INFO: The time scale factor could be reduced to 0.4992\n",
      "2024-02-08 11:33:07 INFO: Time 0:00:00.001681 taken by LocalTDMABuilder\n",
      "Placing graph vertices via spreading over an entire machine\n",
      "|0%                          50%                         100%|\n",
      " ============================================================\n",
      "2024-02-08 11:33:07 INFO: Time 0:00:00.018585 taken by SpreaderPlacer\n",
      "Inserting edges between vertices which require FR speed up functionality.\n",
      "|0%                          50%                         100%|\n",
      " ================================2024-02-08 11:33:07 INFO: Time 0:00:00.035536 taken by InsertEdgesToExtraMonitorFunctionality\n",
      "Generating routing tables for data in system processes\n",
      "|0%                          50%                         100%|\n",
      " ============================================================\n",
      "2024-02-08 11:33:07 INFO: Time 0:00:00.012338 taken by SystemMulticastRoutingGenerator\n",
      "Generating fixed router routes\n",
      "|0%                          50%                         100%|\n",
      " ============================================================\n",
      "2024-02-08 11:33:07 INFO: Time 0:00:00.011326 taken by FixedRouteRouter\n",
      "Generating placement report\n",
      "|0%                          50%                         100%|\n",
      " ============================================================\n",
      "Generating placement by core report\n",
      "|0%                          50%                         100%|\n",
      " ============================================================\n",
      "2024-02-08 11:33:07 INFO: Time 0:00:00.081932 taken by PlacerReportWithApplicationGraph\n",
      "Routing\n",
      "|0%                          50%                         100%|\n",
      " ============================================================\n",
      "\n",
      "2024-02-08 11:33:07 INFO: Time 0:00:00.049287 taken by NerRouteTrafficAware\n",
      "Discovering tags\n",
      "|0%                          50%                         100%|\n",
      " ============================================================\n",
      "Allocating tags\n",
      "|0%                          50%                         100%|\n",
      " ============================================================\n",
      "2024-02-08 11:33:07 INFO: Time 0:00:00.058700 taken by BasicTagAllocator\n",
      "Reporting Tags\n",
      "|0%                          50%                         100%|\n",
      " ============================================================\n",
      "2024-02-08 11:33:07 INFO: Time 0:00:00.012377 taken by TagReport\n",
      "Getting constraints for machine graph\n",
      "|0%                          50%                         100%|\n",
      " ============================================================\n",
      "2024-02-08 11:33:08 INFO: Time 0:00:00.046164 taken by ProcessPartitionConstraints\n",
      "Calculating zones\n",
      "|0%                          50%                         100%|\n",
      " ============================================================\n",
      "Allocating routing keys\n",
      "|0%                          50%                         100%|\n",
      " ============================================================\n",
      "2024-02-08 11:33:08 INFO: Time 0:00:00.024573 taken by ZonedRoutingInfoAllocator\n",
      "Generating Routing info report\n",
      "|0%                          50%                         100%|\n",
      " ============================================================\n",
      "2024-02-08 11:33:08 INFO: Time 0:00:00.016655 taken by routingInfoReports\n",
      "Generating routing tables\n",
      "|0%                          50%                         100%|\n",
      " ============================================================\n",
      "2024-02-08 11:33:08 INFO: Time 0:00:00.037559 taken by BasicRoutingTableGenerator\n",
      "2024-02-08 11:33:08 INFO: Time 0:00:00.000807 taken by RouterCollisionPotentialReport\n",
      "Finding executable start types\n",
      "|0%                          50%                         100%|\n",
      " ============================================================\n",
      "2024-02-08 11:33:08 INFO: Time 0:00:00.046071 taken by LocateExecutableStartType\n",
      "Initialising buffers\n",
      "|0%                          50%                         100%|\n",
      " ============================================================\n",
      "2024-02-08 11:33:08 INFO: Time 0:00:00.047457 taken by BufferManagerCreator\n",
      "Allocating SDRAM for SDRAM outgoing egde partitions\n",
      "|0%                          50%                         100%|\n",
      " ============================================================\n",
      "2024-02-08 11:33:08 INFO: Time 0:00:00.044276 taken by SDRAMOutgoingPartitionAllocator\n",
      "Generating data specifications\n",
      "|0%                          50%                         100%|\n",
      " ============================================================\n",
      "2024-02-08 11:33:08 INFO: Time 0:00:00.447718 taken by SpynnakerDataSpecificationWriter\n",
      "Preparing Routing Tables\n",
      "|0%                          50%                         100%|\n",
      " ============================================================\n",
      "2024-02-08 11:33:08 INFO: Time 0:00:00.035843 taken by RoutingSetup\n",
      "Finding binaries\n",
      "|0%                          50%                         100%|\n",
      " ============================================================\n",
      "2024-02-08 11:33:08 INFO: Time 0:00:00.049448 taken by GraphBinaryGatherer\n",
      "Running pair routing table compression on chip\n",
      "|0%                          50%                         100%|\n",
      " ============================================================\n",
      "\n",
      "2024-02-08 11:33:12 INFO: Time 0:00:03.429854 taken by PairOnChipRouterCompression\n",
      "Generating Router table report\n",
      "|0%                          50%                         100%|\n",
      " ============================================================\n",
      "2024-02-08 11:33:12 INFO: Time 0:00:00.018723 taken by unCompressedRoutingTableReports\n",
      "loading fixed routes\n",
      "|0%                          50%                         100%|\n",
      " ============================================================\n",
      "2024-02-08 11:33:12 INFO: Time 0:00:00.053330 taken by LoadFixedRoutes\n",
      "Executing data specifications and loading data for system vertices using Java\n",
      "|0%                          50%                         100%|\n",
      " ============================================================\n",
      "2024-02-08 11:33:13 INFO: Time 0:00:01.107871 taken by HostExecuteSystemDataSpecification\n",
      "Loading system executables onto the machine\n",
      "|0%                          50%                         100%|\n",
      " ============================================================\n",
      "2024-02-08 11:33:19 INFO: Time 0:00:05.761720 taken by LoadSystemExecutableImages\n",
      "2024-02-08 11:33:19 INFO: Time 0:00:00.002438 taken by TagsFromMachineReport\n",
      "Clearing tags\n",
      "|0%                          50%                         100%|\n",
      " ============================================================\n",
      "Loading Tags\n",
      "|0%                          50%                         100%|\n",
      " ============================================================\n",
      "2024-02-08 11:33:19 INFO: Time 0:00:00.031789 taken by TagsLoader\n",
      "Executing data specifications and loading data for application vertices using Java\n",
      "|0%                          50%                         100%|\n",
      " ============================================================\n",
      "2024-02-08 11:33:20 INFO: Time 0:00:01.233245 taken by HostExecuteApplicationDataSpecification\n",
      "Preparing to Expand Synapses\n",
      "|0%                          50%                         100%|\n",
      " ============================================================\n",
      "Expanding Synapses\n",
      "|0%                          50%                         100%|\n",
      " ============================================================\n",
      "\n",
      "\n",
      "2024-02-08 11:33:24 INFO: Time 0:00:04.177435 taken by SynapseExpander\n",
      "Running bitfield generation on chip\n",
      "|0%                          50%                         100%|\n",
      " ============================================================\n",
      "\n",
      "\n",
      "2024-02-08 11:33:28 INFO: Time 0:00:03.384946 taken by OnChipBitFieldGenerator\n",
      "Finalising Retrieved Connections\n",
      "|0%                          50%                         100%|\n",
      " ============================================================\n",
      "2024-02-08 11:33:28 INFO: Time 0:00:00.048303 taken by FinishConnectionHolders\n",
      "Reading Routing Tables from Machine\n",
      "|0%                          50%                         100%|\n",
      " ============================================================\n",
      "2024-02-08 11:33:28 INFO: Time 0:00:00.129170 taken by ReadRoutingTablesFromMachine\n",
      "Generating compressed router table report\n",
      "|0%                          50%                         100%|\n",
      " ============================================================\n",
      "2024-02-08 11:33:28 INFO: Time 0:00:00.018884 taken by compressedRoutingTableReports\n",
      "Generating comparison of router table report\n",
      "|0%                          50%                         100%|\n",
      " ============================================================\n",
      "2024-02-08 11:33:28 INFO: Time 0:00:00.016560 taken by comparisonOfRoutingTablesReport\n",
      "Generating Routing summary report\n",
      "|0%                          50%                         100%|\n",
      " ============================================================\n",
      "2024-02-08 11:33:28 INFO: Time 0:00:00.041301 taken by CompressedRouterSummaryReport\n",
      "Reading Routing Tables from Machine\n",
      "|0%                          50%                         100%|\n",
      " ============================================================\n",
      "2024-02-08 11:33:28 INFO: Time 0:00:00.018338 taken by RoutingTableFromMachineReport\n",
      "Writing fixed route report\n",
      "|0%                          50%                         100%|\n",
      " ============================================================\n",
      "2024-02-08 11:33:28 INFO: Time 0:00:00.053710 taken by FixedRouteFromMachineReport\n",
      "Loading executables onto the machine\n",
      "|0%                          50%                         100%|\n",
      " ============================================================\n",
      "2024-02-08 11:33:35 INFO: Time 0:00:06.989832 taken by LoadApplicationExecutableImages\n",
      "2024-02-08 11:33:35 INFO: Running for 1 steps for a total of 1000.0ms\n",
      "2024-02-08 11:33:35 INFO: Run 1 of 1\n",
      "Generating SDRAM usage report\n",
      "|0%                          50%                         100%|\n",
      " ============================================================\n",
      "2024-02-08 11:33:35 INFO: Time 0:00:00.091093 taken by SdramUsageReportPerChip\n",
      "2024-02-08 11:33:35 INFO: creating live event connection database in /home/bbpnrsoa/VA_neuronal_model/notebooks/model change/reports/2024-02-08-11-28-51-308837/run_1/input_output_database.db\n",
      "Creating graph description database\n",
      "|0%                          50%                         100%|\n",
      " ============================================================\n",
      "2024-02-08 11:33:35 INFO: Time 0:00:00.080494 taken by DatabaseInterface\n",
      "2024-02-08 11:33:35 INFO: ** Notifying external sources that the database is ready for reading **\n",
      "2024-02-08 11:33:35 INFO: Time 0:00:00.001001 taken by CreateNotificationProtocol\n",
      "Getting provenance data from machine graph\n",
      "|0%                          50%                         100%|\n",
      " ============================================================\n",
      "Getting provenance data from application graph\n",
      "|0%                          50%                         100%|\n",
      " ============================================================\n",
      "2024-02-08 11:33:35 INFO: Time 0:00:00.121025 taken by GraphProvenanceGatherer\n",
      "Waiting for cores to be either in PAUSED or READY state\n",
      "|0%                          50%                         100%|\n",
      " ============================================================\n",
      "Updating run time\n",
      "|0%                          50%                         100%|\n",
      " ============================================================\n",
      "2024-02-08 11:33:35 INFO: Time 0:00:00.053857 taken by ChipRuntimeUpdater\n",
      "2024-02-08 11:33:35 INFO: *** Running simulation... *** \n",
      "Loading buffers\n",
      "|0%                          50%                         100%|\n",
      " ============================================================\n",
      "2024-02-08 11:33:35 INFO: ** Awaiting for a response from an external source to state its ready for the simulation to start **\n",
      "2024-02-08 11:33:35 INFO: ** Sending start / resume message to external sources to state the simulation has started or resumed. **\n",
      "2024-02-08 11:33:35 INFO: ** Awaiting for a response from an external source to state its ready for the simulation to start **\n",
      "2024-02-08 11:33:35 INFO: Application started; waiting 1.1s for it to stop\n",
      "2024-02-08 11:33:36 INFO: ** Sending pause / stop message to external sources to state the simulation has been paused or stopped. **\n",
      "2024-02-08 11:33:36 INFO: Time 0:00:01.205892 taken by ApplicationRunner\n",
      "Extracting IOBUF from the machine\n",
      "|0%                          50%                         100%|\n",
      " ============================================================\n",
      "2024-02-08 11:33:36 INFO: Time 0:00:00.052160 taken by ChipIOBufExtractor\n",
      "clearing IOBUF from the machine\n",
      "|0%                          50%                         100%|\n",
      " ============================================================\n",
      "2024-02-08 11:33:37 INFO: Time 0:00:00.019838 taken by ChipIOBufClearer\n",
      "Extracting buffers from the last run\n",
      "|0%                          50%                         100%|\n",
      " ============================================================\n",
      "\n",
      "2024-02-08 11:33:40 INFO: Time 0:00:03.278610 taken by BufferExtractor\n",
      "2024-02-08 11:33:40 INFO: Time 0:00:00.000160 taken by FinaliseTimingData\n",
      "Getting provenance data\n",
      "|0%                          50%                         100%|\n",
      " ============================================================\n",
      "2024-02-08 11:33:40 INFO: Time 0:00:00.074289 taken by PlacementsProvenanceGatherer\n",
      "2024-02-08 11:33:40 INFO: Time 0:00:00.001198 taken by RedundantPacketCountReport\n",
      "Getting Router Provenance\n",
      "|0%                          50%                         100%|\n",
      " ============================================================\n",
      "2024-02-08 11:33:40 INFO: Time 0:00:00.069509 taken by RouterProvenanceGatherer\n",
      "Getting profile data\n",
      "|0%                          50%                         100%|\n",
      " ============================================================\n",
      "2024-02-08 11:33:40 INFO: Time 0:00:00.070008 taken by ProfileDataGatherer\n"
     ]
    }
   ],
   "source": [
    "tstop = 1000 # (ms)\n",
    "# simulation run\n",
    "\n",
    "tic = time.time()\n",
    "sim.run(tstop)\n",
    "toc = time.time() - tic"
   ]
  },
  {
   "cell_type": "markdown",
   "metadata": {},
   "source": [
    "# step9: save results"
   ]
  },
  {
   "cell_type": "code",
   "execution_count": 17,
   "metadata": {},
   "outputs": [
    {
     "name": "stderr",
     "output_type": "stream",
     "text": [
      "Getting spikes for Excitatory_Cells1\n",
      "|0%                          50%                         100%|\n",
      " ============================================================\n",
      "Getting v for Excitatory_Cells1\n",
      "|0%                          50%                         100%|\n",
      " ============================================================\n",
      "Getting spikes for Excitatory_Cells1\n",
      "|0%                          50%                         100%|\n",
      " ============================================================\n",
      "Getting v for Excitatory_Cells1\n",
      "|0%                          50%                         100%|\n",
      " ============================================================\n",
      "Getting spikes for Excitatory_Cells1\n",
      "|0%                          50%                         100%|\n",
      " ============================================================\n",
      "Getting v for Excitatory_Cells1\n",
      "|0%                          50%                         100%|\n",
      " ============================================================\n",
      "Getting spikes for Excitatory_Cells1\n",
      "|0%                          50%                         100%|\n",
      " ============================================================\n",
      "Getting v for Excitatory_Cells1\n",
      "|0%                          50%                         100%|\n",
      " ============================================================\n",
      "Getting spikes for Inhibitory_Cells2\n",
      "|0%                          50%                         100%|\n",
      " ============================================================\n",
      "Getting v for Inhibitory_Cells2\n",
      "|0%                          50%                         100%|\n",
      " ============================================================\n",
      "Getting spikes for Inhibitory_Cells2\n",
      "|0%                          50%                         100%|\n",
      " ============================================================\n",
      "Getting v for Inhibitory_Cells2\n",
      "|0%                          50%                         100%|\n",
      " ============================================================\n",
      "Getting spikes for Inhibitory_Cells2\n",
      "|0%                          50%                         100%|\n",
      " ============================================================\n",
      "Getting v for Inhibitory_Cells2\n",
      "|0%                          50%                         100%|\n",
      " ============================================================\n",
      "Getting spikes for Inhibitory_Cells2\n",
      "|0%                          50%                         100%|\n",
      " ============================================================\n",
      "Getting v for Inhibitory_Cells2\n",
      "|0%                          50%                         100%|\n",
      " ============================================================\n",
      "Getting spikes for expoisson\n",
      "|0%                          50%                         100%|\n",
      " ============================================================\n",
      "Getting spikes for expoisson\n",
      "|0%                          50%                         100%|\n",
      " ============================================================\n",
      "Getting spikes for expoisson\n",
      "|0%                          50%                         100%|\n",
      " ============================================================\n",
      "Getting spikes for expoisson\n",
      "|0%                          50%                         100%|\n",
      " ============================================================\n"
     ]
    }
   ],
   "source": [
    "stateVars = {}\n",
    "for pop in pops.keys():\n",
    "    for recording in ['v', 'spikes']:\n",
    "        pops[pop].write_data(f'{saveName}-{recording}.pkl')\n",
    "        stateVars[pop]=pops[pop].get_data()\n",
    "\n"
   ]
  },
  {
   "cell_type": "markdown",
   "metadata": {},
   "source": [
    "# step10: recover results"
   ]
  },
  {
   "cell_type": "code",
   "execution_count": 18,
   "metadata": {},
   "outputs": [
    {
     "name": "stdout",
     "output_type": "stream",
     "text": [
      "exc\n",
      "v\n",
      "inh\n",
      "v\n",
      "thalamus\n"
     ]
    },
    {
     "data": {
      "text/plain": [
       "dict_keys([('exc', 'v'), ('exc', 'spikes'), ('inh', 'v'), ('inh', 'spikes'), ('thalamus', 'spikes')])"
      ]
     },
     "execution_count": 18,
     "metadata": {},
     "output_type": "execute_result"
    }
   ],
   "source": [
    "def recover_results(outputs):\n",
    "    results = {}\n",
    "    for key in outputs.keys(): # to extract the name of the layer, e.g., Exc, Inh, Thalamus, etc  \n",
    "        print(key)\n",
    "        # to get voltage and conductances\n",
    "        for analogsignal in outputs[key].segments[0].analogsignals:\n",
    "            print(analogsignal.name)\n",
    "            results[key, analogsignal.name] = analogsignal\n",
    "\n",
    "        # to get spikes\n",
    "        VAR=outputs[key].segments[0].spiketrains\n",
    "        results[key, 'spikes']=[]\n",
    "        for k in range(len(VAR)):\n",
    "            results[key, 'spikes'].append(np.array(list(VAR[k])).T,)\n",
    "    return results\n",
    "stateVars.keys()\n",
    "results = recover_results(stateVars)\n",
    "results.keys()"
   ]
  },
  {
   "cell_type": "markdown",
   "metadata": {},
   "source": [
    "# step11: postprocessing (looking at the results)"
   ]
  },
  {
   "cell_type": "code",
   "execution_count": 19,
   "metadata": {},
   "outputs": [],
   "source": [
    "from pyNN.utility.plotting import Figure, Panel"
   ]
  },
  {
   "cell_type": "code",
   "execution_count": 20,
   "metadata": {},
   "outputs": [
    {
     "data": {
      "application/vnd.jupyter.widget-view+json": {
       "model_id": "3bd100316a754670aa6ea472fc377350",
       "version_major": 2,
       "version_minor": 0
      },
      "text/plain": [
       "Canvas(toolbar=None)"
      ]
     },
     "metadata": {},
     "output_type": "display_data"
    },
    {
     "name": "stdout",
     "output_type": "stream",
     "text": [
      "Graph saved as outputs/raster_plot_exc\n"
     ]
    }
   ],
   "source": [
    "import os\n",
    "import matplotlib.pyplot as plt\n",
    "\n",
    "outputs = 'outputs'\n",
    "\n",
    "raster_plot_exc= Figure(\n",
    "    # raster plot of the presynaptic neuron spike times\n",
    "    Panel(stateVars['exc'].segments[0].spiketrains, xlabel=\"Time/ms\", xticks=True,\n",
    "          yticks=True, markersize=0.2, xlim=(0, tstop)),\n",
    "    title=\"Vogels-Abbott benchmark: excitatory cells spikes\")\n",
    "\n",
    "# Save the graph image\n",
    "output_file = os.path.join(outputs, 'raster_plot_exc')\n",
    "plt.savefig(output_file)\n",
    "\n",
    "print(f\"Graph saved as {output_file}\")"
   ]
  },
  {
   "cell_type": "code",
   "execution_count": 21,
   "metadata": {},
   "outputs": [
    {
     "name": "stdout",
     "output_type": "stream",
     "text": [
      "Graph saved as outputs/raster_plot_inh\n"
     ]
    }
   ],
   "source": [
    "raster_plot_inh= Figure(\n",
    "    # raster plot of the presynaptic neuron spike times\n",
    "    Panel(stateVars['inh'].segments[0].spiketrains, xlabel=\"Time/ms\", xticks=True,\n",
    "          yticks=True, markersize=0.2, xlim=(0, tstop)),\n",
    "    title=\"Vogels-Abbott benchmark: inhibitory cells spikes\")\n",
    "\n",
    "output_file_2 = os.path.join(outputs, 'raster_plot_inh')\n",
    "plt.savefig(output_file_2)\n",
    "\n",
    "print(f\"Graph saved as {output_file_2}\")"
   ]
  },
  {
   "cell_type": "code",
   "execution_count": 22,
   "metadata": {
    "jupyter": {
     "source_hidden": true
    },
    "tags": []
   },
   "outputs": [
    {
     "data": {
      "application/vnd.jupyter.widget-view+json": {
       "model_id": "f23fce50dcc2411c828da950b629b3e4",
       "version_major": 2,
       "version_minor": 0
      },
      "text/plain": [
       "Canvas(toolbar=None)"
      ]
     },
     "metadata": {},
     "output_type": "display_data"
    }
   ],
   "source": [
    "# check membrane voltage potentials\n",
    "import numpy as np\n",
    "import matplotlib.pyplot as plt\n",
    "\n",
    "fig, ax = plt.subplots(1,1,figsize=(6, 8), sharey=True, sharex=False)\n",
    "ax.hist(np.asarray(results['exc', 'v']).ravel(), 100, label='exc', log=False)\n",
    "ax.hist(np.asarray(results['inh', 'v']).ravel(), 100, label='inh')\n",
    "\n",
    "ax.set_xlim(-90,-40)\n",
    "\n",
    "ax.legend()\n",
    "ax.set_ylabel('excitatory cells', fontsize=14)\n",
    "ax.set_xlabel('membrane potential [mV]', fontsize=14) \n",
    "\n",
    "plt.savefig('membrane potential')\n"
   ]
  },
  {
   "cell_type": "code",
   "execution_count": 23,
   "metadata": {},
   "outputs": [
    {
     "data": {
      "application/vnd.jupyter.widget-view+json": {
       "model_id": "941b039b41b342d5b176367543e90c2d",
       "version_major": 2,
       "version_minor": 0
      },
      "text/plain": [
       "Canvas(toolbar=None)"
      ]
     },
     "metadata": {},
     "output_type": "display_data"
    }
   ],
   "source": [
    "fig, ax = plt.subplots(2,1, sharex=True, figsize=(9,5))\n",
    "p0=ax[0].eventplot(results['exc', 'spikes'], color='green')\n",
    "p1=ax[1].eventplot(results['inh', 'spikes'], color='red')\n",
    "[ax[i].set_xlabel('Time (ms)', fontsize=14) for i in [0,1]]\n",
    "[ax[i].set_ylabel(feat, fontsize=14) for i, feat in enumerate(['Excitatory cells', 'Inhibitory cells'])]\n",
    "\n",
    "plt.savefig('inh_exc')"
   ]
  },
  {
   "cell_type": "markdown",
   "metadata": {},
   "source": [
    "# step12: close simulation\n"
   ]
  },
  {
   "cell_type": "code",
   "execution_count": null,
   "metadata": {},
   "outputs": [],
   "source": [
    "# if you run it, you cannot reload some cells, but it is needed to restart the overall simulation\n",
    "\n",
    "#sim.end()"
   ]
  },
  {
   "cell_type": "code",
   "execution_count": null,
   "metadata": {},
   "outputs": [],
   "source": []
  }
 ],
 "metadata": {
  "kernelspec": {
   "display_name": "sPyNNaker",
   "language": "python",
   "name": "spynnaker"
  },
  "language_info": {
   "codemirror_mode": {
    "name": "ipython",
    "version": 3
   },
   "file_extension": ".py",
   "mimetype": "text/x-python",
   "name": "python",
   "nbconvert_exporter": "python",
   "pygments_lexer": "ipython3",
   "version": "3.8.5"
  }
 },
 "nbformat": 4,
 "nbformat_minor": 4
}
