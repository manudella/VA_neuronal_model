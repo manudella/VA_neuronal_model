{
 "cells": [
  {
   "cell_type": "markdown",
   "metadata": {},
   "source": [
    "# Testing the action potential of cell models by using standard parameters\n"
   ]
  },
  {
   "cell_type": "code",
   "execution_count": 1,
   "metadata": {},
   "outputs": [],
   "source": [
    "# fileName\n",
    "\n",
    "fileName = 'eg_testing-cell-models'"
   ]
  },
  {
   "cell_type": "code",
   "execution_count": 2,
   "metadata": {},
   "outputs": [
    {
     "name": "stdout",
     "output_type": "stream",
     "text": [
      "../outputs/eg_testing-cell-models-2023-11-29T15:00:42.086623\n"
     ]
    }
   ],
   "source": [
    "try:\n",
    "    import pyNN.spiNNaker as sim\n",
    "except ModuleNotFoundError:\n",
    "    import pyNN.brian2 as sim\n",
    "    \n",
    "from pyNN import space \n",
    "import numpy as np\n",
    "import matplotlib.pyplot as plt\n",
    "import numpy as np\n",
    "import matplotlib.pyplot as plt\n",
    "import scipy\n",
    "import pickle\n",
    "import pandas as pd\n",
    "import seaborn as sns\n",
    "import time\n",
    "import datetime\n",
    "import json\n",
    "import warnings\n",
    "warnings.filterwarnings('ignore')\n",
    "import python_utils as pu\n",
    "\n",
    "savePath = f'../outputs/' # remember to create the folder if not already present (mkdir ./notebooks/outputs)\n",
    "dt_string = datetime.datetime.today().isoformat() # ISO8601 ! :-)\n",
    "tag = dt_string \n",
    "saveName = f'{savePath}{fileName}-{tag}'\n",
    "print(saveName)\n",
    "PARS={}\n"
   ]
  },
  {
   "cell_type": "code",
   "execution_count": null,
   "metadata": {},
   "outputs": [],
   "source": []
  },
  {
   "cell_type": "code",
   "execution_count": 3,
   "metadata": {},
   "outputs": [
    {
     "name": "stderr",
     "output_type": "stream",
     "text": [
      "2023-11-29 15:00:42 INFO: Read cfg files: /home/bbpnrsoa/sPyNNaker/lib/python3.8/site-packages/spinn_front_end_common/interface/spinnaker.cfg, /home/bbpnrsoa/sPyNNaker/lib/python3.8/site-packages/spynnaker/pyNN/spynnaker.cfg, /home/bbpnrsoa/.spynnaker.cfg\n",
      "2023-11-29 15:00:42 INFO: Will search these locations for binaries: /home/bbpnrsoa/sPyNNaker/lib/python3.8/site-packages/spinn_front_end_common/common_model_binaries : /home/bbpnrsoa/sPyNNaker/lib/python3.8/site-packages/spynnaker/pyNN/model_binaries\n",
      "2023-11-29 15:00:42 WARNING: /home/bbpnrsoa/CNT-2024/notebooks/reports has 10 old reports that have not been closed\n",
      "2023-11-29 15:00:42 INFO: Setting time scale factor to 10.\n",
      "2023-11-29 15:00:42 INFO: Setting machine time step to 1000 micro-seconds.\n"
     ]
    },
    {
     "name": "stdout",
     "output_type": "stream",
     "text": [
      "['/home/bbpnrsoa/sPyNNaker/lib/python3.8/site-packages/spinn_front_end_common/interface/spinnaker.cfg', '/home/bbpnrsoa/sPyNNaker/lib/python3.8/site-packages/spynnaker/pyNN/spynnaker.cfg', '/home/bbpnrsoa/.spynnaker.cfg']\n"
     ]
    }
   ],
   "source": [
    "# simulation settings\n",
    "\n",
    "sim.setup(\n",
    "        timestep=1, # [ms]\n",
    "        min_delay=1, # [ms]\n",
    "        max_delay=100) # [ms]\n",
    "\n",
    "simtime = 250 # [ms+]\n",
    "\n"
   ]
  },
  {
   "cell_type": "markdown",
   "metadata": {},
   "source": [
    "## make the network"
   ]
  },
  {
   "cell_type": "code",
   "execution_count": 4,
   "metadata": {},
   "outputs": [],
   "source": [
    "# define make_pop\n",
    "\n",
    "pops = {}\n",
    "\n",
    "def make_pop(cell_model):\n",
    "    pops = sim.Population(\n",
    "                            1, # one cell in each cell model\n",
    "                            cell_model,\n",
    "                            cellparams=None, # std pars used\n",
    "                            structure = space.Line(dx=1.0, x0=0.0, y=0.0, z=0.0),\n",
    "                            initial_values=None,\n",
    "                            label=str(cell_model),\n",
    "                            constraints=None,\n",
    "                            additional_parameters=None,\n",
    "                            )\n",
    "    pops.record('v')\n",
    "    \n",
    "    return pops\n",
    "\n",
    "\n"
   ]
  },
  {
   "cell_type": "code",
   "execution_count": 5,
   "metadata": {},
   "outputs": [],
   "source": [
    "# compute pops\n",
    "\n",
    "for idx, value in enumerate([\n",
    "                            sim.IF_cond_exp, \n",
    "                            sim.IF_curr_alpha,\n",
    "                            sim.IF_curr_exp,\n",
    "                            sim.Izhikevich,\n",
    "                            sim.extra_models.IF_curr_dual_exp,\n",
    "                            sim.extra_models.IFCondExpStoc,\n",
    "                            sim.extra_models.IFCurDelta,\n",
    "                            sim.extra_models.IFCurrExpCa2Adaptive,\n",
    "                            sim.extra_models.Izhikevich_cond]):\n",
    "\n",
    "    pops['model_' + str(idx)] = make_pop(value) "
   ]
  },
  {
   "cell_type": "code",
   "execution_count": 6,
   "metadata": {},
   "outputs": [
    {
     "data": {
      "text/plain": [
       "dict_keys(['model_0', 'model_1', 'model_2', 'model_3', 'model_4', 'model_5', 'model_6', 'model_7', 'model_8'])"
      ]
     },
     "execution_count": 6,
     "metadata": {},
     "output_type": "execute_result"
    }
   ],
   "source": [
    "# check pops\n",
    "\n",
    "pops.keys()"
   ]
  },
  {
   "cell_type": "markdown",
   "metadata": {},
   "source": [
    "## make the thalamic input stimulus"
   ]
  },
  {
   "cell_type": "code",
   "execution_count": 7,
   "metadata": {},
   "outputs": [
    {
     "data": {
      "text/plain": [
       "dict_keys(['model_0', 'model_1', 'model_2', 'model_3', 'model_4', 'model_5', 'model_6', 'model_7', 'model_8', 'thalamus'])"
      ]
     },
     "execution_count": 7,
     "metadata": {},
     "output_type": "execute_result"
    }
   ],
   "source": [
    "# a sequence of ten spikes with regularly spaced spike times\n",
    "\n",
    "pops['thalamus'] = sim.Population(\n",
    "                            1, # one thalamic cell for each cell model\n",
    "                            sim.SpikeSourceArray(np.arange(50,60)), # ten sequential spike times\n",
    "                            structure = space.Line(dx=1.0, x0=0.0, y=0.0, z=0.0),\n",
    "                            )    \n",
    "\n",
    "pops.keys()"
   ]
  },
  {
   "cell_type": "markdown",
   "metadata": {},
   "source": [
    "## make the projections"
   ]
  },
  {
   "cell_type": "code",
   "execution_count": 8,
   "metadata": {},
   "outputs": [
    {
     "data": {
      "text/plain": [
       "dict_keys([('thalamus', 'model_0'), ('thalamus', 'model_1'), ('thalamus', 'model_2'), ('thalamus', 'model_3'), ('thalamus', 'model_4'), ('thalamus', 'model_5'), ('thalamus', 'model_6'), ('thalamus', 'model_7'), ('thalamus', 'model_8')])"
      ]
     },
     "execution_count": 8,
     "metadata": {},
     "output_type": "execute_result"
    }
   ],
   "source": [
    "projs = {}\n",
    "\n",
    "for i in range(9):\n",
    "    projs['thalamus', 'model_' + str(i)] = sim.Projection(\n",
    "                                    pops['thalamus'],\n",
    "                                    pops['model_' + str(i)],\n",
    "                                    sim.OneToOneConnector(),\n",
    "                                    synapse_type=sim.StaticSynapse(weight=0.1, delay=1.0),\n",
    "                                    receptor_type = 'excitatory',\n",
    "                                    space = space.Space(axes = 'x'),\n",
    "                                    label=None,\n",
    "                                )\n",
    "\n",
    "projs.keys()"
   ]
  },
  {
   "cell_type": "markdown",
   "metadata": {},
   "source": [
    "## run the simulation"
   ]
  },
  {
   "cell_type": "code",
   "execution_count": 9,
   "metadata": {},
   "outputs": [
    {
     "name": "stderr",
     "output_type": "stream",
     "text": [
      "2023-11-29 15:00:48 INFO: Starting execution process\n",
      "2023-11-29 15:00:48 INFO: Simulating for 250 1.0ms timesteps using a hardware timestep of 10000us\n",
      "Adding Splitter selectors where appropriate\n",
      "|0%                          50%                         100%|\n",
      " ============================================================\n",
      "2023-11-29 15:00:48 INFO: Time 0:00:00.015585 taken by SpynnakerSplitterSelector\n",
      "Adding delay extensions as required\n",
      "|0%                          50%                         100%|\n",
      " ============================================================\n",
      "2023-11-29 15:00:48 INFO: Time 0:00:00.009660 taken by DelaySupportAdder\n",
      "2023-11-29 15:00:51 INFO: Time 0:00:03.230010 taken by SpallocMaxMachineGenerator\n",
      "Preallocating resources for Extra Monitor support vertices\n",
      "|0%                          50%                         100%|\n",
      " ============================================================\n",
      "2023-11-29 15:01:04 INFO: Time 0:00:12.725387 taken by PreAllocateResourcesForExtraMonitorSupport\n",
      "Partitioning graph vertices\n",
      "|0%                          50%                         100%|\n",
      " ============================================================\n",
      "Partitioning graph edges\n",
      "|0%                          50%                         100%|\n",
      " ============================================================\n",
      "2023-11-29 15:01:09 INFO: Time 0:00:05.171647 taken by SpYNNakerSplitterPartitioner\n",
      "Created spalloc job 348408\n",
      "2023-11-29 15:01:09 INFO: Created spalloc job 348408\n",
      "Job has been queued by the spalloc server.\n",
      "2023-11-29 15:01:09 INFO: Job has been queued by the spalloc server.\n",
      "Waiting for board power commands to complete.\n",
      "2023-11-29 15:01:10 INFO: Waiting for board power commands to complete.\n",
      "2023-11-29 15:01:18 INFO: Time 0:00:09.253692 taken by SpallocAllocator\n",
      "2023-11-29 15:01:18 INFO: Creating transceiver for 10.11.228.137\n",
      "2023-11-29 15:01:18 INFO: Working out if machine is booted\n",
      "2023-11-29 15:01:22 INFO: Attempting to boot machine\n",
      "2023-11-29 15:01:28 INFO: Found board with version [Version: SC&MP 3.4.1 at SpiNNaker:0:0:0 (built Thu Feb 11 15:36:44 2021)]\n",
      "2023-11-29 15:01:28 INFO: Machine communication successful\n",
      "2023-11-29 15:01:28 INFO: Detected a machine on IP address 10.11.228.137 which has 857 cores and 120.0 links\n",
      "2023-11-29 15:01:28 INFO: Time 0:00:09.935762 taken by MachineGenerator\n",
      "Generating partitioner report\n",
      "|0%                          50%                         100%|\n",
      " ============================================================\n",
      "2023-11-29 15:01:29 INFO: Time 0:00:00.017854 taken by PartitionerReport\n",
      "2023-11-29 15:01:29 INFO: Time 0:00:00.000510 taken by NetworkSpecificationReport\n",
      "Allocating virtual identifiers\n",
      "|0%                          50%                         100%|\n",
      " ============================================================\n",
      "2023-11-29 15:01:29 INFO: Time 0:00:00.044743 taken by MallocBasedChipIDAllocator\n",
      "Inserting extra monitors into graphs\n",
      "|0%                          50%                         100%|\n",
      " ============================================================\n",
      "2023-11-29 15:01:29 INFO: Time 0:00:00.041921 taken by InsertExtraMonitorVerticesToGraphs\n",
      "Writing the board chip report\n",
      "|0%                          50%                         100%|\n",
      " ============================================================\n",
      "2023-11-29 15:01:29 INFO: Time 0:00:00.011179 taken by BoardChipReport\n",
      "Getting number of keys required by each edge using application graph\n",
      "|0%                          50%                         100%|\n",
      " ============================================================\n",
      "2023-11-29 15:01:29 INFO: Time 0:00:00.045927 taken by EdgeToNKeysMapper\n",
      "2023-11-29 15:01:29 INFO: The time scale factor could be reduced to 0\n",
      "2023-11-29 15:01:29 INFO: Time 0:00:00.001529 taken by LocalTDMABuilder\n",
      "Placing graph vertices via spreading over an entire machine\n",
      "|0%                          50%                         100%|\n",
      " ============================================================\n",
      "2023-11-29 15:01:29 INFO: Time 0:00:00.018302 taken by SpreaderPlacer\n",
      "Inserting edges between vertices which require FR speed up functionality.\n",
      "|0%                          50%                         100%|\n",
      " ==============================2023-11-29 15:01:29 INFO: Time 0:00:00.034703 taken by InsertEdgesToExtraMonitorFunctionality\n",
      "Generating routing tables for data in system processes\n",
      "|0%                          50%                         100%|\n",
      " ============================================================\n",
      "2023-11-29 15:01:29 INFO: Time 0:00:00.012973 taken by SystemMulticastRoutingGenerator\n",
      "Generating fixed router routes\n",
      "|0%                          50%                         100%|\n",
      " ============================================================\n",
      "2023-11-29 15:01:29 INFO: Time 0:00:00.010757 taken by FixedRouteRouter\n",
      "Generating placement report\n",
      "|0%                          50%                         100%|\n",
      " ============================================================\n",
      "Generating placement by core report\n",
      "|0%                          50%                         100%|\n",
      " ============================================================\n",
      "2023-11-29 15:01:29 INFO: Time 0:00:00.086842 taken by PlacerReportWithApplicationGraph\n",
      "Routing\n",
      "|0%                          50%                         100%|\n",
      " ============================================================\n",
      "\n",
      "2023-11-29 15:01:29 INFO: Time 0:00:00.043291 taken by NerRouteTrafficAware\n",
      "Discovering tags\n",
      "|0%                          50%                         100%|\n",
      " ============================================================\n",
      "Allocating tags\n",
      "|0%                          50%                         100%|\n",
      " ============================================================\n",
      "2023-11-29 15:01:29 INFO: Time 0:00:00.053870 taken by BasicTagAllocator\n",
      "Reporting Tags\n",
      "|0%                          50%                         100%|\n",
      " ============================================================\n",
      "2023-11-29 15:01:29 INFO: Time 0:00:00.011401 taken by TagReport\n",
      "Getting constraints for machine graph\n",
      "|0%                          50%                         100%|\n",
      " ============================================================\n",
      "2023-11-29 15:01:29 INFO: Time 0:00:00.042413 taken by ProcessPartitionConstraints\n",
      "Calculating zones\n",
      "|0%                          50%                         100%|\n",
      " ============================================================\n",
      "Allocating routing keys\n",
      "|0%                          50%                         100%|\n",
      " ============================================================\n",
      "2023-11-29 15:01:29 INFO: Time 0:00:00.020600 taken by ZonedRoutingInfoAllocator\n",
      "Generating Routing info report\n",
      "|0%                          50%                         100%|\n",
      " ============================================================\n",
      "2023-11-29 15:01:29 INFO: Time 0:00:00.012298 taken by routingInfoReports\n",
      "Generating routing tables\n",
      "|0%                          50%                         100%|\n",
      " ============================================================\n",
      "2023-11-29 15:01:29 INFO: Time 0:00:00.062518 taken by BasicRoutingTableGenerator\n",
      "2023-11-29 15:01:29 INFO: Time 0:00:00.000738 taken by RouterCollisionPotentialReport\n",
      "Finding executable start types\n",
      "|0%                          50%                         100%|\n",
      " ============================================================\n",
      "2023-11-29 15:01:29 INFO: Time 0:00:00.071782 taken by LocateExecutableStartType\n",
      "Initialising buffers\n",
      "|0%                          50%                         100%|\n",
      " ============================================================\n",
      "2023-11-29 15:01:29 INFO: Time 0:00:00.059566 taken by BufferManagerCreator\n",
      "Allocating SDRAM for SDRAM outgoing egde partitions\n",
      "|0%                          50%                         100%|\n",
      " ============================================================\n",
      "2023-11-29 15:01:29 INFO: Time 0:00:00.039185 taken by SDRAMOutgoingPartitionAllocator\n",
      "Generating data specifications\n",
      "|0%                          50%                         100%|\n",
      " ============================================================\n",
      "2023-11-29 15:01:29 INFO: Time 0:00:00.097244 taken by SpynnakerDataSpecificationWriter\n",
      "Preparing Routing Tables\n",
      "|0%                          50%                         100%|\n",
      " ============================================================\n",
      "2023-11-29 15:01:29 INFO: Time 0:00:00.012768 taken by RoutingSetup\n",
      "Finding binaries\n",
      "|0%                          50%                         100%|\n",
      " ============================================================\n",
      "2023-11-29 15:01:29 INFO: Time 0:00:00.044437 taken by GraphBinaryGatherer\n",
      "Running pair routing table compression on chip\n",
      "|0%                          50%                         100%|\n",
      " ============================================================\n",
      "\n",
      "2023-11-29 15:01:33 INFO: Time 0:00:03.414700 taken by PairOnChipRouterCompression\n",
      "Generating Router table report\n",
      "|0%                          50%                         100%|\n",
      " ============================================================\n",
      "2023-11-29 15:01:33 INFO: Time 0:00:00.012731 taken by unCompressedRoutingTableReports\n",
      "loading fixed routes\n",
      "|0%                          50%                         100%|\n",
      " ============================================================\n",
      "2023-11-29 15:01:33 INFO: Time 0:00:00.069070 taken by LoadFixedRoutes\n",
      "Executing data specifications and loading data for system vertices using Java\n",
      "|0%                          50%                         100%|\n",
      " ============================================================\n",
      "2023-11-29 15:01:34 INFO: Time 0:00:01.140781 taken by HostExecuteSystemDataSpecification\n",
      "Loading system executables onto the machine\n",
      "|0%                          50%                         100%|\n",
      " ============================================================\n",
      "2023-11-29 15:01:40 INFO: Time 0:00:05.757932 taken by LoadSystemExecutableImages\n",
      "2023-11-29 15:01:40 INFO: Time 0:00:00.001673 taken by TagsFromMachineReport\n",
      "Clearing tags\n",
      "|0%                          50%                         100%|\n",
      " ============================================================\n",
      "Loading Tags\n",
      "|0%                          50%                         100%|\n",
      " ============================================================\n",
      "2023-11-29 15:01:40 INFO: Time 0:00:00.028514 taken by TagsLoader\n",
      "Executing data specifications and loading data for application vertices using Java\n",
      "|0%                          50%                         100%|\n",
      " ============================================================\n",
      "2023-11-29 15:01:41 INFO: Time 0:00:01.236945 taken by HostExecuteApplicationDataSpecification\n",
      "Preparing to Expand Synapses\n",
      "|0%                          50%                         100%|\n",
      " ============================================================\n",
      "Expanding Synapses\n",
      "|0%                          50%                         100%|\n",
      " ============================================================\n",
      "\n",
      "\n",
      "2023-11-29 15:01:42 INFO: Time 0:00:00.569939 taken by SynapseExpander\n",
      "Running bitfield generation on chip\n",
      "|0%                          50%                         100%|\n",
      " ============================================================\n",
      "\n",
      "\n",
      "2023-11-29 15:01:45 INFO: Time 0:00:03.234502 taken by OnChipBitFieldGenerator\n",
      "Finalising Retrieved Connections\n",
      "|0%                          50%                         100%|\n",
      " ============================================================\n",
      "2023-11-29 15:01:45 INFO: Time 0:00:00.038975 taken by FinishConnectionHolders\n",
      "Reading Routing Tables from Machine\n",
      "|0%                          50%                         100%|\n",
      " ============================================================\n",
      "2023-11-29 15:01:45 INFO: Time 0:00:00.024539 taken by ReadRoutingTablesFromMachine\n",
      "Generating compressed router table report\n",
      "|0%                          50%                         100%|\n",
      " ============================================================\n",
      "2023-11-29 15:01:45 INFO: Time 0:00:00.010544 taken by compressedRoutingTableReports\n",
      "Generating comparison of router table report\n",
      "|0%                          50%                         100%|\n",
      " ============================================================\n",
      "2023-11-29 15:01:45 INFO: Time 0:00:00.010334 taken by comparisonOfRoutingTablesReport\n",
      "Generating Routing summary report\n",
      "|0%                          50%                         100%|\n",
      " ============================================================\n",
      "2023-11-29 15:01:45 INFO: Time 0:00:00.034559 taken by CompressedRouterSummaryReport\n",
      "Reading Routing Tables from Machine\n",
      "|0%                          50%                         100%|\n",
      " ============================================================\n",
      "2023-11-29 15:01:45 INFO: Time 0:00:00.010303 taken by RoutingTableFromMachineReport\n",
      "Writing fixed route report\n",
      "|0%                          50%                         100%|\n",
      " ============================================================\n",
      "2023-11-29 15:01:45 INFO: Time 0:00:00.045700 taken by FixedRouteFromMachineReport\n",
      "Loading executables onto the machine\n",
      "|0%                          50%                         100%|\n",
      " ============================================================\n",
      "2023-11-29 15:02:21 INFO: Time 0:00:35.688160 taken by LoadApplicationExecutableImages\n",
      "2023-11-29 15:02:21 INFO: Running for 1 steps for a total of 250.0ms\n",
      "2023-11-29 15:02:21 INFO: Run 1 of 1\n",
      "Generating SDRAM usage report\n",
      "|0%                          50%                         100%|\n",
      " ============================================================\n",
      "2023-11-29 15:02:21 INFO: Time 0:00:00.088123 taken by SdramUsageReportPerChip\n",
      "2023-11-29 15:02:21 INFO: creating live event connection database in /home/bbpnrsoa/CNT-2024/notebooks/reports/2023-11-29-15-00-42-103330/run_1/input_output_database.db\n",
      "Creating graph description database\n",
      "|0%                          50%                         100%|\n",
      " ============================================================\n",
      "2023-11-29 15:02:21 INFO: Time 0:00:00.061501 taken by DatabaseInterface\n",
      "2023-11-29 15:02:21 INFO: ** Notifying external sources that the database is ready for reading **\n",
      "2023-11-29 15:02:21 INFO: Time 0:00:00.001352 taken by CreateNotificationProtocol\n",
      "Getting provenance data from machine graph\n",
      "|0%                          50%                         100%|\n",
      " ============================================================\n",
      "Getting provenance data from application graph\n",
      "|0%                          50%                         100%|\n",
      " ============================================================\n",
      "2023-11-29 15:02:21 INFO: Time 0:00:00.118567 taken by GraphProvenanceGatherer\n",
      "Waiting for cores to be either in PAUSED or READY state\n",
      "|0%                          50%                         100%|\n",
      " ============================================================\n",
      "Updating run time\n",
      "|0%                          50%                         100%|\n",
      " ============================================================\n",
      "2023-11-29 15:02:22 INFO: Time 0:00:01.053526 taken by ChipRuntimeUpdater\n",
      "2023-11-29 15:02:22 INFO: *** Running simulation... *** \n",
      "Loading buffers\n",
      "|0%                          50%                         100%|\n",
      " ============================================================\n",
      "2023-11-29 15:02:22 INFO: ** Awaiting for a response from an external source to state its ready for the simulation to start **\n",
      "2023-11-29 15:02:22 INFO: ** Sending start / resume message to external sources to state the simulation has started or resumed. **\n",
      "2023-11-29 15:02:22 INFO: ** Awaiting for a response from an external source to state its ready for the simulation to start **\n",
      "2023-11-29 15:02:22 INFO: Application started; waiting 2.6s for it to stop\n",
      "2023-11-29 15:02:25 INFO: ** Sending pause / stop message to external sources to state the simulation has been paused or stopped. **\n",
      "2023-11-29 15:02:25 INFO: Time 0:00:02.712591 taken by ApplicationRunner\n",
      "Extracting IOBUF from the machine\n",
      "|0%                          50%                         100%|\n",
      " ============================================================\n",
      "2023-11-29 15:02:25 INFO: Time 0:00:00.152350 taken by ChipIOBufExtractor\n",
      "clearing IOBUF from the machine\n",
      "|0%                          50%                         100%|\n",
      " ============================================================\n",
      "2023-11-29 15:02:25 INFO: Time 0:00:00.019057 taken by ChipIOBufClearer\n",
      "Extracting buffers from the last run\n",
      "|0%                          50%                         100%|\n",
      " ============================================================\n",
      "\n",
      "2023-11-29 15:02:26 INFO: Time 0:00:01.005274 taken by BufferExtractor\n",
      "2023-11-29 15:02:26 INFO: Time 0:00:00.000215 taken by FinaliseTimingData\n",
      "Getting provenance data\n",
      "|0%                          50%                         100%|\n",
      " ============================================================\n",
      "2023-11-29 15:02:26 INFO: Time 0:00:00.058471 taken by PlacementsProvenanceGatherer\n",
      "2023-11-29 15:02:26 INFO: Time 0:00:00.000953 taken by RedundantPacketCountReport\n",
      "Getting Router Provenance\n",
      "|0%                          50%                         100%|\n",
      " ============================================================\n",
      "2023-11-29 15:02:26 INFO: Time 0:00:00.064147 taken by RouterProvenanceGatherer\n",
      "Getting profile data\n",
      "|0%                          50%                         100%|\n",
      " ============================================================\n",
      "2023-11-29 15:02:26 INFO: Time 0:00:00.054255 taken by ProfileDataGatherer\n"
     ]
    }
   ],
   "source": [
    "# simulation run\n",
    "\n",
    "tic = time.time()\n",
    "sim.run(simtime)\n",
    "toc = time.time() - tic"
   ]
  },
  {
   "cell_type": "markdown",
   "metadata": {},
   "source": [
    "## save results"
   ]
  },
  {
   "cell_type": "code",
   "execution_count": 10,
   "metadata": {},
   "outputs": [
    {
     "name": "stderr",
     "output_type": "stream",
     "text": [
      "Getting v for <class 'spynnaker.pyNN.models.neuron.builds.if_cond_exp_base.IFCondExpBase'>\n",
      "|0%                          50%                         100%|\n",
      " ============================================================\n",
      "Getting v for <class 'spynnaker.pyNN.models.neuron.builds.if_cond_exp_base.IFCondExpBase'>\n",
      "|0%                          50%                         100%|\n",
      " ============================================================\n",
      "Getting v for <class 'spynnaker.pyNN.models.neuron.builds.if_cond_exp_base.IFCondExpBase'>\n",
      "|0%                          50%                         100%|\n",
      " ============================================================\n",
      "Getting v for <class 'spynnaker.pyNN.models.neuron.builds.if_cond_exp_base.IFCondExpBase'>\n",
      "|0%                          50%                         100%|\n",
      " ============================================================\n",
      "Getting v for <class 'spynnaker.pyNN.models.neuron.builds.if_cond_exp_base.IFCondExpBase'>\n",
      "|0%                          50%                         100%|\n",
      " ============================================================\n",
      "Getting v for <class 'spynnaker.pyNN.models.neuron.builds.if_curr_alpha.IFCurrAlpha'>\n",
      "|0%                          50%                         100%|\n",
      " ============================================================\n",
      "Getting v for <class 'spynnaker.pyNN.models.neuron.builds.if_curr_alpha.IFCurrAlpha'>\n",
      "|0%                          50%                         100%|\n",
      " ============================================================\n",
      "Getting v for <class 'spynnaker.pyNN.models.neuron.builds.if_curr_alpha.IFCurrAlpha'>\n",
      "|0%                          50%                         100%|\n",
      " ============================================================\n",
      "Getting v for <class 'spynnaker.pyNN.models.neuron.builds.if_curr_alpha.IFCurrAlpha'>\n",
      "|0%                          50%                         100%|\n",
      " ============================================================\n",
      "Getting v for <class 'spynnaker.pyNN.models.neuron.builds.if_curr_alpha.IFCurrAlpha'>\n",
      "|0%                          50%                         100%|\n",
      " ============================================================\n",
      "Getting v for <class 'spynnaker.pyNN.models.neuron.builds.if_curr_exp_base.IFCurrExpBase'>\n",
      "|0%                          50%                         100%|\n",
      " ============================================================\n",
      "Getting v for <class 'spynnaker.pyNN.models.neuron.builds.if_curr_exp_base.IFCurrExpBase'>\n",
      "|0%                          50%                         100%|\n",
      " ============================================================\n",
      "Getting v for <class 'spynnaker.pyNN.models.neuron.builds.if_curr_exp_base.IFCurrExpBase'>\n",
      "|0%                          50%                         100%|\n",
      " ============================================================\n",
      "Getting v for <class 'spynnaker.pyNN.models.neuron.builds.if_curr_exp_base.IFCurrExpBase'>\n",
      "|0%                          50%                         100%|\n",
      " ============================================================\n",
      "Getting v for <class 'spynnaker.pyNN.models.neuron.builds.if_curr_exp_base.IFCurrExpBase'>\n",
      "|0%                          50%                         100%|\n",
      " ============================================================\n",
      "Getting v for <class 'spynnaker.pyNN.models.neuron.builds.izk_curr_exp_base.IzkCurrExpBase'>\n",
      "|0%                          50%                         100%|\n",
      " ============================================================\n",
      "Getting v for <class 'spynnaker.pyNN.models.neuron.builds.izk_curr_exp_base.IzkCurrExpBase'>\n",
      "|0%                          50%                         100%|\n",
      " ============================================================\n",
      "Getting v for <class 'spynnaker.pyNN.models.neuron.builds.izk_curr_exp_base.IzkCurrExpBase'>\n",
      "|0%                          50%                         100%|\n",
      " ============================================================\n",
      "Getting v for <class 'spynnaker.pyNN.models.neuron.builds.izk_curr_exp_base.IzkCurrExpBase'>\n",
      "|0%                          50%                         100%|\n",
      " ============================================================\n",
      "Getting v for <class 'spynnaker.pyNN.models.neuron.builds.izk_curr_exp_base.IzkCurrExpBase'>\n",
      "|0%                          50%                         100%|\n",
      " ============================================================\n",
      "Getting v for <class 'spynnaker.pyNN.models.neuron.builds.if_curr_dual_exp_base.IFCurrDualExpBase'>\n",
      "|0%                          50%                         100%|\n",
      " ============================================================\n",
      "Getting v for <class 'spynnaker.pyNN.models.neuron.builds.if_curr_dual_exp_base.IFCurrDualExpBase'>\n",
      "|0%                          50%                         100%|\n",
      " ============================================================\n",
      "Getting v for <class 'spynnaker.pyNN.models.neuron.builds.if_curr_dual_exp_base.IFCurrDualExpBase'>\n",
      "|0%                          50%                         100%|\n",
      " ============================================================\n",
      "Getting v for <class 'spynnaker.pyNN.models.neuron.builds.if_curr_dual_exp_base.IFCurrDualExpBase'>\n",
      "|0%                          50%                         100%|\n",
      " ============================================================\n",
      "Getting v for <class 'spynnaker.pyNN.models.neuron.builds.if_curr_dual_exp_base.IFCurrDualExpBase'>\n",
      "|0%                          50%                         100%|\n",
      " ============================================================\n",
      "Getting v for <class 'spynnaker.pyNN.models.neuron.builds.if_cond_exp_stoc.IFCondExpStoc'>\n",
      "|0%                          50%                         100%|\n",
      " ============================================================\n",
      "Getting v for <class 'spynnaker.pyNN.models.neuron.builds.if_cond_exp_stoc.IFCondExpStoc'>\n",
      "|0%                          50%                         100%|\n",
      " ============================================================\n",
      "Getting v for <class 'spynnaker.pyNN.models.neuron.builds.if_cond_exp_stoc.IFCondExpStoc'>\n",
      "|0%                          50%                         100%|\n",
      " ============================================================\n",
      "Getting v for <class 'spynnaker.pyNN.models.neuron.builds.if_cond_exp_stoc.IFCondExpStoc'>\n",
      "|0%                          50%                         100%|\n",
      " ============================================================\n",
      "Getting v for <class 'spynnaker.pyNN.models.neuron.builds.if_cond_exp_stoc.IFCondExpStoc'>\n",
      "|0%                          50%                         100%|\n",
      " ============================================================\n",
      "Getting v for <class 'spynnaker.pyNN.models.neuron.builds.if_curr_delta.IFCurrDelta'>\n",
      "|0%                          50%                         100%|\n",
      " ============================================================\n",
      "Getting v for <class 'spynnaker.pyNN.models.neuron.builds.if_curr_delta.IFCurrDelta'>\n",
      "|0%                          50%                         100%|\n",
      " ============================================================\n",
      "Getting v for <class 'spynnaker.pyNN.models.neuron.builds.if_curr_delta.IFCurrDelta'>\n",
      "|0%                          50%                         100%|\n",
      " ============================================================\n",
      "Getting v for <class 'spynnaker.pyNN.models.neuron.builds.if_curr_delta.IFCurrDelta'>\n",
      "|0%                          50%                         100%|\n",
      " ============================================================\n",
      "Getting v for <class 'spynnaker.pyNN.models.neuron.builds.if_curr_delta.IFCurrDelta'>\n",
      "|0%                          50%                         100%|\n",
      " ============================================================\n",
      "Getting v for <class 'spynnaker.pyNN.models.neuron.builds.if_curr_exp_ca2_adaptive.IFCurrExpCa2Adaptive'>\n",
      "|0%                          50%                         100%|\n",
      " ============================================================\n",
      "Getting v for <class 'spynnaker.pyNN.models.neuron.builds.if_curr_exp_ca2_adaptive.IFCurrExpCa2Adaptive'>\n",
      "|0%                          50%                         100%|\n",
      " ============================================================\n",
      "Getting v for <class 'spynnaker.pyNN.models.neuron.builds.if_curr_exp_ca2_adaptive.IFCurrExpCa2Adaptive'>\n",
      "|0%                          50%                         100%|\n",
      " ============================================================\n",
      "Getting v for <class 'spynnaker.pyNN.models.neuron.builds.if_curr_exp_ca2_adaptive.IFCurrExpCa2Adaptive'>\n",
      "|0%                          50%                         100%|\n",
      " ============================================================\n",
      "Getting v for <class 'spynnaker.pyNN.models.neuron.builds.if_curr_exp_ca2_adaptive.IFCurrExpCa2Adaptive'>\n",
      "|0%                          50%                         100%|\n",
      " ============================================================\n",
      "Getting v for <class 'spynnaker.pyNN.models.neuron.builds.izk_cond_exp_base.IzkCondExpBase'>\n",
      "|0%                          50%                         100%|\n",
      " ============================================================\n",
      "Getting v for <class 'spynnaker.pyNN.models.neuron.builds.izk_cond_exp_base.IzkCondExpBase'>\n",
      "|0%                          50%                         100%|\n",
      " ============================================================\n",
      "Getting v for <class 'spynnaker.pyNN.models.neuron.builds.izk_cond_exp_base.IzkCondExpBase'>\n",
      "|0%                          50%                         100%|\n",
      " ============================================================\n",
      "Getting v for <class 'spynnaker.pyNN.models.neuron.builds.izk_cond_exp_base.IzkCondExpBase'>\n",
      "|0%                          50%                         100%|\n",
      " ============================================================\n",
      "Getting v for <class 'spynnaker.pyNN.models.neuron.builds.izk_cond_exp_base.IzkCondExpBase'>\n",
      "|0%                          50%                         100%|\n",
      " ============================================================\n"
     ]
    }
   ],
   "source": [
    "# save the results\n",
    "\n",
    "outputs = {}\n",
    "\n",
    "for i in range(9):\n",
    "    outputs['model_' + str(i)] = pops['model_' + str(i)].get_data()\n",
    "    for recording in ['v', 'gsyn_inh', 'gsyn_exc', 'spikes']:\n",
    "        pops['model_' + str(i)].write_data(f'{saveName}-{recording}.pkl')\n"
   ]
  },
  {
   "cell_type": "markdown",
   "metadata": {},
   "source": [
    "## recover results"
   ]
  },
  {
   "cell_type": "code",
   "execution_count": 11,
   "metadata": {},
   "outputs": [],
   "source": [
    "# make the recover results function\n",
    "\n",
    "def recover_results(outputs):\n",
    "    results = {}\n",
    "    for key in outputs.keys(): \n",
    "        \n",
    "        # to get voltage and conductances\n",
    "        for analogsignal in outputs[key].segments[0].analogsignals:\n",
    "            print(analogsignal.name)\n",
    "            results[key, analogsignal.name] = analogsignal\n",
    "\n",
    "        # to get spikes\n",
    "        results[key, 'spikes'] = outputs[key].segments[0].spiketrains\n",
    "    return results\n"
   ]
  },
  {
   "cell_type": "code",
   "execution_count": 12,
   "metadata": {},
   "outputs": [
    {
     "name": "stdout",
     "output_type": "stream",
     "text": [
      "v\n",
      "v\n",
      "v\n",
      "v\n",
      "v\n",
      "v\n",
      "v\n",
      "v\n",
      "v\n"
     ]
    },
    {
     "data": {
      "text/plain": [
       "dict_keys([('model_0', 'v'), ('model_0', 'spikes'), ('model_1', 'v'), ('model_1', 'spikes'), ('model_2', 'v'), ('model_2', 'spikes'), ('model_3', 'v'), ('model_3', 'spikes'), ('model_4', 'v'), ('model_4', 'spikes'), ('model_5', 'v'), ('model_5', 'spikes'), ('model_6', 'v'), ('model_6', 'spikes'), ('model_7', 'v'), ('model_7', 'spikes'), ('model_8', 'v'), ('model_8', 'spikes')])"
      ]
     },
     "execution_count": 12,
     "metadata": {},
     "output_type": "execute_result"
    }
   ],
   "source": [
    "# recover results\n",
    "\n",
    "results = recover_results(outputs)\n",
    "results.keys()"
   ]
  },
  {
   "cell_type": "markdown",
   "metadata": {},
   "source": [
    "## check the voltage signature"
   ]
  },
  {
   "cell_type": "code",
   "execution_count": 14,
   "metadata": {},
   "outputs": [
    {
     "data": {
      "image/png": "[encoded data removed]",
      "text/plain": [
       "<Figure size 792x504 with 9 Axes>"
      ]
     },
     "metadata": {
      "needs_background": "light"
     },
     "output_type": "display_data"
    }
   ],
   "source": [
    "%matplotlib inline\n",
    "\n",
    "fig, axes = plt.subplots(3, 3, sharex=True, sharey=False, figsize=(11,7))\n",
    "fig.tight_layout(pad=3)\n",
    "fig.suptitle('voltage pattern in cell models')\n",
    "labels=['IF_cond_exp','IF_curr_alpha',\n",
    "        'IF_curr_exp','Izhikevich', \n",
    "        'IF_curr_dual_exp', 'IFCondExpStoc',\n",
    "        'IFCurDelta', 'IFCurrExpCa2Adaptive', 'Izhikevich_cond']\n",
    "\n",
    "axes_list = axes.flatten()\n",
    "idx = 0\n",
    "for i in range(9):\n",
    "    im = axes_list[i].plot(results['model_' + str(i), 'v'], label=labels[i])\n",
    "    axes_list[i].set_xticklabels([])\n",
    "    axes_list[i].grid(which='both')\n",
    "    if i==0 or i==3 or i==6:\n",
    "        axes_list[i].set_ylabel('[mv]')\n",
    "    if i==6 or i==7 or i==8:\n",
    "        axes_list[i].set_xlabel('[ms]')\n",
    "    axes_list[i].axhline(y=-55, label='action potential threshold', color='r', alpha=0.5) \n",
    "    axes_list[i].legend(loc='upper right')\n",
    "\n",
    "\n",
    "fig.savefig(f'{saveName}.jpeg', dpi=70, bbox_inches='tight', facecolor='white')"
   ]
  },
  {
   "cell_type": "code",
   "execution_count": 14,
   "metadata": {},
   "outputs": [],
   "source": [
    "# end simulation\n",
    "\n",
    "sim.end()"
   ]
  },
  {
   "cell_type": "markdown",
   "metadata": {},
   "source": [
    "## Question: are all of these stimulus-related voltage patterns action potentials?\n",
    "\n",
    "Think about what's the condition to get a neural action potential and the meaning of \"integrate\" and \"fire\" terms"
   ]
  },
  {
   "cell_type": "code",
   "execution_count": null,
   "metadata": {},
   "outputs": [],
   "source": []
  },
  {
   "cell_type": "markdown",
   "metadata": {},
   "source": [
    "## Task 1: on the action potential of cell models\n",
    "\n",
    "- Have a look of the plot, you should observe the different voltage signatures having similarities as well as differences. <br>\n",
    "  Describe them or try making a classification by adopting criteria indicated in this bottom image<br>\n",
    "  \n",
    "  e.g., \n",
    "      - depolarization timing\n",
    "      - shape of depolarization\n",
    "      - action potential timing\n",
    "      - shape of repolarization\n",
    "      - presence/absence of refractory period\n",
    "      - resting state timing\n",
    "      \n",
    "      \n",
    "- This simulation has been done with standard parameters. <br>\n",
    "  Choose a parameter shared from all the models and tune it. <br>\n",
    "  Observe how the voltage trace of the action potential changes. <br>\n",
    "  To explore the default paramters, use e.g., `sim.IF_cond_exp.default_parameters` <br>\n",
    "  Change them by defining a new dictionary of pars for each model call e.g., pars[model_x]<br>\n",
    "  "
   ]
  },
  {
   "cell_type": "markdown",
   "metadata": {},
   "source": [
    "![](https://upload.wikimedia.org/wikipedia/commons/4/4a/Action_potential.svg)"
   ]
  },
  {
   "cell_type": "markdown",
   "metadata": {},
   "source": [
    "## Task 2: on the network of different cell models\n",
    "\n",
    "- The previous results are related to single behaviour of the given cell models.<br>\n",
    "  Try to make a population of 25 cells for each model and record their voltage.<br>\n",
    "  The input should be design as a sequence of ten input spikes separeted 150 ms for each model.<br>\n",
    "  E.g., the first model receives input at 50-59ms, the second at 200-209ms, the third at 350-359ms etc.<br>\n",
    "  Plot the results in a single plot showing the all traces that should appear sequentally displayed.<br>\n",
    "  Set the simtime at 1500ms."
   ]
  },
  {
   "cell_type": "code",
   "execution_count": null,
   "metadata": {},
   "outputs": [],
   "source": []
  }
 ],
 "metadata": {
  "kernelspec": {
   "display_name": "sPyNNaker",
   "language": "python",
   "name": "spynnaker"
  },
  "language_info": {
   "codemirror_mode": {
    "name": "ipython",
    "version": 3
   },
   "file_extension": ".py",
   "mimetype": "text/x-python",
   "name": "python",
   "nbconvert_exporter": "python",
   "pygments_lexer": "ipython3",
   "version": "3.8.5"
  }
 },
 "nbformat": 4,
 "nbformat_minor": 4
}
