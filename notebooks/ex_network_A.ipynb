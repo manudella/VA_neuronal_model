{
 "cells": [
  {
   "cell_type": "markdown",
   "metadata": {},
   "source": [
    "# ex_network_A\n"
   ]
  },
  {
   "cell_type": "markdown",
   "metadata": {},
   "source": [
    "Design a 1D neural network of 1000 cells receiving 100 thalamic random inputs at 50, 55, 60, 65, 70 ms.\n",
    "\n",
    "The thalamo-cx connectivity is one-to-one.\n",
    "\n",
    "Model of cells is free of choice.\n",
    "\n",
    "Record and plot spikes, voltage and both the conductances."
   ]
  },
  {
   "cell_type": "code",
   "execution_count": 1,
   "metadata": {},
   "outputs": [],
   "source": [
    "# fileName\n",
    "\n",
    "fileName = 'ex_network_A'"
   ]
  },
  {
   "cell_type": "code",
   "execution_count": 2,
   "metadata": {},
   "outputs": [
    {
     "name": "stderr",
     "output_type": "stream",
     "text": [
      "INFO       Cache size for target 'cython': 1175478576 MB.\n",
      "You can call clear_cache('cython') to delete all files from the cache or manually delete files in the '/home/bbpnrsoa/.cython/brian_extensions' directory. [brian2]\n"
     ]
    }
   ],
   "source": [
    "# libs\n",
    "\n",
    "try:\n",
    "    import pyNN.spiNNaker as sim\n",
    "\n",
    "except ModuleNotFoundError:\n",
    "    import pyNN.brian2 as sim\n",
    "    \n",
    "from pyNN import space \n",
    "import numpy as np\n",
    "import matplotlib.pyplot as plt\n"
   ]
  },
  {
   "cell_type": "code",
   "execution_count": 3,
   "metadata": {},
   "outputs": [],
   "source": [
    "# simulation settings\n",
    "\n",
    "sim.setup(\n",
    "        timestep=1, # [ms]\n",
    "        min_delay=1, # [ms]\n",
    "        max_delay=100) # [ms]\n",
    "\n",
    "simtime = 250 # [ms+]\n"
   ]
  },
  {
   "cell_type": "code",
   "execution_count": 4,
   "metadata": {},
   "outputs": [],
   "source": [
    "# make the network\n"
   ]
  },
  {
   "cell_type": "code",
   "execution_count": 5,
   "metadata": {},
   "outputs": [],
   "source": [
    "# set recording of state variables\n"
   ]
  },
  {
   "cell_type": "code",
   "execution_count": 6,
   "metadata": {},
   "outputs": [],
   "source": [
    "# make the thalamic input sources\n"
   ]
  },
  {
   "cell_type": "code",
   "execution_count": 7,
   "metadata": {},
   "outputs": [],
   "source": [
    "# make the projections\n"
   ]
  },
  {
   "cell_type": "code",
   "execution_count": 8,
   "metadata": {},
   "outputs": [
    {
     "data": {
      "text/plain": [
       "250.0"
      ]
     },
     "execution_count": 8,
     "metadata": {},
     "output_type": "execute_result"
    }
   ],
   "source": [
    "# run simulation\n",
    "\n",
    "sim.run(simtime) "
   ]
  },
  {
   "cell_type": "code",
   "execution_count": null,
   "metadata": {},
   "outputs": [],
   "source": [
    "# save results\n",
    "\n",
    "stateVars = {}\n",
    "for pop in pops.keys():\n",
    "    for recording in ['v', 'gsyn_inh', 'gsyn_exc', 'spikes']:\n",
    "        pops[pop].write_data(f'{saveName}-{recording}.pkl')\n",
    "        stateVars[pop]=pops[pop].get_data()\n",
    "\n",
    "stateVars.keys()\n",
    "results = pu.recover_results(stateVars)\n",
    "results.keys()"
   ]
  },
  {
   "cell_type": "code",
   "execution_count": null,
   "metadata": {},
   "outputs": [],
   "source": [
    "# check the spikes\n",
    "\n",
    "fig, axes = plt.subplots(1, 1)\n",
    "fig.tight_layout(pad=5)\n",
    "axes_list = fig.axes\n",
    "idx = 0\n",
    "axes_list[idx].eventplot(results['cx', 'spikes'])\n",
    "axes_list[idx].set_title('rasterplot of cx layer')\n",
    "axes_list[idx].set_xlabel('[ms]')\n",
    "axes_list[idx].set_ylabel('cells')\n",
    "axes_list[idx].set_xlim(0, simtime)\n"
   ]
  },
  {
   "cell_type": "code",
   "execution_count": null,
   "metadata": {},
   "outputs": [],
   "source": [
    "# check the voltage\n",
    "\n",
    "fig, axes = plt.subplots(1, 1)#, figsize=(9,5))\n",
    "fig.tight_layout(pad=4)\n",
    "axes_list = fig.axes\n",
    "idx = 0\n",
    "im = axes_list[idx].imshow(results['cx', 'v'].T)\n",
    "axes_list[idx].set_title('voltage of cx')\n",
    "axes_list[idx].set_xlabel('time [ms]')\n",
    "axes_list[idx].set_ylabel('cells')\n",
    "fig.colorbar(im, ax=axes_list[idx], fraction=0.010, label='[mV]')\n"
   ]
  },
  {
   "cell_type": "code",
   "execution_count": null,
   "metadata": {},
   "outputs": [],
   "source": [
    "# check the conductances\n",
    "\n",
    "\n",
    "for layer in ['cx']:\n",
    "    fig, axes = plt.subplots(1, 1)\n",
    "    fig.tight_layout(pad=4)\n",
    "    fig.suptitle(str(layer) + ' layer')\n",
    "    axes_list = fig.axes\n",
    "    \n",
    "    for idx, gsyn in enumerate(['gsyn_exc']):#, 'gsyn_inh']):\n",
    "        im = axes_list[idx].imshow(results[layer, gsyn].T)\n",
    "        axes_list[idx].set_title(str(gsyn))\n",
    "        axes_list[idx].set_xlabel('time [ms]')\n",
    "        axes_list[idx].set_ylabel('cells')\n",
    "        fig.colorbar(im, ax=axes_list[idx], fraction=0.010, label='[uS]')"
   ]
  },
  {
   "cell_type": "code",
   "execution_count": null,
   "metadata": {},
   "outputs": [],
   "source": [
    "# end simulation\n",
    "\n",
    "sim.end()"
   ]
  },
  {
   "cell_type": "code",
   "execution_count": null,
   "metadata": {},
   "outputs": [],
   "source": []
  },
  {
   "cell_type": "code",
   "execution_count": null,
   "metadata": {},
   "outputs": [],
   "source": []
  }
 ],
 "metadata": {
  "kernelspec": {
   "display_name": "Python 3",
   "language": "python",
   "name": "python3"
  },
  "language_info": {
   "codemirror_mode": {
    "name": "ipython",
    "version": 3
   },
   "file_extension": ".py",
   "mimetype": "text/x-python",
   "name": "python",
   "nbconvert_exporter": "python",
   "pygments_lexer": "ipython3",
   "version": "3.8.5"
  }
 },
 "nbformat": 4,
 "nbformat_minor": 4
}
