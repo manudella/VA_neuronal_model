{
 "cells": [
  {
   "cell_type": "markdown",
   "metadata": {
    "id": "0gZ1xflG0Ph2"
   },
   "source": [
    "# Goal\n",
    "\n",
    "Our aim was to change the structure and the parameters of the standard Vogels and Abbott (VA) Network, presented [here](https://github.com/albertoarturovergani/CNT-2024/blob/3d93c0d922ef2b6a57b0e4fde789f5d98b557733/notebooks/paper_balance-network.ipynb), and to understand how these changes impacted the results and behavior of the model.\n",
    "\n",
    "(NOTE: baseline code for functions etc. was taken from the source notebooks seen in the labs, contained in [this](https://github.com/albertoarturovergani/CNT-2024/tree/main/notebooks) GitHub repository)"
   ]
  },
  {
   "cell_type": "markdown",
   "metadata": {
    "id": "Cs86ECyk12DB"
   },
   "source": [
    "----------------------------------------------------------------------"
   ]
  },
  {
   "cell_type": "code",
   "execution_count": null,
   "metadata": {
    "id": "imr2FQjYGWAv"
   },
   "outputs": [],
   "source": [
    "## CODICE DA INCLUDERE:"
   ]
  },
  {
   "cell_type": "code",
   "execution_count": 1,
   "metadata": {
    "id": "lqPB1KVqDlES"
   },
   "outputs": [],
   "source": [
    "def recover_results(outputs):\n",
    "    results = {}\n",
    "    for key in outputs.keys(): # to extract the name of the layer, e.g., Exc, Inh, Thalamus, etc\n",
    "        print(key)\n",
    "        # to get voltage and conductances\n",
    "        for analogsignal in outputs[key].segments[0].analogsignals:\n",
    "            print(analogsignal.name)\n",
    "            results[key, analogsignal.name] = analogsignal\n",
    "\n",
    "        # to get spikes\n",
    "        VAR=outputs[key].segments[0].spiketrains\n",
    "        results[key, 'spikes']=[]\n",
    "        for k in range(len(VAR)):\n",
    "            results[key, 'spikes'].append(np.array(list(VAR[k])).T,)\n",
    "    return results"
   ]
  },
  {
   "cell_type": "markdown",
   "metadata": {
    "id": "cKP4vhzr14Fv"
   },
   "source": [
    "(piccolo copia-incolla rapido iniziale del codice di riferimento)"
   ]
  },
  {
   "cell_type": "markdown",
   "metadata": {
    "id": "0FbpYZ-c2AC-"
   },
   "source": [
    "------------------------------------------------------------------------------\n"
   ]
  },
  {
   "cell_type": "code",
   "execution_count": 2,
   "metadata": {
    "id": "YixF2fSD11s7"
   },
   "outputs": [],
   "source": [
    "fileName='VA_balance-network'"
   ]
  },
  {
   "cell_type": "code",
   "execution_count": 1,
   "metadata": {
    "colab": {
     "base_uri": "https://localhost:8080/",
     "height": 559
    },
    "id": "eOdskzrU11s8",
    "outputId": "31785539-462b-4a9c-ee0e-de4f75959320"
   },
   "outputs": [
    {
     "ename": "ModuleNotFoundError",
     "evalue": "No module named 'spynnaker'",
     "output_type": "error",
     "traceback": [
      "\u001b[1;31m---------------------------------------------------------------------------\u001b[0m",
      "\u001b[1;31mModuleNotFoundError\u001b[0m                       Traceback (most recent call last)",
      "Cell \u001b[1;32mIn[1], line 1\u001b[0m\n\u001b[1;32m----> 1\u001b[0m \u001b[38;5;28;01mimport\u001b[39;00m \u001b[38;5;21;01mpyNN\u001b[39;00m\u001b[38;5;21;01m.\u001b[39;00m\u001b[38;5;21;01mspiNNaker\u001b[39;00m \u001b[38;5;28;01mas\u001b[39;00m \u001b[38;5;21;01msim\u001b[39;00m\n\u001b[0;32m      2\u001b[0m \u001b[38;5;28;01mfrom\u001b[39;00m \u001b[38;5;21;01mpyNN\u001b[39;00m \u001b[38;5;28;01mimport\u001b[39;00m space\n\u001b[0;32m      3\u001b[0m \u001b[38;5;28;01mimport\u001b[39;00m \u001b[38;5;21;01mnumpy\u001b[39;00m \u001b[38;5;28;01mas\u001b[39;00m \u001b[38;5;21;01mnp\u001b[39;00m\n",
      "File \u001b[1;32mc:\\Users\\Manuel\\PycharmProjects\\pythonProject2\\CTSED\\.venv\\Lib\\site-packages\\pyNN\\spiNNaker.py:1\u001b[0m\n\u001b[1;32m----> 1\u001b[0m \u001b[38;5;28;01mfrom\u001b[39;00m \u001b[38;5;21;01mspynnaker\u001b[39;00m\u001b[38;5;21;01m.\u001b[39;00m\u001b[38;5;21;01mpyNN\u001b[39;00m \u001b[38;5;28;01mimport\u001b[39;00m \u001b[38;5;241m*\u001b[39m\n",
      "\u001b[1;31mModuleNotFoundError\u001b[0m: No module named 'spynnaker'"
     ]
    }
   ],
   "source": [
    "import pyNN.spiNNaker as sim\n",
    "from pyNN import space\n",
    "import numpy as np\n",
    "import matplotlib.pyplot as plt\n",
    "import numpy as np\n",
    "import matplotlib.pyplot as plt\n",
    "import scipy\n",
    "import pickle\n",
    "import pandas as pd\n",
    "import seaborn as sns\n",
    "import time\n",
    "import datetime\n",
    "import json\n",
    "import warnings\n",
    "warnings.filterwarnings('ignore')\n",
    "%matplotlib inline\n",
    "\n",
    "savePath = f'./outputs/' # remember to create the folder if not already present (mkdir ./notebooks/outputs)\n",
    "dt_string = datetime.datetime.today().isoformat() # ISO8601 ! :-)\n",
    "tag = dt_string\n",
    "saveName = f'{savePath}{fileName}-{tag}'\n",
    "print(saveName)\n",
    "PARS={}\n"
   ]
  },
  {
   "cell_type": "markdown",
   "metadata": {
    "id": "TTRwFZqe11s9"
   },
   "source": [
    "# step0: import the simulator"
   ]
  },
  {
   "cell_type": "code",
   "execution_count": null,
   "metadata": {
    "id": "-gaJ1bwn11s-"
   },
   "outputs": [],
   "source": [
    "import socket\n",
    "try:\n",
    "    import pyNN.spiNNaker as sim\n",
    "except ModuleNotFoundError:\n",
    "    import pyNN.brian2 as sim\n",
    "\n",
    "from pyNN.random import NumpyRNG, RandomDistribution\n",
    "from pyNN.utility.plotting import Figure, Panel\n",
    "import matplotlib.pyplot as plt\n",
    "import matplotlib.colors as colors\n",
    "import time\n",
    "from pyNN import space"
   ]
  },
  {
   "cell_type": "markdown",
   "metadata": {
    "id": "oDoMzjsm11s_"
   },
   "source": [
    "# step1: setup the simulator"
   ]
  },
  {
   "cell_type": "code",
   "execution_count": null,
   "metadata": {
    "id": "rG_mXj2X11tA"
   },
   "outputs": [],
   "source": [
    "dt = 1          # (ms) simulation timestep\n",
    "tstop = 1000      # (ms) simulaton duration\n",
    "delay = 2 # (ms)\n",
    "\n",
    "sim.setup(\n",
    "    timestep=dt,\n",
    "    min_delay=delay,\n",
    "    max_delay=delay) # [ms] # not that the max_delay supported by SpiNNaker is timestep * 144\n",
    "\n",
    "rngseed = 98766987\n",
    "rng = NumpyRNG(seed=rngseed, parallel_safe=True)"
   ]
  },
  {
   "cell_type": "markdown",
   "metadata": {
    "id": "SNuWGJPx11tC"
   },
   "source": [
    "# step2: decide the cell types and parameters"
   ]
  },
  {
   "cell_type": "code",
   "execution_count": null,
   "metadata": {
    "id": "lAhaei9X11tD"
   },
   "outputs": [],
   "source": [
    "# cell type\n",
    "celltype = sim.IF_cond_exp\n",
    "#  Leaky integrate and fire model with fixed threshold and exponentially-decaying post-synaptic conductance.\n",
    "#  http://neuralensemble.org/docs/PyNN/_modules/pyNN/standardmodels/cells.html#IF_cond_exp\n",
    "\n",
    "# Cell parameters\n",
    "area = 20000.     # (µm²)\n",
    "tau_m = 20.       # (ms)\n",
    "cm = 1.           # (µF/cm²)\n",
    "g_leak = 5e-5     # (S/cm²)\n",
    "\n",
    "E_leak = None\n",
    "E_leak = -60.  # (mV)\n",
    "v_thresh = -50.   # (mV)\n",
    "v_reset = -60.    # (mV)\n",
    "t_refrac = 5.     # (ms) (clamped at v_reset)\n",
    "v_mean = -60.     # (mV) mean membrane potential, for calculating CUBA weights\n",
    "tau_exc = 5.      # (ms)\n",
    "tau_inh = 10.     # (ms)\n",
    "Erev_exc = 0.     # (mV)\n",
    "Erev_inh = -80.   # (mV)\n",
    "\n",
    "# === Calculate derived parameters ===\n",
    "area = area * 1e-8                     # convert to cm²\n",
    "cm = cm * area * 1000                  # convert to nF\n",
    "Rm = 1e-6 / (g_leak * area)            # membrane resistance in MΩ\n",
    "assert tau_m == cm * Rm                # just to check\n",
    "\n",
    "cell_params = {'tau_m': tau_m,\n",
    "               'tau_syn_E': tau_exc,\n",
    "               'tau_syn_I': tau_inh,\n",
    "               'v_rest': E_leak,\n",
    "               'v_reset': v_reset,\n",
    "               'v_thresh': v_thresh,\n",
    "               'cm': cm,\n",
    "               'tau_refrac': t_refrac,\n",
    "               'i_offset': 0\n",
    "               }\n",
    "\n",
    "cell_params['e_rev_E'] = Erev_exc\n",
    "cell_params['e_rev_I'] = Erev_inh\n",
    "\n",
    "print(cell_params)"
   ]
  },
  {
   "cell_type": "markdown",
   "metadata": {
    "id": "S9n3s13A11tD"
   },
   "source": [
    "# step3: making cell populations\n"
   ]
  },
  {
   "cell_type": "code",
   "execution_count": null,
   "metadata": {},
   "outputs": [],
   "source": [
    "r_ei_param={'1': 1.0, '2': 2.0, '3': 3.0, 'default': 4.0, '5': 5.0, '6': 6.0, '7': 7.0, '8': 8.0, '9': 9.0, '10': 10.0}\n",
    "pconn_param = {'1': 0.005, '2': 0.01, 'default': 0.02, '4': 0.03, '5': 0.04, '6': 0.05, '7': 0.06, '8': 0.07, '9': 0.08, '10': 0.09}\n",
    "Gexc_param = {'1': 1., '2': 2., 'default': 4., '4': 10., '5': 15., '6': 20, '7': 30., '8':40., '9': 51.}\n",
    "Ginh_param = {'1': 1., '2': 2., '3': 4., '4': 10., '5': 15., '6': 20, '7': 30., '8':40., 'default': 51.}\n",
    "param = {'r_ei': r_ei_param, 'pconn': pconn_param, 'Gexc': Gexc_param, 'Ginh': Ginh_param}"
   ]
  },
  {
   "cell_type": "code",
   "execution_count": null,
   "metadata": {},
   "outputs": [],
   "source": [
    "class simulations:\n",
    "    def __init__(self, sim, celltype, cell_params, rng, param):\n",
    "        self.sim = sim\n",
    "        self.celltype = celltype\n",
    "        self.cell_params = cell_params\n",
    "        self.rng = rng\n",
    "        self.param = param\n",
    "        self.pops = {}\n",
    "\n",
    "    def create_populations(self,r_ei):\n",
    "        n = 1500         # number of cells\n",
    "        rng = self.rng\n",
    "        cell_params = self.cell_params\n",
    "        celltype = self.celltype\n",
    "        n_exc = int(round((n * r_ei / (1 + r_ei))))  # number of excitatory cells\n",
    "        n_inh = n - n_exc                            # number of inhibitory cells\n",
    "        print(\"{} {}\".format(n_exc, n_inh))\n",
    "\n",
    "        self.pops = {\n",
    "            'exc': sim.Population(\n",
    "                                        n_exc,\n",
    "                                        celltype(**cell_params),\n",
    "                                        label=\"Excitatory_Cells\"),\n",
    "\n",
    "            'inh': sim.Population(\n",
    "                                        n_inh,\n",
    "                                        celltype(**cell_params),\n",
    "                                        label=\"Inhibitory_Cells\")\n",
    "        }\n",
    "\n",
    "        self.pops['exc'].record([\"spikes\", 'v', 'gsyn_exc', 'gsyn_inh'])\n",
    "        self.pops['inh'].record([\"spikes\", 'v', 'gsyn_exc', 'gsyn_inh'])\n",
    "\n",
    "\n",
    "        uniformDistr = RandomDistribution('uniform', [v_reset, v_thresh], rng=rng)\n",
    "        self.pops['exc'].initialize(v=uniformDistr)\n",
    "        self.pops['inh'].initialize(v=uniformDistr)\n",
    "\n",
    "        #sim.set_number_of_neurons_per_core(sim.IF_cond_exp, 50)      # this will set\n",
    "        # 50 neurons per core\n",
    "        self.pops.keys()\n",
    "        \n",
    "\n",
    "    def create_connections(self, pconn, Gexc, Ginh):\n",
    "        w_exc = Gexc * 1e-3              # We convert conductances to uS\n",
    "        w_inh = Ginh * 1e-3\n",
    "        print(Gexc, Ginh)\n",
    "        print(w_exc, w_inh)\n",
    "        print(pconn)\n",
    "        pops = self.pops\n",
    "        exc_synapses = sim.StaticSynapse(weight=w_exc, delay=delay)\n",
    "        inh_synapses = sim.StaticSynapse(weight=w_inh, delay=delay)\n",
    "\n",
    "        exc_conn = sim.FixedProbabilityConnector(pconn, rng=rng)\n",
    "        inh_conn = sim.FixedProbabilityConnector(pconn, rng=rng)\n",
    "        connections = {\n",
    "\n",
    "            'e2e': sim.Projection(\n",
    "                pops['exc'],\n",
    "                pops['exc'],\n",
    "                exc_conn,\n",
    "                receptor_type='excitatory',\n",
    "                synapse_type=exc_synapses),\n",
    "\n",
    "            'e2i': sim.Projection(\n",
    "                pops['exc'],\n",
    "                pops['inh'],\n",
    "                exc_conn,\n",
    "                receptor_type='excitatory',\n",
    "                synapse_type=exc_synapses),\n",
    "\n",
    "            'i2e': sim.Projection(\n",
    "                pops['inh'],\n",
    "                pops['exc'],\n",
    "            inh_conn,\n",
    "            receptor_type='inhibitory',\n",
    "            synapse_type=inh_synapses),\n",
    "\n",
    "            'i2i': sim.Projection(\n",
    "                pops['inh'],\n",
    "                pops['inh'],\n",
    "                inh_conn,\n",
    "                receptor_type='inhibitory',\n",
    "                synapse_type=inh_synapses)\n",
    "\n",
    "                }\n",
    "\n",
    "        connections.keys()\n",
    "        n_thalamic_cells = 20\n",
    "        stim_dur = 50.    # (ms) duration of random stimulation\n",
    "        rate = 100.       # (Hz) frequency of the random stimulation\n",
    "\n",
    "        exc_conn = None\n",
    "\n",
    "        pops['thalamus'] = sim.Population(\n",
    "            n_thalamic_cells,\n",
    "            sim.SpikeSourcePoisson(rate=rate, duration=stim_dur),\n",
    "            label=\"expoisson\")\n",
    "        pops['thalamus'].record(\"spikes\")\n",
    "\n",
    "\n",
    "        rconn = 0.01\n",
    "        ext_conn = sim.FixedProbabilityConnector(rconn)\n",
    "\n",
    "        connections['ext2e'] = sim.Projection(\n",
    "            pops['thalamus'],\n",
    "            pops['exc'],\n",
    "            ext_conn,\n",
    "            receptor_type='excitatory',\n",
    "            synapse_type=sim.StaticSynapse(weight=0.1))\n",
    "\n",
    "        connections['ext2i'] = sim.Projection(\n",
    "            pops['thalamus'],\n",
    "            pops['inh'],\n",
    "            ext_conn,\n",
    "            receptor_type='excitatory',\n",
    "            synapse_type=sim.StaticSynapse(weight=0.1))\n",
    "\n",
    "        connections.keys(), pops.keys()\n",
    "        \n",
    "\n",
    "    def run_simulation(self):\n",
    "        tstop = 50 # (ms)\n",
    "        # simulation run\n",
    "        tic = time.time()\n",
    "        self.sim.run(tstop)\n",
    "        toc = time.time() - tic\n",
    "    \n",
    "    def experiments(self):\n",
    "        for x in self.param.keys():\n",
    "            for y in self.param[x].keys():\n",
    "                print(x, y)\n",
    "                if x == 'r_ei':\n",
    "                    r_ei=self.param[x][y]\n",
    "                else:\n",
    "                    r_ei=self.param['r_ei']['default']\n",
    "\n",
    "                if x == 'pconn':\n",
    "                    pconn = self.param[x][y]\n",
    "                else:\n",
    "                    pconn = self.param['pconn']['default']\n",
    "\n",
    "                if x == 'Gexc':\n",
    "                    Gexc = self.param[x][y]\n",
    "                else:\n",
    "                    Gexc = self.param['Gexc']['default']\n",
    "\n",
    "                if x == 'Ginh':\n",
    "                    Ginh = self.param[x][y]\n",
    "                else:\n",
    "                    Ginh = self.param['Ginh']['default']\n",
    "\n",
    "                self.create_populations(r_ei)\n",
    "                self.create_connections(pconn, Gexc, Ginh)\n",
    "                self.run_simulation()\n",
    "                self.save_results(f'{saveName}-{x}-{y}.pkl', recover_results(sim.get_output()))\n",
    "                \n",
    "    def save_results(self, pops, filename):\n",
    "        stateVars = {}\n",
    "        for pop in pops.keys():\n",
    "            print(pop)\n",
    "            for recording in ['v', 'gsyn_inh', 'gsyn_exc', 'spikes']:\n",
    "                print(recording)\n",
    "                pops[pop].write_data(filename)\n",
    "                stateVars[pop]=pops[pop].get_data().segments[0]\n",
    "        "
   ]
  },
  {
   "cell_type": "code",
   "execution_count": null,
   "metadata": {},
   "outputs": [],
   "source": [
    "exp = simulations(sim, celltype, cell_params, rng, param)\n",
    "exp.experiments()"
   ]
  },
  {
   "cell_type": "code",
   "execution_count": null,
   "metadata": {
    "id": "HeW4Qa3411tE"
   },
   "outputs": [],
   "source": [
    "n = 1500          # number of cells\n",
    "r_ei = 4.0        # number of excitatory cells:number of inhibitory cells\n",
    "n_exc = int(round((n * r_ei / (1 + r_ei))))  # number of excitatory cells\n",
    "n_inh = n - n_exc                            # number of inhibitory cells\n",
    "print(\"{} {}\".format(n_exc, n_inh))\n",
    "\n",
    "pops = {\n",
    "    'exc': sim.Population(\n",
    "                                n_exc,\n",
    "                                celltype(**cell_params),\n",
    "                                label=\"Excitatory_Cells\"),\n",
    "\n",
    "    'inh': sim.Population(\n",
    "                                n_inh,\n",
    "                                celltype(**cell_params),\n",
    "                                label=\"Inhibitory_Cells\")\n",
    "}\n",
    "\n",
    "pops['exc'].record([\"spikes\", 'v', 'gsyn_exc', 'gsyn_inh'])\n",
    "pops['inh'].record([\"spikes\", 'v', 'gsyn_exc', 'gsyn_inh'])\n",
    "\n",
    "\n",
    "uniformDistr = RandomDistribution('uniform', [v_reset, v_thresh], rng=rng)\n",
    "pops['exc'].initialize(v=uniformDistr)\n",
    "pops['inh'].initialize(v=uniformDistr)\n",
    "\n",
    "#sim.set_number_of_neurons_per_core(sim.IF_cond_exp, 50)      # this will set\n",
    "# 50 neurons per core\n",
    "pops.keys()"
   ]
  },
  {
   "cell_type": "markdown",
   "metadata": {
    "id": "UTev0CpO11tF"
   },
   "source": [
    "# step4: define the synapse types"
   ]
  },
  {
   "cell_type": "code",
   "execution_count": null,
   "metadata": {
    "id": "LPj8I_hd11tF"
   },
   "outputs": [],
   "source": [
    "# Synapse parameters\n",
    "Gexc = None\n",
    "Ginh = None\n",
    "Gexc = 4.     # (nS) #1\n",
    "Ginh = 51.    # (nS) #1\n",
    "w_exc = Gexc * 1e-3              # We convert conductances to uS\n",
    "w_inh = Ginh * 1e-3\n",
    "\n",
    "exc_synapses = sim.StaticSynapse(weight=w_exc, delay=delay)\n",
    "inh_synapses = sim.StaticSynapse(weight=w_inh, delay=delay)"
   ]
  },
  {
   "cell_type": "markdown",
   "metadata": {
    "id": "DSPpc2U711tG"
   },
   "source": [
    "# step5: select the connections algorithm"
   ]
  },
  {
   "cell_type": "code",
   "execution_count": null,
   "metadata": {
    "id": "kPixtrI811tG"
   },
   "outputs": [],
   "source": [
    "pconn = 0.02      # connection probability (2%)\n",
    "\n",
    "exc_conn = sim.FixedProbabilityConnector(pconn, rng=rng)\n",
    "inh_conn = sim.FixedProbabilityConnector(pconn, rng=rng)"
   ]
  },
  {
   "cell_type": "markdown",
   "metadata": {
    "id": "xWjuYQmj11tG"
   },
   "source": [
    "# step6: make the projections"
   ]
  },
  {
   "cell_type": "code",
   "execution_count": null,
   "metadata": {
    "id": "y_LOjddX11tH"
   },
   "outputs": [],
   "source": [
    "connections = {\n",
    "\n",
    "    'e2e': sim.Projection(\n",
    "        pops['exc'],\n",
    "        pops['exc'],\n",
    "        exc_conn,\n",
    "        receptor_type='excitatory',\n",
    "        synapse_type=exc_synapses),\n",
    "\n",
    "    'e2i': sim.Projection(\n",
    "        pops['exc'],\n",
    "        pops['inh'],\n",
    "        exc_conn,\n",
    "        receptor_type='excitatory',\n",
    "        synapse_type=exc_synapses),\n",
    "\n",
    "    'i2e': sim.Projection(\n",
    "        pops['inh'],\n",
    "        pops['exc'],\n",
    "        inh_conn,\n",
    "        receptor_type='inhibitory',\n",
    "        synapse_type=inh_synapses),\n",
    "\n",
    "    'i2i': sim.Projection(\n",
    "        pops['inh'],\n",
    "        pops['inh'],\n",
    "        inh_conn,\n",
    "        receptor_type='inhibitory',\n",
    "        synapse_type=inh_synapses)\n",
    "\n",
    "        }\n",
    "\n",
    "connections.keys()"
   ]
  },
  {
   "cell_type": "markdown",
   "metadata": {
    "id": "FSG0tcCv11tH"
   },
   "source": [
    "# step7: setting the thalamic stimulus"
   ]
  },
  {
   "cell_type": "code",
   "execution_count": null,
   "metadata": {
    "id": "1eJHQ6R011tH"
   },
   "outputs": [],
   "source": [
    "n_thalamic_cells = 20\n",
    "stim_dur = 50.    # (ms) duration of random stimulation\n",
    "rate = 100.       # (Hz) frequency of the random stimulation\n",
    "\n",
    "exc_conn = None\n",
    "\n",
    "pops['thalamus'] = sim.Population(\n",
    "    n_thalamic_cells,\n",
    "    sim.SpikeSourcePoisson(rate=rate, duration=stim_dur),\n",
    "    label=\"expoisson\")\n",
    "pops['thalamus'].record(\"spikes\")\n",
    "\n",
    "\n",
    "rconn = 0.01\n",
    "ext_conn = sim.FixedProbabilityConnector(rconn)\n",
    "\n",
    "connections['ext2e'] = sim.Projection(\n",
    "    pops['thalamus'],\n",
    "    pops['exc'],\n",
    "    ext_conn,\n",
    "    receptor_type='excitatory',\n",
    "    synapse_type=sim.StaticSynapse(weight=0.1))\n",
    "\n",
    "connections['ext2i'] = sim.Projection(\n",
    "    pops['thalamus'],\n",
    "    pops['inh'],\n",
    "    ext_conn,\n",
    "    receptor_type='excitatory',\n",
    "    synapse_type=sim.StaticSynapse(weight=0.1))\n",
    "\n",
    "connections.keys(), pops.keys()"
   ]
  },
  {
   "cell_type": "markdown",
   "metadata": {
    "id": "9kC67fki11tI"
   },
   "source": [
    "# step8: run simulation"
   ]
  },
  {
   "cell_type": "code",
   "execution_count": null,
   "metadata": {
    "id": "qvieatFs11tI"
   },
   "outputs": [],
   "source": [
    "tstop = 1000 # (ms)\n",
    "# simulation run\n",
    "\n",
    "tic = time.time()\n",
    "sim.run(tstop)\n",
    "toc = time.time() - tic"
   ]
  },
  {
   "cell_type": "markdown",
   "metadata": {
    "id": "xYZtclhq11tI"
   },
   "source": [
    "# step9: save results"
   ]
  },
  {
   "cell_type": "code",
   "execution_count": null,
   "metadata": {
    "id": "NH17X9Yn11tI"
   },
   "outputs": [],
   "source": [
    "stateVars = {}\n",
    "for pop in pops.keys():\n",
    "    for recording in ['v', 'gsyn_inh', 'gsyn_exc', 'spikes']:\n",
    "        pops[pop].write_data(f'{saveName}-{recording}.pkl')\n",
    "        stateVars[pop]=pops[pop].get_data()\n",
    "\n"
   ]
  },
  {
   "cell_type": "markdown",
   "metadata": {
    "id": "l0SFpU1n11tJ"
   },
   "source": [
    "# step10: recover results"
   ]
  },
  {
   "cell_type": "code",
   "execution_count": null,
   "metadata": {
    "id": "J7PsCajS11tJ"
   },
   "outputs": [],
   "source": [
    "stateVars.keys()\n",
    "results = recover_results(stateVars)\n",
    "results.keys()"
   ]
  },
  {
   "cell_type": "code",
   "execution_count": null,
   "metadata": {
    "id": "-Xe0BZqe11tJ"
   },
   "outputs": [],
   "source": []
  },
  {
   "cell_type": "markdown",
   "metadata": {
    "id": "jpVD5fwW11tJ"
   },
   "source": [
    "# step11: postprocessing (looking at the results)"
   ]
  },
  {
   "cell_type": "code",
   "execution_count": null,
   "metadata": {
    "id": "gspojw2L11tJ"
   },
   "outputs": [],
   "source": [
    "from pyNN.utility.plotting import Figure, Panel\n",
    "\n",
    "Figure(\n",
    "    # raster plot of the presynaptic neuron spike times\n",
    "    Panel(stateVars['exc'].segments[0].spiketrains, xlabel=\"Time/ms\", xticks=True,\n",
    "          yticks=True, markersize=0.2, xlim=(0, tstop)),\n",
    "    title=\"Vogels-Abbott benchmark: excitatory cells spikes\")\n"
   ]
  },
  {
   "cell_type": "code",
   "execution_count": null,
   "metadata": {
    "id": "974AZOr211tK"
   },
   "outputs": [],
   "source": [
    "### from pyNN.utility.plotting import Figure, Panel\n",
    "\n",
    "Figure(\n",
    "    # raster plot of the presynaptic neuron spike times\n",
    "    Panel(stateVars['exc'].segments[0].spiketrains, xlabel=\"Time (ms)\", xticks=True,\n",
    "          yticks=True, markersize=0.2, xlim=(0, tstop)),\n",
    "    title=\"Vogels-Abbott benchmark: inhibitory cells spikes\")\n"
   ]
  },
  {
   "cell_type": "code",
   "execution_count": null,
   "metadata": {
    "id": "3Vcdu2DH11tK"
   },
   "outputs": [],
   "source": [
    "# classic matplotlib rasterplot function\n",
    "\n",
    "fig, ax = plt.subplots(2,1, sharex=True, figsize=(9,5))\n",
    "p0=ax[0].eventplot(results['exc', 'spikes'], color='green')\n",
    "p1=ax[1].eventplot(results['inh', 'spikes'], color='red')\n",
    "[ax[i].set_xlabel('Time (ms)', fontsize=14) for i in [0,1]]\n",
    "[ax[i].set_ylabel(feat, fontsize=14) for i, feat in enumerate(['Excitatory cells', 'Inhibitory cells'])]"
   ]
  },
  {
   "cell_type": "code",
   "execution_count": null,
   "metadata": {
    "id": "UCQMi6jv11tL"
   },
   "outputs": [],
   "source": [
    "# check spikes\n",
    "\n",
    "spike_rate = {\n",
    "    'exc': pops['exc'].get_spike_counts(),\n",
    "    'inh': pops['inh'].get_spike_counts()\n",
    "}\n",
    "\n",
    "idx=50\n",
    "pop = 'exc'\n",
    "print(pop + ' cell ' + str(idx) + ' :', spike_rate[pop][idx], 'spikes/' + str(tstop) + 'ms')"
   ]
  },
  {
   "cell_type": "code",
   "execution_count": null,
   "metadata": {
    "id": "pxJBYIoj11tL"
   },
   "outputs": [],
   "source": [
    "# check conductances and membrane voltage potentials\n",
    "\n",
    "import numpy as np\n",
    "import matplotlib.pyplot as plt\n",
    "\n",
    "fig, ax = plt.subplots(1,3,figsize=(11,4), sharey=True, sharex=False)\n",
    "ax = ax.flatten()\n",
    "p=ax[0].hist(np.asarray(results['exc', 'v']).ravel(), 100, label='exc', log=False)\n",
    "p=ax[1].hist(np.asarray(results['exc', 'gsyn_exc']).ravel(), 100, label='exc')\n",
    "p=ax[2].hist(np.asarray(results['exc', 'gsyn_inh']).ravel(), 100, label='exc')\n",
    "\n",
    "p=ax[0].hist(np.asarray(results['inh', 'v']).ravel(), 100, label='inh')\n",
    "p=ax[1].hist(np.asarray(results['inh', 'gsyn_exc']).ravel(), 100, label='inh')\n",
    "p=ax[2].hist(np.asarray(results['inh', 'gsyn_inh']).ravel(), 100, label='inh')\n",
    "\n",
    "ax[0].set_xlim(-90,-40)\n",
    "ax[1].set_xlim(0,0.2)\n",
    "ax[2].set_xlim(0,0.5)\n",
    "\n",
    "[ax[i].legend() for i in [0,1,2]]\n",
    "\n",
    "[ax[i].set_ylabel('excitatory cells', fontsize=14) for i in [0,1]]\n",
    "ax[2].set_ylabel('inhibitory cells', fontsize=14)\n",
    "[ax[idx].set_xlabel(feat, fontsize=14) for idx, feat in enumerate(['membrane potential [mV]', 'gsyn_exc [uS]', 'gsyn_inh [uS]'])]"
   ]
  },
  {
   "cell_type": "code",
   "execution_count": null,
   "metadata": {
    "id": "SUhkPBjH11tL"
   },
   "outputs": [],
   "source": [
    "# voltage in excitatory pop\n",
    "\n",
    "fig, ax = plt.subplots(1,3, figsize=(13,4), sharey=True, sharex=True)\n",
    "ax = ax.flatten()\n",
    "\n",
    "p = {}\n",
    "for idx, feat in enumerate(['v', 'gsyn_exc', 'gsyn_inh']):\n",
    "    p[idx] = ax[idx].imshow(np.asarray(results['exc', feat]).T,  norm=colors.PowerNorm(gamma= 0.75))\n",
    "\n",
    "[fig.colorbar(p[idx], ax=ax[idx], shrink=0.5) for idx in [0,1,2]]\n",
    "\n",
    "[ax[i].set_xlabel('time [ms]', fontsize=14) for i in [0,1,2]]\n",
    "[ax[i].set_ylabel('excitatory cells', fontsize=14) for i in [0,1,2]]\n",
    "[ax[idx].set_title(feat, fontsize=14) for idx, feat in enumerate(['membrane potential [mV]', 'gsyn_exc [uS]', 'gsyn_inh [uS]'])]\n",
    "\n",
    "p.keys()"
   ]
  },
  {
   "cell_type": "code",
   "execution_count": null,
   "metadata": {
    "id": "qiqYeJhA11tL"
   },
   "outputs": [],
   "source": [
    "# voltage in inhibitory pop\n",
    "\n",
    "fig, ax = plt.subplots(3,1, figsize=(11,11), sharey=True, sharex=False)\n",
    "ax = ax.flatten()\n",
    "\n",
    "p = {}\n",
    "for idx, feat in enumerate(['v', 'gsyn_exc', 'gsyn_inh']):\n",
    "    p[idx] = ax[idx].imshow(np.asarray(results['inh', feat]).T,  norm=colors.PowerNorm(gamma= 0.75))\n",
    "\n",
    "[fig.colorbar(p[idx], ax=ax[idx], shrink=0.6) for idx in [0,1,2]]\n",
    "\n",
    "[ax[i].set_xlabel('time [ms]', fontsize=14) for i in [0,1,2]]\n",
    "[ax[i].set_ylabel('inhibitory cells', fontsize=14) for i in [0,1,2]]\n",
    "[ax[idx].set_title(feat, fontsize=14) for idx, feat in enumerate(['membrane potential [mV]', 'gsyn_exc [uS]', 'gsyn_inh [uS]'])]\n",
    "\n",
    "rasterplot=False\n",
    "if rasterplot:\n",
    "    for i in [0,1,2]:\n",
    "        ax[i].eventplot(results['inh', 'spikes'])\n"
   ]
  },
  {
   "cell_type": "code",
   "execution_count": null,
   "metadata": {
    "id": "lXeD-3I-11tL"
   },
   "outputs": [],
   "source": [
    "# signal processing step, statistics, information theory tools, etc\n"
   ]
  },
  {
   "cell_type": "markdown",
   "metadata": {
    "id": "wR24f5D611tL"
   },
   "source": [
    "# step12: close simulation\n"
   ]
  },
  {
   "cell_type": "code",
   "execution_count": null,
   "metadata": {
    "id": "JSFb2gP011tL"
   },
   "outputs": [],
   "source": [
    "# if you run it, you cannot reload some cells, but it is needed to restart the overall simulation\n",
    "\n",
    "sim.end()"
   ]
  },
  {
   "cell_type": "markdown",
   "metadata": {
    "id": "fj69pzWd11tM"
   },
   "source": [
    "## Task 1: on the self sustained acitivity conditions\n",
    "\n",
    "- in the image below, the panel a) shows the sustained activity conditions of the network. <br>\n",
    "  Try different set of weights combinations for discovering different functional network configurations"
   ]
  },
  {
   "cell_type": "markdown",
   "metadata": {
    "id": "t74NMwsw11tN"
   },
   "source": [
    "<img src=\"../extra/VA_EXC_BALANCE.png\">\n"
   ]
  },
  {
   "cell_type": "markdown",
   "metadata": {
    "id": "cJsY4ZOc11tN"
   },
   "source": [
    "- image taken from Vogels & Abbott (J. Neurosci, 2005) https://www.ncbi.nlm.nih.gov/pmc/articles/PMC6725859/,"
   ]
  }
 ],
 "metadata": {
  "colab": {
   "provenance": []
  },
  "kernelspec": {
   "display_name": "Python 3",
   "language": "python",
   "name": "python3"
  },
  "language_info": {
   "codemirror_mode": {
    "name": "ipython",
    "version": 3
   },
   "file_extension": ".py",
   "mimetype": "text/x-python",
   "name": "python",
   "nbconvert_exporter": "python",
   "pygments_lexer": "ipython3",
   "version": "3.8.5"
  }
 },
 "nbformat": 4,
 "nbformat_minor": 4
}
